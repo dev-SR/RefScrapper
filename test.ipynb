{
 "cells": [
  {
   "cell_type": "code",
   "execution_count": 1,
   "metadata": {},
   "outputs": [],
   "source": [
    "import pandas as pd\n",
    "from pprint import pprint\n",
    "from IPython.display import display"
   ]
  },
  {
   "attachments": {},
   "cell_type": "markdown",
   "metadata": {},
   "source": [
    "## Misc."
   ]
  },
  {
   "cell_type": "code",
   "execution_count": 16,
   "metadata": {},
   "outputs": [
    {
     "data": {
      "text/plain": [
       "'92c8cf44-8986-4f87-b142-1c0e502df180'"
      ]
     },
     "execution_count": 16,
     "metadata": {},
     "output_type": "execute_result"
    }
   ],
   "source": [
    "from uuid import uuid4\n"
   ]
  },
  {
   "cell_type": "code",
   "execution_count": 5,
   "metadata": {},
   "outputs": [
    {
     "data": {
      "text/plain": [
       "[{'name': 'Muhammad Aminur Rahaman',\n",
       "  'profile_link': 'https://www.researchgate.net/profile/Muhammad-Rahaman-3/research',\n",
       "  'done': 0}]"
      ]
     },
     "execution_count": 5,
     "metadata": {},
     "output_type": "execute_result"
    }
   ],
   "source": [
    "profiles = pd.read_csv(\"data/info/authors.csv\")\n",
    "profiles = profiles.query(\"done == 0\")\n",
    "profiles.to_dict(orient='records')"
   ]
  },
  {
   "cell_type": "code",
   "execution_count": 18,
   "metadata": {},
   "outputs": [
    {
     "data": {
      "text/plain": [
       "['data/paper_titles_abs\\\\Dr. Faiz Al Faisal.csv',\n",
       " 'data/paper_titles_abs\\\\Dr. Muhammad Aminur Rahaman.csv',\n",
       " 'data/paper_titles_abs\\\\Mufti Mahmud.csv',\n",
       " 'data/paper_titles_abs\\\\Prof. Dr. Md. Zahidul Islam.csv']"
      ]
     },
     "execution_count": 18,
     "metadata": {},
     "output_type": "execute_result"
    }
   ],
   "source": [
    "import glob\n",
    "authors = glob.glob(\"data/paper_titles_abs/*\")\n",
    "authors"
   ]
  },
  {
   "cell_type": "code",
   "execution_count": 14,
   "metadata": {},
   "outputs": [
    {
     "data": {
      "text/plain": [
       "{'name': 'An Extensive Power and Performance Analysis for High Dimensional Mesh and Torus Interconnection Networks',\n",
       " 'paper_link': 'https://www.researchgate.net/publication/370025163_An_Extensive_Power_and_Performance_Analysis_for_High_Dimensional_Mesh_and_Torus_Interconnection_Networks?_sg%5B0%5D=INT-_Cj5PJJEXMBT35yb3yyg1j1Vfmhcwi2e0KyfYUJ4Q_bgbyDv1d1qy3iBZnwg7eueO8RxTgRspHOS-UlblDwkhzCKKDmnKjx-70My.LkttZGKSVRxiZK_fR0xNvnv_-PLvsumoNZc_8MQgd8oFFHnQNMRRb5fAtIbk0ZV6W-IDzpXZgwa1VWiWSovIzQ',\n",
       " 'date_time': '2023-01-01T00:00:00.000Z',\n",
       " 'abstract': nan,\n",
       " 'done': 0}"
      ]
     },
     "execution_count": 14,
     "metadata": {},
     "output_type": "execute_result"
    }
   ],
   "source": [
    "author_df = pd.read_csv(authors[0])\n",
    "author_df.to_dict(orient='records')[0]"
   ]
  },
  {
   "attachments": {},
   "cell_type": "markdown",
   "metadata": {},
   "source": [
    "## Create Paper Scrapper Queue"
   ]
  },
  {
   "cell_type": "code",
   "execution_count": 150,
   "metadata": {},
   "outputs": [
    {
     "data": {
      "text/html": [
       "<div>\n",
       "<style scoped>\n",
       "    .dataframe tbody tr th:only-of-type {\n",
       "        vertical-align: middle;\n",
       "    }\n",
       "\n",
       "    .dataframe tbody tr th {\n",
       "        vertical-align: top;\n",
       "    }\n",
       "\n",
       "    .dataframe thead th {\n",
       "        text-align: right;\n",
       "    }\n",
       "</style>\n",
       "<table border=\"1\" class=\"dataframe\">\n",
       "  <thead>\n",
       "    <tr style=\"text-align: right;\">\n",
       "      <th></th>\n",
       "      <th>id</th>\n",
       "      <th>parent_id</th>\n",
       "      <th>name</th>\n",
       "      <th>paper_link</th>\n",
       "    </tr>\n",
       "  </thead>\n",
       "  <tbody>\n",
       "    <tr>\n",
       "      <th>0</th>\n",
       "      <td>9162e667-b20b-46cb-8137-50b5725f5f35</td>\n",
       "      <td>c00745ce-292b-4b87-bbf0-84bac3e7ab64</td>\n",
       "      <td>Single Document Keyphrase Extraction Using Nei...</td>\n",
       "      <td>https://www.researchgate.net/publication/20004...</td>\n",
       "    </tr>\n",
       "    <tr>\n",
       "      <th>1</th>\n",
       "      <td>9eed0d1b-90b8-436b-84b8-0d33671373d4</td>\n",
       "      <td>c00745ce-292b-4b87-bbf0-84bac3e7ab64</td>\n",
       "      <td>Domain-independent automatic keyphrase indexin...</td>\n",
       "      <td>https://www.researchgate.net/publication/33051...</td>\n",
       "    </tr>\n",
       "  </tbody>\n",
       "</table>\n",
       "</div>"
      ],
      "text/plain": [
       "                                     id                             parent_id  \\\n",
       "0  9162e667-b20b-46cb-8137-50b5725f5f35  c00745ce-292b-4b87-bbf0-84bac3e7ab64   \n",
       "1  9eed0d1b-90b8-436b-84b8-0d33671373d4  c00745ce-292b-4b87-bbf0-84bac3e7ab64   \n",
       "\n",
       "                                                name  \\\n",
       "0  Single Document Keyphrase Extraction Using Nei...   \n",
       "1  Domain-independent automatic keyphrase indexin...   \n",
       "\n",
       "                                          paper_link  \n",
       "0  https://www.researchgate.net/publication/20004...  \n",
       "1  https://www.researchgate.net/publication/33051...  "
      ]
     },
     "execution_count": 150,
     "metadata": {},
     "output_type": "execute_result"
    }
   ],
   "source": [
    "wt = pd.read_csv(\"data/info/waiting_list_ref.csv\")\n",
    "wt.head(n=2)"
   ]
  },
  {
   "cell_type": "code",
   "execution_count": 103,
   "metadata": {},
   "outputs": [
    {
     "data": {
      "text/html": [
       "<div>\n",
       "<style scoped>\n",
       "    .dataframe tbody tr th:only-of-type {\n",
       "        vertical-align: middle;\n",
       "    }\n",
       "\n",
       "    .dataframe tbody tr th {\n",
       "        vertical-align: top;\n",
       "    }\n",
       "\n",
       "    .dataframe thead th {\n",
       "        text-align: right;\n",
       "    }\n",
       "</style>\n",
       "<table border=\"1\" class=\"dataframe\">\n",
       "  <thead>\n",
       "    <tr style=\"text-align: right;\">\n",
       "      <th></th>\n",
       "      <th>id</th>\n",
       "      <th>parent_id</th>\n",
       "      <th>name</th>\n",
       "      <th>paper_link</th>\n",
       "    </tr>\n",
       "  </thead>\n",
       "  <tbody>\n",
       "    <tr>\n",
       "      <th>0</th>\n",
       "      <td>8bde6cb8-296d-4593-883f-b768103e1e69</td>\n",
       "      <td>NaN</td>\n",
       "      <td>PositionRank: An Unsupervised Approach to Keyp...</td>\n",
       "      <td>https://www.researchgate.net/publication/31859...</td>\n",
       "    </tr>\n",
       "    <tr>\n",
       "      <th>1</th>\n",
       "      <td>f4d6b37e-f875-4d6a-9323-aa0dd22a7513</td>\n",
       "      <td>8bde6cb8-296d-4593-883f-b768103e1e69</td>\n",
       "      <td>Unsupervised Keyphrase Extraction: Introducing...</td>\n",
       "      <td>https://www.researchgate.net/publication/31109...</td>\n",
       "    </tr>\n",
       "  </tbody>\n",
       "</table>\n",
       "</div>"
      ],
      "text/plain": [
       "                                     id                             parent_id  \\\n",
       "0  8bde6cb8-296d-4593-883f-b768103e1e69                                   NaN   \n",
       "1  f4d6b37e-f875-4d6a-9323-aa0dd22a7513  8bde6cb8-296d-4593-883f-b768103e1e69   \n",
       "\n",
       "                                                name  \\\n",
       "0  PositionRank: An Unsupervised Approach to Keyp...   \n",
       "1  Unsupervised Keyphrase Extraction: Introducing...   \n",
       "\n",
       "                                          paper_link  \n",
       "0  https://www.researchgate.net/publication/31859...  \n",
       "1  https://www.researchgate.net/publication/31109...  "
      ]
     },
     "execution_count": 103,
     "metadata": {},
     "output_type": "execute_result"
    }
   ],
   "source": [
    "done = pd.read_csv(\"data/info/done_list_ref.csv\")\n",
    "done.head(n=2)\n"
   ]
  },
  {
   "cell_type": "code",
   "execution_count": 104,
   "metadata": {},
   "outputs": [
    {
     "name": "stdout",
     "output_type": "stream",
     "text": [
      "218\n"
     ]
    }
   ],
   "source": [
    "# find empty cell\n",
    "c = 0\n",
    "for i,row in wt.iterrows():\n",
    "\tif pd.isnull(row['paper_link']):\n",
    "\t\tc += 1\n",
    "print(c)"
   ]
  },
  {
   "cell_type": "code",
   "execution_count": 67,
   "metadata": {},
   "outputs": [],
   "source": [
    "# wt.fillna('', inplace=True)"
   ]
  },
  {
   "cell_type": "code",
   "execution_count": 106,
   "metadata": {},
   "outputs": [
    {
     "name": "stdout",
     "output_type": "stream",
     "text": [
      "0\n"
     ]
    }
   ],
   "source": [
    "# find empty cell\n",
    "# c = 0\n",
    "# for i, row in wt.iterrows():\n",
    "# \tif row['paper_link'] == '':\n",
    "# \t\tc += 1\n",
    "# print(c)\n"
   ]
  },
  {
   "cell_type": "code",
   "execution_count": 151,
   "metadata": {},
   "outputs": [
    {
     "data": {
      "text/plain": [
       "{'id': '9162e667-b20b-46cb-8137-50b5725f5f35',\n",
       " 'parent_id': 'c00745ce-292b-4b87-bbf0-84bac3e7ab64',\n",
       " 'name': 'Single Document Keyphrase Extraction Using Neighborhood Knowledge.',\n",
       " 'paper_link': 'https://www.researchgate.net/publication/200044201_Single_Document_Keyphrase_Extraction_Using_Neighborhood_Knowledge?_sg%5B0%5D=7SCYSKC-5lSEcSVbhgUAxBr5NBYZ-d3K_5UMUNPYYLlUQXWJfw53Tp0Pp2yOrhYsDISqACdAK7nzx7Y.flKB6SHcFN7C4axCzZ5LaBjZ3WrQzyvYEYCwaIpaDPMawRqnmIPvgrb8Byg26Hw5CfFLMv796K6n2JmjKkVQDQ&_sg%5B1%5D=t_3kL9fnzFd9gt_Zb-EbOpex50L8Lsk7JzVE16FLvteqFssC3DWScRbOCrZDalAYNSMR1pOFRIFqyi-N-U19DMI52N4.flKB6SHcFN7C4axCzZ5LaBjZ3WrQzyvYEYCwaIpaDPMawRqnmIPvgrb8Byg26Hw5CfFLMv796K6n2JmjKkVQDQ&_sg%5B2%5D=3SaI8AsSxIqgBVkImy__D10oyR8bkgvxCMtWfCYxtJveoWrjV3YtpCEkQo4ewSo-xe_MJoS8IBXVS-SLeQ.flKB6SHcFN7C4axCzZ5LaBjZ3WrQzyvYEYCwaIpaDPMawRqnmIPvgrb8Byg26Hw5CfFLMv796K6n2JmjKkVQDQ&_sgd%5Bpr%5D=1'}"
      ]
     },
     "execution_count": 151,
     "metadata": {},
     "output_type": "execute_result"
    }
   ],
   "source": [
    "wt = wt.to_dict(orient='records')\n",
    "wt[0]"
   ]
  },
  {
   "cell_type": "code",
   "execution_count": 152,
   "metadata": {},
   "outputs": [
    {
     "name": "stdout",
     "output_type": "stream",
     "text": [
      "218\n"
     ]
    }
   ],
   "source": [
    "import math\n",
    "c = 0\n",
    "idx = []\n",
    "for i,v in enumerate(wt):\n",
    "\ttry:\n",
    "\t\tif math.isnan(v['paper_link']):\n",
    "\t\t\tc+=1\n",
    "\t\t\tidx.append(i)\n",
    "\texcept:\n",
    "\t\tpass\n",
    "print(c)\n",
    "# print(idx)"
   ]
  },
  {
   "cell_type": "code",
   "execution_count": 154,
   "metadata": {},
   "outputs": [
    {
     "name": "stdout",
     "output_type": "stream",
     "text": [
      "218\n"
     ]
    }
   ],
   "source": [
    "c =0\n",
    "for i,v in enumerate(wt):\n",
    "\tif pd.isna(v['paper_link']):\n",
    "\t\tc+=1\n",
    "print(c)"
   ]
  },
  {
   "cell_type": "code",
   "execution_count": 157,
   "metadata": {},
   "outputs": [
    {
     "name": "stdout",
     "output_type": "stream",
     "text": [
      "10\n"
     ]
    }
   ],
   "source": [
    "info_wt = pd.read_csv(\"data/info/info_waiting.csv\")\n",
    "info_wt_list = info_wt.to_dict(orient='records')\n",
    "import math\n",
    "c = 0\n",
    "for i, v in enumerate(info_wt_list):\n",
    "\tif pd.isna(v['paper_link']):\n",
    "\t\tc+=1\n",
    "print(c)\n",
    "# print(idx)\n"
   ]
  },
  {
   "cell_type": "code",
   "execution_count": 109,
   "metadata": {},
   "outputs": [
    {
     "name": "stdout",
     "output_type": "stream",
     "text": [
      "Still 2289 missing\n",
      "0 empty links\n"
     ]
    }
   ],
   "source": [
    "missingList = []\n",
    "for i, row in wt.iterrows():\n",
    "\tmissingList.append(row.to_dict())\n",
    "c = 0\n",
    "for m in missingList:\n",
    "\t# check empty link\n",
    "\tif m['paper_link'] == 'nan':\n",
    "\t\tc+=1\n",
    "\t# print(m['paper_link'])\n",
    "\t\n",
    "\n",
    "print(f\"Still {len(missingList)} missing\")\n",
    "# missingList[:1]\n",
    "print(f\"{c} empty links\")\n"
   ]
  },
  {
   "cell_type": "code",
   "execution_count": 84,
   "metadata": {},
   "outputs": [
    {
     "data": {
      "text/plain": [
       "{'id': '506efbb3-9e14-45ed-9ac4-de8da14b5f83',\n",
       " 'parent_id': 'c00745ce-292b-4b87-bbf0-84bac3e7ab64',\n",
       " 'name': 'Pianta, E., & Tonelli, S. 2010. KX: A flexible system for keyphrase extraction. In Proceedings of the 5th international workshop on semantic evaluation (pp. 170-173). Association for Computational Linguistics.',\n",
       " 'paper_link': nan}"
      ]
     },
     "execution_count": 84,
     "metadata": {},
     "output_type": "execute_result"
    }
   ],
   "source": [
    "missingList[15]"
   ]
  },
  {
   "cell_type": "code",
   "execution_count": null,
   "metadata": {},
   "outputs": [
    {
     "data": {
      "text/html": [
       "<div>\n",
       "<style scoped>\n",
       "    .dataframe tbody tr th:only-of-type {\n",
       "        vertical-align: middle;\n",
       "    }\n",
       "\n",
       "    .dataframe tbody tr th {\n",
       "        vertical-align: top;\n",
       "    }\n",
       "\n",
       "    .dataframe thead th {\n",
       "        text-align: right;\n",
       "    }\n",
       "</style>\n",
       "<table border=\"1\" class=\"dataframe\">\n",
       "  <thead>\n",
       "    <tr style=\"text-align: right;\">\n",
       "      <th></th>\n",
       "      <th>id</th>\n",
       "      <th>parent_id</th>\n",
       "      <th>name</th>\n",
       "      <th>type</th>\n",
       "      <th>paper_link</th>\n",
       "      <th>download_link</th>\n",
       "      <th>references_count</th>\n",
       "      <th>research_interest_score</th>\n",
       "      <th>citations_count</th>\n",
       "      <th>recommendations_count</th>\n",
       "      <th>reads_count</th>\n",
       "    </tr>\n",
       "  </thead>\n",
       "  <tbody>\n",
       "    <tr>\n",
       "      <th>0</th>\n",
       "      <td>12d3e768-9d41-41f8-ada5-9ee764b7ee75</td>\n",
       "      <td>8bde6cb8-296d-4593-883f-b768103e1e69</td>\n",
       "      <td>Unsupervised Keyphrase Extraction: Introducing...</td>\n",
       "      <td>Conference Paper</td>\n",
       "      <td>https://www.researchgate.net/publication/31109...</td>\n",
       "      <td>https://www.researchgate.net/profile/Tho-Le-3/...</td>\n",
       "      <td>0</td>\n",
       "      <td>0</td>\n",
       "      <td>0</td>\n",
       "      <td>0</td>\n",
       "      <td>0</td>\n",
       "    </tr>\n",
       "  </tbody>\n",
       "</table>\n",
       "</div>"
      ],
      "text/plain": [
       "                                     id                             parent_id  \\\n",
       "0  12d3e768-9d41-41f8-ada5-9ee764b7ee75  8bde6cb8-296d-4593-883f-b768103e1e69   \n",
       "\n",
       "                                                name              type  \\\n",
       "0  Unsupervised Keyphrase Extraction: Introducing...  Conference Paper   \n",
       "\n",
       "                                          paper_link  \\\n",
       "0  https://www.researchgate.net/publication/31109...   \n",
       "\n",
       "                                       download_link  references_count  \\\n",
       "0  https://www.researchgate.net/profile/Tho-Le-3/...                 0   \n",
       "\n",
       "   research_interest_score  citations_count  recommendations_count  \\\n",
       "0                        0                0                      0   \n",
       "\n",
       "   reads_count  \n",
       "0            0  "
      ]
     },
     "execution_count": 121,
     "metadata": {},
     "output_type": "execute_result"
    }
   ],
   "source": [
    "f1 = pd.read_csv(\"8bde6cb8-296d-4593-883f-b768103e1e69.csv\", index_col=0)\n",
    "f1.head(n=1)"
   ]
  },
  {
   "cell_type": "code",
   "execution_count": null,
   "metadata": {},
   "outputs": [],
   "source": [
    "newListsOfPaper = []\n",
    "for i, row in f1.iterrows():\n",
    "\t\n",
    "\tif row['id'] in done['id'].values:\n",
    "\t\tprint(f\"{row['id']} exists\")\n",
    "\telse:\n",
    "\t\tpaper = {\n",
    "\t\t\t\"id\": row['id'],\n",
    "\t\t\t\"parent_id\": row['parent_id'],\n",
    "\t\t\t\"name\": row['name'],\n",
    "\t\t}\n",
    "\t\tnewListsOfPaper.append(paper)\n",
    "\n",
    "if(len(newListsOfPaper) > 0):\n",
    "\tf1New = pd.DataFrame(newListsOfPaper)\n",
    "\tf1New.head(n=3)\n",
    "\n",
    "\t# f1New.to_csv(\"test.csv\", mode='a', header=False, index=False)\n"
   ]
  },
  {
   "attachments": {},
   "cell_type": "markdown",
   "metadata": {},
   "source": [
    "## Remove from queue"
   ]
  },
  {
   "cell_type": "code",
   "execution_count": null,
   "metadata": {},
   "outputs": [
    {
     "data": {
      "text/html": [
       "<div>\n",
       "<style scoped>\n",
       "    .dataframe tbody tr th:only-of-type {\n",
       "        vertical-align: middle;\n",
       "    }\n",
       "\n",
       "    .dataframe tbody tr th {\n",
       "        vertical-align: top;\n",
       "    }\n",
       "\n",
       "    .dataframe thead th {\n",
       "        text-align: right;\n",
       "    }\n",
       "</style>\n",
       "<table border=\"1\" class=\"dataframe\">\n",
       "  <thead>\n",
       "    <tr style=\"text-align: right;\">\n",
       "      <th></th>\n",
       "      <th>id</th>\n",
       "      <th>parent_id</th>\n",
       "      <th>name</th>\n",
       "    </tr>\n",
       "  </thead>\n",
       "  <tbody>\n",
       "    <tr>\n",
       "      <th>0</th>\n",
       "      <td>9162e667-b20b-46cb-8137-50b5725f5f35</td>\n",
       "      <td>c00745ce-292b-4b87-bbf0-84bac3e7ab64</td>\n",
       "      <td>Single Document Keyphrase Extraction Using Nei...</td>\n",
       "    </tr>\n",
       "    <tr>\n",
       "      <th>1</th>\n",
       "      <td>9eed0d1b-90b8-436b-84b8-0d33671373d4</td>\n",
       "      <td>c00745ce-292b-4b87-bbf0-84bac3e7ab64</td>\n",
       "      <td>Domain-independent automatic keyphrase indexin...</td>\n",
       "    </tr>\n",
       "    <tr>\n",
       "      <th>2</th>\n",
       "      <td>33678b3d-5ca7-4b75-b487-9fea313d8004</td>\n",
       "      <td>c00745ce-292b-4b87-bbf0-84bac3e7ab64</td>\n",
       "      <td>Google's Pagerank and Beyond: The Science of S...</td>\n",
       "    </tr>\n",
       "    <tr>\n",
       "      <th>3</th>\n",
       "      <td>96ce4858-7a70-4c74-ac16-7282798cf9d5</td>\n",
       "      <td>c00745ce-292b-4b87-bbf0-84bac3e7ab64</td>\n",
       "      <td>Google's PageRank and Beyond: The Science of S...</td>\n",
       "    </tr>\n",
       "    <tr>\n",
       "      <th>4</th>\n",
       "      <td>f4adb331-e9d2-4b1b-a66b-77d29a648d39</td>\n",
       "      <td>c00745ce-292b-4b87-bbf0-84bac3e7ab64</td>\n",
       "      <td>CorePhrase: Keyphrase Extraction for Document ...</td>\n",
       "    </tr>\n",
       "  </tbody>\n",
       "</table>\n",
       "</div>"
      ],
      "text/plain": [
       "                                     id                             parent_id  \\\n",
       "0  9162e667-b20b-46cb-8137-50b5725f5f35  c00745ce-292b-4b87-bbf0-84bac3e7ab64   \n",
       "1  9eed0d1b-90b8-436b-84b8-0d33671373d4  c00745ce-292b-4b87-bbf0-84bac3e7ab64   \n",
       "2  33678b3d-5ca7-4b75-b487-9fea313d8004  c00745ce-292b-4b87-bbf0-84bac3e7ab64   \n",
       "3  96ce4858-7a70-4c74-ac16-7282798cf9d5  c00745ce-292b-4b87-bbf0-84bac3e7ab64   \n",
       "4  f4adb331-e9d2-4b1b-a66b-77d29a648d39  c00745ce-292b-4b87-bbf0-84bac3e7ab64   \n",
       "\n",
       "                                                name  \n",
       "0  Single Document Keyphrase Extraction Using Nei...  \n",
       "1  Domain-independent automatic keyphrase indexin...  \n",
       "2  Google's Pagerank and Beyond: The Science of S...  \n",
       "3  Google's PageRank and Beyond: The Science of S...  \n",
       "4  CorePhrase: Keyphrase Extraction for Document ...  "
      ]
     },
     "execution_count": 54,
     "metadata": {},
     "output_type": "execute_result"
    }
   ],
   "source": [
    "wt = pd.read_csv(\"data/info/waiting_list_ref.csv\")\n",
    "wt.head()\n"
   ]
  },
  {
   "cell_type": "code",
   "execution_count": null,
   "metadata": {},
   "outputs": [
    {
     "data": {
      "text/html": [
       "<div>\n",
       "<style scoped>\n",
       "    .dataframe tbody tr th:only-of-type {\n",
       "        vertical-align: middle;\n",
       "    }\n",
       "\n",
       "    .dataframe tbody tr th {\n",
       "        vertical-align: top;\n",
       "    }\n",
       "\n",
       "    .dataframe thead th {\n",
       "        text-align: right;\n",
       "    }\n",
       "</style>\n",
       "<table border=\"1\" class=\"dataframe\">\n",
       "  <thead>\n",
       "    <tr style=\"text-align: right;\">\n",
       "      <th></th>\n",
       "      <th>id</th>\n",
       "      <th>parent_id</th>\n",
       "      <th>name</th>\n",
       "    </tr>\n",
       "  </thead>\n",
       "  <tbody>\n",
       "    <tr>\n",
       "      <th>0</th>\n",
       "      <td>9162e667-b20b-46cb-8137-50b5725f5f35</td>\n",
       "      <td>c00745ce-292b-4b87-bbf0-84bac3e7ab64</td>\n",
       "      <td>Single Document Keyphrase Extraction Using Nei...</td>\n",
       "    </tr>\n",
       "    <tr>\n",
       "      <th>1</th>\n",
       "      <td>9eed0d1b-90b8-436b-84b8-0d33671373d4</td>\n",
       "      <td>c00745ce-292b-4b87-bbf0-84bac3e7ab64</td>\n",
       "      <td>Domain-independent automatic keyphrase indexin...</td>\n",
       "    </tr>\n",
       "    <tr>\n",
       "      <th>2</th>\n",
       "      <td>33678b3d-5ca7-4b75-b487-9fea313d8004</td>\n",
       "      <td>c00745ce-292b-4b87-bbf0-84bac3e7ab64</td>\n",
       "      <td>Google's Pagerank and Beyond: The Science of S...</td>\n",
       "    </tr>\n",
       "    <tr>\n",
       "      <th>3</th>\n",
       "      <td>96ce4858-7a70-4c74-ac16-7282798cf9d5</td>\n",
       "      <td>c00745ce-292b-4b87-bbf0-84bac3e7ab64</td>\n",
       "      <td>Google's PageRank and Beyond: The Science of S...</td>\n",
       "    </tr>\n",
       "    <tr>\n",
       "      <th>4</th>\n",
       "      <td>f4adb331-e9d2-4b1b-a66b-77d29a648d39</td>\n",
       "      <td>c00745ce-292b-4b87-bbf0-84bac3e7ab64</td>\n",
       "      <td>CorePhrase: Keyphrase Extraction for Document ...</td>\n",
       "    </tr>\n",
       "  </tbody>\n",
       "</table>\n",
       "</div>"
      ],
      "text/plain": [
       "                                     id                             parent_id  \\\n",
       "0  9162e667-b20b-46cb-8137-50b5725f5f35  c00745ce-292b-4b87-bbf0-84bac3e7ab64   \n",
       "1  9eed0d1b-90b8-436b-84b8-0d33671373d4  c00745ce-292b-4b87-bbf0-84bac3e7ab64   \n",
       "2  33678b3d-5ca7-4b75-b487-9fea313d8004  c00745ce-292b-4b87-bbf0-84bac3e7ab64   \n",
       "3  96ce4858-7a70-4c74-ac16-7282798cf9d5  c00745ce-292b-4b87-bbf0-84bac3e7ab64   \n",
       "4  f4adb331-e9d2-4b1b-a66b-77d29a648d39  c00745ce-292b-4b87-bbf0-84bac3e7ab64   \n",
       "\n",
       "                                                name  \n",
       "0  Single Document Keyphrase Extraction Using Nei...  \n",
       "1  Domain-independent automatic keyphrase indexin...  \n",
       "2  Google's Pagerank and Beyond: The Science of S...  \n",
       "3  Google's PageRank and Beyond: The Science of S...  \n",
       "4  CorePhrase: Keyphrase Extraction for Document ...  "
      ]
     },
     "execution_count": 56,
     "metadata": {},
     "output_type": "execute_result"
    }
   ],
   "source": [
    "idx = wt.index[wt['id'] == '8bde6cb8-296d-4593-883f-b768103e1e69']\n",
    "wt.drop(index=idx, inplace=True)\n",
    "wt.head()"
   ]
  },
  {
   "cell_type": "code",
   "execution_count": null,
   "metadata": {},
   "outputs": [
    {
     "data": {
      "text/html": [
       "<div>\n",
       "<style scoped>\n",
       "    .dataframe tbody tr th:only-of-type {\n",
       "        vertical-align: middle;\n",
       "    }\n",
       "\n",
       "    .dataframe tbody tr th {\n",
       "        vertical-align: top;\n",
       "    }\n",
       "\n",
       "    .dataframe thead th {\n",
       "        text-align: right;\n",
       "    }\n",
       "</style>\n",
       "<table border=\"1\" class=\"dataframe\">\n",
       "  <thead>\n",
       "    <tr style=\"text-align: right;\">\n",
       "      <th></th>\n",
       "      <th>id</th>\n",
       "      <th>parent_id</th>\n",
       "      <th>name</th>\n",
       "    </tr>\n",
       "  </thead>\n",
       "  <tbody>\n",
       "  </tbody>\n",
       "</table>\n",
       "</div>"
      ],
      "text/plain": [
       "Empty DataFrame\n",
       "Columns: [id, parent_id, name]\n",
       "Index: []"
      ]
     },
     "execution_count": 117,
     "metadata": {},
     "output_type": "execute_result"
    }
   ],
   "source": [
    "wt[wt['id'] != \"8bde6cb8-296d-4593-883f-b768103e1e69\"]"
   ]
  },
  {
   "cell_type": "code",
   "execution_count": null,
   "metadata": {},
   "outputs": [
    {
     "name": "stdout",
     "output_type": "stream",
     "text": [
      "88\n"
     ]
    }
   ],
   "source": [
    "info_wt_lst = []\n",
    "for i, row in info_wt.iterrows():\n",
    "\tinfo_wt_lst.append({\n",
    "            \"id\": row['id'],\n",
    "            \"parent_id\": row['parent_id'],\n",
    "            \"name\": row['name'],\n",
    "        })\n",
    "print(len(info_wt_lst))\n"
   ]
  },
  {
   "attachments": {},
   "cell_type": "markdown",
   "metadata": {},
   "source": [
    "## Marge All Paper"
   ]
  },
  {
   "cell_type": "code",
   "execution_count": 23,
   "metadata": {},
   "outputs": [
    {
     "name": "stdout",
     "output_type": "stream",
     "text": [
      "837\n"
     ]
    }
   ],
   "source": [
    "import os\n",
    "# short by time\n",
    "# https://stackoverflow.com/questions/168409/how-do-you-get-a-directory-listing-sorted-by-creation-date-in-python\n",
    "\n",
    "files = sorted(os.scandir('v1/papers'), key=lambda d: d.stat().st_mtime)\n",
    "files = [f.name for f in files if f.name.endswith('.csv')]\n",
    "# lol root modified??\n",
    "print(len(files))\n",
    "# print(files[-1])\n",
    "# print(files[:5])\n",
    "# moved last file to the top\n",
    "# files = files[-1:] + files[:-1]\n",
    "# print(files[:5])\n",
    "# print(len(files))\n"
   ]
  },
  {
   "cell_type": "code",
   "execution_count": 24,
   "metadata": {},
   "outputs": [
    {
     "name": "stdout",
     "output_type": "stream",
     "text": [
      "(18759, 6)\n"
     ]
    },
    {
     "data": {
      "text/html": [
       "<div>\n",
       "<style scoped>\n",
       "    .dataframe tbody tr th:only-of-type {\n",
       "        vertical-align: middle;\n",
       "    }\n",
       "\n",
       "    .dataframe tbody tr th {\n",
       "        vertical-align: top;\n",
       "    }\n",
       "\n",
       "    .dataframe thead th {\n",
       "        text-align: right;\n",
       "    }\n",
       "</style>\n",
       "<table border=\"1\" class=\"dataframe\">\n",
       "  <thead>\n",
       "    <tr style=\"text-align: right;\">\n",
       "      <th></th>\n",
       "      <th>id</th>\n",
       "      <th>parent_id</th>\n",
       "      <th>name</th>\n",
       "      <th>type</th>\n",
       "      <th>published_date</th>\n",
       "      <th>paper_link</th>\n",
       "    </tr>\n",
       "  </thead>\n",
       "  <tbody>\n",
       "    <tr>\n",
       "      <th>0</th>\n",
       "      <td>de610379-280f-4af2-8940-db7f58e599b2</td>\n",
       "      <td>54978d5a-0293-4d6f-ba65-7679a68f1a48</td>\n",
       "      <td>Random Walks for Knowledge-Based Word Sense Di...</td>\n",
       "      <td>Article</td>\n",
       "      <td>2021-01-06T00:00:00.000Z</td>\n",
       "      <td>https://www.researchgate.net/publication/27091...</td>\n",
       "    </tr>\n",
       "    <tr>\n",
       "      <th>1</th>\n",
       "      <td>cecb4fc5-50de-46e7-8cc9-9ad2b4472f17</td>\n",
       "      <td>54978d5a-0293-4d6f-ba65-7679a68f1a48</td>\n",
       "      <td>TopicRank: Graph-Based Topic Ranking for Keyph...</td>\n",
       "      <td>Conference Paper</td>\n",
       "      <td>2021-01-06T00:00:00.000Z</td>\n",
       "      <td>https://www.researchgate.net/publication/25890...</td>\n",
       "    </tr>\n",
       "  </tbody>\n",
       "</table>\n",
       "</div>"
      ],
      "text/plain": [
       "                                     id                             parent_id  \\\n",
       "0  de610379-280f-4af2-8940-db7f58e599b2  54978d5a-0293-4d6f-ba65-7679a68f1a48   \n",
       "1  cecb4fc5-50de-46e7-8cc9-9ad2b4472f17  54978d5a-0293-4d6f-ba65-7679a68f1a48   \n",
       "\n",
       "                                                name              type  \\\n",
       "0  Random Walks for Knowledge-Based Word Sense Di...           Article   \n",
       "1  TopicRank: Graph-Based Topic Ranking for Keyph...  Conference Paper   \n",
       "\n",
       "             published_date                                         paper_link  \n",
       "0  2021-01-06T00:00:00.000Z  https://www.researchgate.net/publication/27091...  \n",
       "1  2021-01-06T00:00:00.000Z  https://www.researchgate.net/publication/25890...  "
      ]
     },
     "metadata": {},
     "output_type": "display_data"
    },
    {
     "name": "stdout",
     "output_type": "stream",
     "text": [
      "Index(['id', 'parent_id', 'name', 'type', 'published_date', 'paper_link'], dtype='object')\n"
     ]
    }
   ],
   "source": [
    "# find all csv files\n",
    "# files = [f for f in os.listdir('data/papers') if f.endswith('.csv')]\n",
    "# read all csv files using pandas\n",
    "papers = pd.concat([pd.read_csv(f\"v1/papers/{f}\") for f in files])\n",
    "print(papers.shape)\n",
    "display(papers.head(n=2))\n",
    "print(papers.columns)\n"
   ]
  },
  {
   "attachments": {},
   "cell_type": "markdown",
   "metadata": {},
   "source": [
    "👉👉ROOT PAPER MISSING! ⚠️!!"
   ]
  },
  {
   "cell_type": "code",
   "execution_count": 25,
   "metadata": {},
   "outputs": [
    {
     "data": {
      "text/html": [
       "<div>\n",
       "<style scoped>\n",
       "    .dataframe tbody tr th:only-of-type {\n",
       "        vertical-align: middle;\n",
       "    }\n",
       "\n",
       "    .dataframe tbody tr th {\n",
       "        vertical-align: top;\n",
       "    }\n",
       "\n",
       "    .dataframe thead th {\n",
       "        text-align: right;\n",
       "    }\n",
       "</style>\n",
       "<table border=\"1\" class=\"dataframe\">\n",
       "  <thead>\n",
       "    <tr style=\"text-align: right;\">\n",
       "      <th></th>\n",
       "      <th>id</th>\n",
       "      <th>parent_id</th>\n",
       "      <th>name</th>\n",
       "      <th>type</th>\n",
       "      <th>published_date</th>\n",
       "      <th>paper_link</th>\n",
       "    </tr>\n",
       "  </thead>\n",
       "  <tbody>\n",
       "  </tbody>\n",
       "</table>\n",
       "</div>"
      ],
      "text/plain": [
       "Empty DataFrame\n",
       "Columns: [id, parent_id, name, type, published_date, paper_link]\n",
       "Index: []"
      ]
     },
     "execution_count": 25,
     "metadata": {},
     "output_type": "execute_result"
    }
   ],
   "source": [
    "papers[ papers['id'] == '8bde6cb8-296d-4593-883f-b768103e1e69']"
   ]
  },
  {
   "cell_type": "code",
   "execution_count": 26,
   "metadata": {},
   "outputs": [
    {
     "data": {
      "text/html": [
       "<div>\n",
       "<style scoped>\n",
       "    .dataframe tbody tr th:only-of-type {\n",
       "        vertical-align: middle;\n",
       "    }\n",
       "\n",
       "    .dataframe tbody tr th {\n",
       "        vertical-align: top;\n",
       "    }\n",
       "\n",
       "    .dataframe thead th {\n",
       "        text-align: right;\n",
       "    }\n",
       "</style>\n",
       "<table border=\"1\" class=\"dataframe\">\n",
       "  <thead>\n",
       "    <tr style=\"text-align: right;\">\n",
       "      <th></th>\n",
       "      <th>id</th>\n",
       "      <th>parent_id</th>\n",
       "      <th>name</th>\n",
       "      <th>type</th>\n",
       "      <th>paper_link</th>\n",
       "      <th>published_date</th>\n",
       "    </tr>\n",
       "  </thead>\n",
       "  <tbody>\n",
       "    <tr>\n",
       "      <th>0</th>\n",
       "      <td>8bde6cb8-296d-4593-883f-b768103e1e69</td>\n",
       "      <td></td>\n",
       "      <td>PositionRank: An Unsupervised Approach to Keyp...</td>\n",
       "      <td>Article</td>\n",
       "      <td>https://www.researchgate.net/publication/31859...</td>\n",
       "      <td>NaN</td>\n",
       "    </tr>\n",
       "    <tr>\n",
       "      <th>1</th>\n",
       "      <td>de610379-280f-4af2-8940-db7f58e599b2</td>\n",
       "      <td>54978d5a-0293-4d6f-ba65-7679a68f1a48</td>\n",
       "      <td>Random Walks for Knowledge-Based Word Sense Di...</td>\n",
       "      <td>Article</td>\n",
       "      <td>https://www.researchgate.net/publication/27091...</td>\n",
       "      <td>2021-01-06T00:00:00.000Z</td>\n",
       "    </tr>\n",
       "  </tbody>\n",
       "</table>\n",
       "</div>"
      ],
      "text/plain": [
       "                                     id                             parent_id  \\\n",
       "0  8bde6cb8-296d-4593-883f-b768103e1e69                                         \n",
       "1  de610379-280f-4af2-8940-db7f58e599b2  54978d5a-0293-4d6f-ba65-7679a68f1a48   \n",
       "\n",
       "                                                name     type  \\\n",
       "0  PositionRank: An Unsupervised Approach to Keyp...  Article   \n",
       "1  Random Walks for Knowledge-Based Word Sense Di...  Article   \n",
       "\n",
       "                                          paper_link            published_date  \n",
       "0  https://www.researchgate.net/publication/31859...                       NaN  \n",
       "1  https://www.researchgate.net/publication/27091...  2021-01-06T00:00:00.000Z  "
      ]
     },
     "execution_count": 26,
     "metadata": {},
     "output_type": "execute_result"
    }
   ],
   "source": [
    "root = {\n",
    "\t'id': '8bde6cb8-296d-4593-883f-b768103e1e69',\n",
    "\t'parent_id': '', \n",
    "\t'name': 'PositionRank: An Unsupervised Approach to Keyphrase Extraction from Scholarly Documents',\n",
    "\t'type': 'Article',\n",
    "\t'paper_link': 'https://www.researchgate.net/publication/318596725_PositionRank_An_Unsupervised_Approach_to_Keyphrase_Extraction_from_Scholarly_Documentshttps://www.researchgate.net/publication/32486907_PositionRank_An_Unsupervised_Approach_to_Keyphrase_Extraction_from_Scholarly_Documents'\n",
    "}\n",
    "# add at the beginning\n",
    "new_row = pd.DataFrame(root, index=[0])\n",
    "# Concatenate new_row with df\n",
    "papers = pd.concat([new_row, papers[:]]).reset_index(drop=True)\n",
    "papers.head(n=2)\n"
   ]
  },
  {
   "cell_type": "code",
   "execution_count": 27,
   "metadata": {},
   "outputs": [],
   "source": [
    "papers.to_csv(\"data/info/all_papers.csv\", index=False)"
   ]
  },
  {
   "attachments": {},
   "cell_type": "markdown",
   "metadata": {},
   "source": [
    "## Find waiting list for all papers"
   ]
  },
  {
   "cell_type": "code",
   "execution_count": 13,
   "metadata": {},
   "outputs": [
    {
     "data": {
      "text/plain": [
       "(3673, 4)"
      ]
     },
     "execution_count": 13,
     "metadata": {},
     "output_type": "execute_result"
    }
   ],
   "source": [
    "wt = pd.read_csv(\"data/info/waiting_list_ref.csv\")\n",
    "wt.shape\n"
   ]
  },
  {
   "cell_type": "code",
   "execution_count": 14,
   "metadata": {},
   "outputs": [
    {
     "name": "stdout",
     "output_type": "stream",
     "text": [
      "(3673, 5)\n"
     ]
    },
    {
     "data": {
      "text/html": [
       "<div>\n",
       "<style scoped>\n",
       "    .dataframe tbody tr th:only-of-type {\n",
       "        vertical-align: middle;\n",
       "    }\n",
       "\n",
       "    .dataframe tbody tr th {\n",
       "        vertical-align: top;\n",
       "    }\n",
       "\n",
       "    .dataframe thead th {\n",
       "        text-align: right;\n",
       "    }\n",
       "</style>\n",
       "<table border=\"1\" class=\"dataframe\">\n",
       "  <thead>\n",
       "    <tr style=\"text-align: right;\">\n",
       "      <th></th>\n",
       "      <th>id</th>\n",
       "      <th>parent_id</th>\n",
       "      <th>name</th>\n",
       "      <th>type</th>\n",
       "      <th>paper_link</th>\n",
       "    </tr>\n",
       "  </thead>\n",
       "  <tbody>\n",
       "    <tr>\n",
       "      <th>189</th>\n",
       "      <td>b7169444-9413-450b-8919-36781743c82e</td>\n",
       "      <td>73596e36-e7d4-4896-8098-d0d8ac2ba0a9</td>\n",
       "      <td>Improving Browsing in Digital Libraries with K...</td>\n",
       "      <td>Article</td>\n",
       "      <td>https://www.researchgate.net/publication/33051...</td>\n",
       "    </tr>\n",
       "    <tr>\n",
       "      <th>190</th>\n",
       "      <td>3d5fc771-237b-4630-9897-2f2fea694cf3</td>\n",
       "      <td>73596e36-e7d4-4896-8098-d0d8ac2ba0a9</td>\n",
       "      <td>KEA: Practical Automatic Keyphrase Extraction</td>\n",
       "      <td>Conference Paper</td>\n",
       "      <td>https://www.researchgate.net/publication/22134...</td>\n",
       "    </tr>\n",
       "  </tbody>\n",
       "</table>\n",
       "</div>"
      ],
      "text/plain": [
       "                                       id  \\\n",
       "189  b7169444-9413-450b-8919-36781743c82e   \n",
       "190  3d5fc771-237b-4630-9897-2f2fea694cf3   \n",
       "\n",
       "                                parent_id  \\\n",
       "189  73596e36-e7d4-4896-8098-d0d8ac2ba0a9   \n",
       "190  73596e36-e7d4-4896-8098-d0d8ac2ba0a9   \n",
       "\n",
       "                                                  name              type  \\\n",
       "189  Improving Browsing in Digital Libraries with K...           Article   \n",
       "190      KEA: Practical Automatic Keyphrase Extraction  Conference Paper   \n",
       "\n",
       "                                            paper_link  \n",
       "189  https://www.researchgate.net/publication/33051...  \n",
       "190  https://www.researchgate.net/publication/22134...  "
      ]
     },
     "execution_count": 14,
     "metadata": {},
     "output_type": "execute_result"
    }
   ],
   "source": [
    "waiting_paper = papers[papers['id'].isin(wt['id'])]\n",
    "waiting_paper = waiting_paper[['id','parent_id', 'name','type' , 'paper_link']]\n",
    "print(waiting_paper.shape)\n",
    "waiting_paper.head(n=2)"
   ]
  },
  {
   "cell_type": "code",
   "execution_count": 15,
   "metadata": {},
   "outputs": [],
   "source": [
    "waiting_paper.to_csv(\"data/info/waiting_list_ref.csv\", index=False)"
   ]
  },
  {
   "cell_type": "code",
   "execution_count": 16,
   "metadata": {},
   "outputs": [
    {
     "data": {
      "text/plain": [
       "(172, 4)"
      ]
     },
     "execution_count": 16,
     "metadata": {},
     "output_type": "execute_result"
    }
   ],
   "source": [
    "dl = pd.read_csv(\"data/info/done_list_ref.csv\")\n",
    "dl.shape"
   ]
  },
  {
   "cell_type": "code",
   "execution_count": 17,
   "metadata": {},
   "outputs": [
    {
     "name": "stdout",
     "output_type": "stream",
     "text": [
      "(172, 5)\n"
     ]
    },
    {
     "data": {
      "text/html": [
       "<div>\n",
       "<style scoped>\n",
       "    .dataframe tbody tr th:only-of-type {\n",
       "        vertical-align: middle;\n",
       "    }\n",
       "\n",
       "    .dataframe tbody tr th {\n",
       "        vertical-align: top;\n",
       "    }\n",
       "\n",
       "    .dataframe thead th {\n",
       "        text-align: right;\n",
       "    }\n",
       "</style>\n",
       "<table border=\"1\" class=\"dataframe\">\n",
       "  <thead>\n",
       "    <tr style=\"text-align: right;\">\n",
       "      <th></th>\n",
       "      <th>id</th>\n",
       "      <th>parent_id</th>\n",
       "      <th>name</th>\n",
       "      <th>type</th>\n",
       "      <th>paper_link</th>\n",
       "    </tr>\n",
       "  </thead>\n",
       "  <tbody>\n",
       "    <tr>\n",
       "      <th>0</th>\n",
       "      <td>8bde6cb8-296d-4593-883f-b768103e1e69</td>\n",
       "      <td></td>\n",
       "      <td>PositionRank: An Unsupervised Approach to Keyp...</td>\n",
       "      <td>Article</td>\n",
       "      <td>https://www.researchgate.net/publication/31859...</td>\n",
       "    </tr>\n",
       "    <tr>\n",
       "      <th>1</th>\n",
       "      <td>7d562969-cf51-4c5c-a2e4-9fbb2238fb43</td>\n",
       "      <td>8bde6cb8-296d-4593-883f-b768103e1e69</td>\n",
       "      <td>Unsupervised Keyphrase Extraction: Introducing...</td>\n",
       "      <td>NaN</td>\n",
       "      <td>https://www.researchgate.net/publication/31109...</td>\n",
       "    </tr>\n",
       "  </tbody>\n",
       "</table>\n",
       "</div>"
      ],
      "text/plain": [
       "                                     id                             parent_id  \\\n",
       "0  8bde6cb8-296d-4593-883f-b768103e1e69                                         \n",
       "1  7d562969-cf51-4c5c-a2e4-9fbb2238fb43  8bde6cb8-296d-4593-883f-b768103e1e69   \n",
       "\n",
       "                                                name     type  \\\n",
       "0  PositionRank: An Unsupervised Approach to Keyp...  Article   \n",
       "1  Unsupervised Keyphrase Extraction: Introducing...      NaN   \n",
       "\n",
       "                                          paper_link  \n",
       "0  https://www.researchgate.net/publication/31859...  \n",
       "1  https://www.researchgate.net/publication/31109...  "
      ]
     },
     "execution_count": 17,
     "metadata": {},
     "output_type": "execute_result"
    }
   ],
   "source": [
    "done_paper = papers[papers['id'].isin(dl['id'])]\n",
    "done_paper = done_paper[[\n",
    "    'id', 'parent_id', 'name', 'type', 'paper_link']]\n",
    "print(done_paper.shape)\n",
    "done_paper.head(n=2)\n"
   ]
  },
  {
   "cell_type": "code",
   "execution_count": 18,
   "metadata": {},
   "outputs": [],
   "source": [
    "done_paper.to_csv(\"data/info/done_list_ref.csv\", index=False)\n"
   ]
  },
  {
   "cell_type": "code",
   "execution_count": 19,
   "metadata": {},
   "outputs": [
    {
     "data": {
      "text/plain": [
       "(41, 4)"
      ]
     },
     "execution_count": 19,
     "metadata": {},
     "output_type": "execute_result"
    }
   ],
   "source": [
    "iw = pd.read_csv(\"data/info/info_waiting.csv\")\n",
    "iw.shape\n"
   ]
  },
  {
   "cell_type": "code",
   "execution_count": 20,
   "metadata": {},
   "outputs": [
    {
     "name": "stdout",
     "output_type": "stream",
     "text": [
      "(41, 5)\n"
     ]
    },
    {
     "data": {
      "text/html": [
       "<div>\n",
       "<style scoped>\n",
       "    .dataframe tbody tr th:only-of-type {\n",
       "        vertical-align: middle;\n",
       "    }\n",
       "\n",
       "    .dataframe tbody tr th {\n",
       "        vertical-align: top;\n",
       "    }\n",
       "\n",
       "    .dataframe thead th {\n",
       "        text-align: right;\n",
       "    }\n",
       "</style>\n",
       "<table border=\"1\" class=\"dataframe\">\n",
       "  <thead>\n",
       "    <tr style=\"text-align: right;\">\n",
       "      <th></th>\n",
       "      <th>id</th>\n",
       "      <th>parent_id</th>\n",
       "      <th>name</th>\n",
       "      <th>type</th>\n",
       "      <th>paper_link</th>\n",
       "    </tr>\n",
       "  </thead>\n",
       "  <tbody>\n",
       "    <tr>\n",
       "      <th>146</th>\n",
       "      <td>6b31e489-f082-40dd-a533-6fdbee98d2b9</td>\n",
       "      <td>73596e36-e7d4-4896-8098-d0d8ac2ba0a9</td>\n",
       "      <td>KP-Miner: A keyphrase extraction system for En...</td>\n",
       "      <td>Article</td>\n",
       "      <td>https://www.researchgate.net/publication/22282...</td>\n",
       "    </tr>\n",
       "    <tr>\n",
       "      <th>147</th>\n",
       "      <td>60cd86e5-bbf0-4b45-85d3-40ce65a247c7</td>\n",
       "      <td>73596e36-e7d4-4896-8098-d0d8ac2ba0a9</td>\n",
       "      <td>A Ranking Approach to Keyphrase Extraction</td>\n",
       "      <td>Conference Paper</td>\n",
       "      <td>https://www.researchgate.net/publication/22129...</td>\n",
       "    </tr>\n",
       "  </tbody>\n",
       "</table>\n",
       "</div>"
      ],
      "text/plain": [
       "                                       id  \\\n",
       "146  6b31e489-f082-40dd-a533-6fdbee98d2b9   \n",
       "147  60cd86e5-bbf0-4b45-85d3-40ce65a247c7   \n",
       "\n",
       "                                parent_id  \\\n",
       "146  73596e36-e7d4-4896-8098-d0d8ac2ba0a9   \n",
       "147  73596e36-e7d4-4896-8098-d0d8ac2ba0a9   \n",
       "\n",
       "                                                  name              type  \\\n",
       "146  KP-Miner: A keyphrase extraction system for En...           Article   \n",
       "147         A Ranking Approach to Keyphrase Extraction  Conference Paper   \n",
       "\n",
       "                                            paper_link  \n",
       "146  https://www.researchgate.net/publication/22282...  \n",
       "147  https://www.researchgate.net/publication/22129...  "
      ]
     },
     "execution_count": 20,
     "metadata": {},
     "output_type": "execute_result"
    }
   ],
   "source": [
    "iw_paper = done_paper[done_paper['id'].isin(iw['id'])]\n",
    "iw_paper = iw_paper[[\n",
    "    'id', 'parent_id', 'name', 'type', 'paper_link']]\n",
    "print(iw_paper.shape)\n",
    "iw_paper.head(n=2)\n"
   ]
  },
  {
   "cell_type": "code",
   "execution_count": 21,
   "metadata": {},
   "outputs": [],
   "source": [
    "iw_paper.to_csv(\"data/info/info_waiting.csv\", index=False)"
   ]
  },
  {
   "cell_type": "code",
   "execution_count": 22,
   "metadata": {},
   "outputs": [
    {
     "name": "stdout",
     "output_type": "stream",
     "text": [
      "(131, 4)\n"
     ]
    },
    {
     "data": {
      "text/html": [
       "<div>\n",
       "<style scoped>\n",
       "    .dataframe tbody tr th:only-of-type {\n",
       "        vertical-align: middle;\n",
       "    }\n",
       "\n",
       "    .dataframe tbody tr th {\n",
       "        vertical-align: top;\n",
       "    }\n",
       "\n",
       "    .dataframe thead th {\n",
       "        text-align: right;\n",
       "    }\n",
       "</style>\n",
       "<table border=\"1\" class=\"dataframe\">\n",
       "  <thead>\n",
       "    <tr style=\"text-align: right;\">\n",
       "      <th></th>\n",
       "      <th>id</th>\n",
       "      <th>parent_id</th>\n",
       "      <th>name</th>\n",
       "      <th>paper_link</th>\n",
       "    </tr>\n",
       "  </thead>\n",
       "  <tbody>\n",
       "    <tr>\n",
       "      <th>0</th>\n",
       "      <td>8bde6cb8-296d-4593-883f-b768103e1e69</td>\n",
       "      <td>NaN</td>\n",
       "      <td>PositionRank: An Unsupervised Approach to Keyp...</td>\n",
       "      <td>https://www.researchgate.net/publication/31859...</td>\n",
       "    </tr>\n",
       "    <tr>\n",
       "      <th>1</th>\n",
       "      <td>7d562969-cf51-4c5c-a2e4-9fbb2238fb43</td>\n",
       "      <td>8bde6cb8-296d-4593-883f-b768103e1e69</td>\n",
       "      <td>Unsupervised Keyphrase Extraction: Introducing...</td>\n",
       "      <td>https://www.researchgate.net/publication/31109...</td>\n",
       "    </tr>\n",
       "  </tbody>\n",
       "</table>\n",
       "</div>"
      ],
      "text/plain": [
       "                                     id                             parent_id  \\\n",
       "0  8bde6cb8-296d-4593-883f-b768103e1e69                                   NaN   \n",
       "1  7d562969-cf51-4c5c-a2e4-9fbb2238fb43  8bde6cb8-296d-4593-883f-b768103e1e69   \n",
       "\n",
       "                                                name  \\\n",
       "0  PositionRank: An Unsupervised Approach to Keyp...   \n",
       "1  Unsupervised Keyphrase Extraction: Introducing...   \n",
       "\n",
       "                                          paper_link  \n",
       "0  https://www.researchgate.net/publication/31859...  \n",
       "1  https://www.researchgate.net/publication/31109...  "
      ]
     },
     "execution_count": 22,
     "metadata": {},
     "output_type": "execute_result"
    }
   ],
   "source": [
    "idp = pd.read_csv(\"data/info/info_done.csv\")\n",
    "print(idp.shape)\n",
    "idp.head(n=2)\n"
   ]
  },
  {
   "cell_type": "code",
   "execution_count": 23,
   "metadata": {},
   "outputs": [
    {
     "name": "stdout",
     "output_type": "stream",
     "text": [
      "(131, 5)\n"
     ]
    }
   ],
   "source": [
    "id_paper = papers[papers['id'].isin(idp['id'])]\n",
    "print(id_paper.shape)"
   ]
  },
  {
   "cell_type": "code",
   "execution_count": 24,
   "metadata": {},
   "outputs": [],
   "source": [
    "id_paper.to_csv(\"data/info/info_done.csv\", index=False)"
   ]
  },
  {
   "cell_type": "code",
   "execution_count": 75,
   "metadata": {},
   "outputs": [
    {
     "name": "stdout",
     "output_type": "stream",
     "text": [
      "(131, 10)\n",
      "Index(['id', 'parent_id', 'name', 'references_count',\n",
      "       'research_interest_score', 'citations_count', 'recommendations_count',\n",
      "       'reads_count', 'paper_link', 'download_link'],\n",
      "      dtype='object')\n"
     ]
    }
   ],
   "source": [
    "iff = pd.read_csv(\"data/info/info_full.csv\")\n",
    "print(iff.shape)\n",
    "print(iff.columns)"
   ]
  },
  {
   "cell_type": "code",
   "execution_count": 76,
   "metadata": {},
   "outputs": [
    {
     "name": "stdout",
     "output_type": "stream",
     "text": [
      "(131, 1)\n"
     ]
    },
    {
     "data": {
      "text/plain": [
       "array(['Article', 'Conference Paper', 'Article', 'Conference Paper',\n",
       "       'Conference Paper'], dtype=object)"
      ]
     },
     "execution_count": 76,
     "metadata": {},
     "output_type": "execute_result"
    }
   ],
   "source": [
    "iff_papers_x = papers[papers['id'].isin(iff['id'])]\n",
    "iff_papers = iff_papers_x[['type']]\n",
    "print(iff_papers.shape)\n",
    "iff_papers['type'].values[:5]"
   ]
  },
  {
   "cell_type": "code",
   "execution_count": 77,
   "metadata": {},
   "outputs": [
    {
     "name": "stdout",
     "output_type": "stream",
     "text": [
      "(131, 11)\n",
      "Index(['id', 'parent_id', 'name', 'type', 'references_count',\n",
      "       'research_interest_score', 'citations_count', 'recommendations_count',\n",
      "       'reads_count', 'paper_link', 'download_link'],\n",
      "      dtype='object')\n"
     ]
    },
    {
     "data": {
      "text/html": [
       "<div>\n",
       "<style scoped>\n",
       "    .dataframe tbody tr th:only-of-type {\n",
       "        vertical-align: middle;\n",
       "    }\n",
       "\n",
       "    .dataframe tbody tr th {\n",
       "        vertical-align: top;\n",
       "    }\n",
       "\n",
       "    .dataframe thead th {\n",
       "        text-align: right;\n",
       "    }\n",
       "</style>\n",
       "<table border=\"1\" class=\"dataframe\">\n",
       "  <thead>\n",
       "    <tr style=\"text-align: right;\">\n",
       "      <th></th>\n",
       "      <th>id</th>\n",
       "      <th>parent_id</th>\n",
       "      <th>name</th>\n",
       "      <th>type</th>\n",
       "      <th>references_count</th>\n",
       "      <th>research_interest_score</th>\n",
       "      <th>citations_count</th>\n",
       "      <th>recommendations_count</th>\n",
       "      <th>reads_count</th>\n",
       "      <th>paper_link</th>\n",
       "      <th>download_link</th>\n",
       "    </tr>\n",
       "  </thead>\n",
       "  <tbody>\n",
       "    <tr>\n",
       "      <th>0</th>\n",
       "      <td>8bde6cb8-296d-4593-883f-b768103e1e69</td>\n",
       "      <td>NaN</td>\n",
       "      <td>PositionRank: An Unsupervised Approach to Keyp...</td>\n",
       "      <td>Article</td>\n",
       "      <td>40</td>\n",
       "      <td>11.7</td>\n",
       "      <td>10</td>\n",
       "      <td>1</td>\n",
       "      <td>474</td>\n",
       "      <td>https://www.researchgate.net/publication/31859...</td>\n",
       "      <td>https://www.researchgate.net/profile/Corina-Fl...</td>\n",
       "    </tr>\n",
       "    <tr>\n",
       "      <th>1</th>\n",
       "      <td>7d562969-cf51-4c5c-a2e4-9fbb2238fb43</td>\n",
       "      <td>8bde6cb8-296d-4593-883f-b768103e1e69</td>\n",
       "      <td>Unsupervised Keyphrase Extraction: Introducing...</td>\n",
       "      <td>Conference Paper</td>\n",
       "      <td>16</td>\n",
       "      <td>32.2</td>\n",
       "      <td>40</td>\n",
       "      <td>1</td>\n",
       "      <td>1053</td>\n",
       "      <td>https://www.researchgate.net/publication/31109...</td>\n",
       "      <td>https://www.researchgate.net/profile/Tho-Le-3/...</td>\n",
       "    </tr>\n",
       "  </tbody>\n",
       "</table>\n",
       "</div>"
      ],
      "text/plain": [
       "                                     id                             parent_id  \\\n",
       "0  8bde6cb8-296d-4593-883f-b768103e1e69                                   NaN   \n",
       "1  7d562969-cf51-4c5c-a2e4-9fbb2238fb43  8bde6cb8-296d-4593-883f-b768103e1e69   \n",
       "\n",
       "                                                name              type  \\\n",
       "0  PositionRank: An Unsupervised Approach to Keyp...           Article   \n",
       "1  Unsupervised Keyphrase Extraction: Introducing...  Conference Paper   \n",
       "\n",
       "   references_count  research_interest_score  citations_count  \\\n",
       "0                40                     11.7               10   \n",
       "1                16                     32.2               40   \n",
       "\n",
       "   recommendations_count  reads_count  \\\n",
       "0                      1          474   \n",
       "1                      1         1053   \n",
       "\n",
       "                                          paper_link  \\\n",
       "0  https://www.researchgate.net/publication/31859...   \n",
       "1  https://www.researchgate.net/publication/31109...   \n",
       "\n",
       "                                       download_link  \n",
       "0  https://www.researchgate.net/profile/Corina-Fl...  \n",
       "1  https://www.researchgate.net/profile/Tho-Le-3/...  "
      ]
     },
     "execution_count": 77,
     "metadata": {},
     "output_type": "execute_result"
    }
   ],
   "source": [
    "# append 'type' column from iff_papers_x to iff\n",
    "iff.insert(3, 'type', iff_papers['type'].values)\n",
    "print(iff.shape)\n",
    "print(iff.columns)\n",
    "iff.head(n=2)\n"
   ]
  },
  {
   "cell_type": "code",
   "execution_count": 78,
   "metadata": {},
   "outputs": [],
   "source": [
    "iff.to_csv(\"data/info/info_full.csv\", index=False)"
   ]
  },
  {
   "attachments": {},
   "cell_type": "markdown",
   "metadata": {},
   "source": [
    "## Create New list with paper_link"
   ]
  },
  {
   "cell_type": "code",
   "execution_count": null,
   "metadata": {},
   "outputs": [
    {
     "name": "stdout",
     "output_type": "stream",
     "text": [
      "(92, 3)\n",
      "(92, 4)\n"
     ]
    },
    {
     "data": {
      "text/html": [
       "<div>\n",
       "<style scoped>\n",
       "    .dataframe tbody tr th:only-of-type {\n",
       "        vertical-align: middle;\n",
       "    }\n",
       "\n",
       "    .dataframe tbody tr th {\n",
       "        vertical-align: top;\n",
       "    }\n",
       "\n",
       "    .dataframe thead th {\n",
       "        text-align: right;\n",
       "    }\n",
       "</style>\n",
       "<table border=\"1\" class=\"dataframe\">\n",
       "  <thead>\n",
       "    <tr style=\"text-align: right;\">\n",
       "      <th></th>\n",
       "      <th>id</th>\n",
       "      <th>parent_id</th>\n",
       "      <th>name</th>\n",
       "      <th>paper_link</th>\n",
       "    </tr>\n",
       "  </thead>\n",
       "  <tbody>\n",
       "    <tr>\n",
       "      <th>0</th>\n",
       "      <td>8bde6cb8-296d-4593-883f-b768103e1e69</td>\n",
       "      <td></td>\n",
       "      <td>PositionRank: An Unsupervised Approach to Keyp...</td>\n",
       "      <td>https://www.researchgate.net/publication/31859...</td>\n",
       "    </tr>\n",
       "    <tr>\n",
       "      <th>1313</th>\n",
       "      <td>f4d6b37e-f875-4d6a-9323-aa0dd22a7513</td>\n",
       "      <td>8bde6cb8-296d-4593-883f-b768103e1e69</td>\n",
       "      <td>Unsupervised Keyphrase Extraction: Introducing...</td>\n",
       "      <td>https://www.researchgate.net/publication/31109...</td>\n",
       "    </tr>\n",
       "  </tbody>\n",
       "</table>\n",
       "</div>"
      ],
      "text/plain": [
       "                                        id  \\\n",
       "0     8bde6cb8-296d-4593-883f-b768103e1e69   \n",
       "1313  f4d6b37e-f875-4d6a-9323-aa0dd22a7513   \n",
       "\n",
       "                                 parent_id  \\\n",
       "0                                            \n",
       "1313  8bde6cb8-296d-4593-883f-b768103e1e69   \n",
       "\n",
       "                                                   name  \\\n",
       "0     PositionRank: An Unsupervised Approach to Keyp...   \n",
       "1313  Unsupervised Keyphrase Extraction: Introducing...   \n",
       "\n",
       "                                             paper_link  \n",
       "0     https://www.researchgate.net/publication/31859...  \n",
       "1313  https://www.researchgate.net/publication/31109...  "
      ]
     },
     "metadata": {},
     "output_type": "display_data"
    }
   ],
   "source": [
    "# filter waiting list\n",
    "dr = pd.read_csv(\"data/info/done_list_ref.csv\")\n",
    "print(dr.shape)\n",
    "d = papers[papers['id'].isin(dr['id'])]\n",
    "d = d[['id', 'parent_id','name',  'paper_link']]\n",
    "# https://www.statology.org/pandas-not-in/\n",
    "d.to_csv(\"data/info/done_list_ref.csv\", index=False)\n",
    "print(d.shape)\n",
    "display(d.head(n=2))\n",
    "\n",
    "# m = dr[~dr['id'].isin(d['id'])]\n",
    "# m\n"
   ]
  },
  {
   "cell_type": "code",
   "execution_count": null,
   "metadata": {},
   "outputs": [
    {
     "name": "stdout",
     "output_type": "stream",
     "text": [
      "(2, 3)\n",
      "(2, 4)\n"
     ]
    },
    {
     "data": {
      "text/html": [
       "<div>\n",
       "<style scoped>\n",
       "    .dataframe tbody tr th:only-of-type {\n",
       "        vertical-align: middle;\n",
       "    }\n",
       "\n",
       "    .dataframe tbody tr th {\n",
       "        vertical-align: top;\n",
       "    }\n",
       "\n",
       "    .dataframe thead th {\n",
       "        text-align: right;\n",
       "    }\n",
       "</style>\n",
       "<table border=\"1\" class=\"dataframe\">\n",
       "  <thead>\n",
       "    <tr style=\"text-align: right;\">\n",
       "      <th></th>\n",
       "      <th>id</th>\n",
       "      <th>parent_id</th>\n",
       "      <th>name</th>\n",
       "      <th>paper_link</th>\n",
       "    </tr>\n",
       "  </thead>\n",
       "  <tbody>\n",
       "    <tr>\n",
       "      <th>0</th>\n",
       "      <td>8bde6cb8-296d-4593-883f-b768103e1e69</td>\n",
       "      <td></td>\n",
       "      <td>PositionRank: An Unsupervised Approach to Keyp...</td>\n",
       "      <td>https://www.researchgate.net/publication/31859...</td>\n",
       "    </tr>\n",
       "    <tr>\n",
       "      <th>1313</th>\n",
       "      <td>f4d6b37e-f875-4d6a-9323-aa0dd22a7513</td>\n",
       "      <td>8bde6cb8-296d-4593-883f-b768103e1e69</td>\n",
       "      <td>Unsupervised Keyphrase Extraction: Introducing...</td>\n",
       "      <td>https://www.researchgate.net/publication/31109...</td>\n",
       "    </tr>\n",
       "  </tbody>\n",
       "</table>\n",
       "</div>"
      ],
      "text/plain": [
       "                                        id  \\\n",
       "0     8bde6cb8-296d-4593-883f-b768103e1e69   \n",
       "1313  f4d6b37e-f875-4d6a-9323-aa0dd22a7513   \n",
       "\n",
       "                                 parent_id  \\\n",
       "0                                            \n",
       "1313  8bde6cb8-296d-4593-883f-b768103e1e69   \n",
       "\n",
       "                                                   name  \\\n",
       "0     PositionRank: An Unsupervised Approach to Keyp...   \n",
       "1313  Unsupervised Keyphrase Extraction: Introducing...   \n",
       "\n",
       "                                             paper_link  \n",
       "0     https://www.researchgate.net/publication/31859...  \n",
       "1313  https://www.researchgate.net/publication/31109...  "
      ]
     },
     "metadata": {},
     "output_type": "display_data"
    }
   ],
   "source": [
    "# filter waiting list\n",
    "dr = pd.read_csv(\"data/info/info_done.csv\")\n",
    "print(dr.shape)\n",
    "d = papers[papers['id'].isin(dr['id'])]\n",
    "d = d[['id', 'parent_id', 'name', 'paper_link']]\n",
    "# https://www.statology.org/pandas-not-in/\n",
    "d.to_csv(\"data/info/info_done.csv\", index=False)\n",
    "print(d.shape)\n",
    "display(d.head(n=2))\n",
    "\n",
    "# m = dr[~dr['id'].isin(d['id'])]\n",
    "# m\n"
   ]
  },
  {
   "cell_type": "code",
   "execution_count": null,
   "metadata": {},
   "outputs": [],
   "source": [
    "# filter waiting list\n",
    "dr = pd.read_csv(\"data/info/info_done.csv\")\n",
    "print(dr.shape)\n",
    "d = papers[papers['id'].isin(dr['id'])]\n",
    "d = d[['id', 'parent_id', 'name', 'paper_link']]\n",
    "# https://www.statology.org/pandas-not-in/\n",
    "d.to_csv(\"data/info/info_done.csv\", index=False)\n",
    "print(d.shape)\n",
    "display(d.head(n=2))\n",
    "\n",
    "# m = dr[~dr['id'].isin(d['id'])]\n",
    "# m\n"
   ]
  },
  {
   "cell_type": "code",
   "execution_count": null,
   "metadata": {},
   "outputs": [
    {
     "name": "stdout",
     "output_type": "stream",
     "text": [
      "(21, 3)\n",
      "(21, 4)\n"
     ]
    },
    {
     "data": {
      "text/html": [
       "<div>\n",
       "<style scoped>\n",
       "    .dataframe tbody tr th:only-of-type {\n",
       "        vertical-align: middle;\n",
       "    }\n",
       "\n",
       "    .dataframe tbody tr th {\n",
       "        vertical-align: top;\n",
       "    }\n",
       "\n",
       "    .dataframe thead th {\n",
       "        text-align: right;\n",
       "    }\n",
       "</style>\n",
       "<table border=\"1\" class=\"dataframe\">\n",
       "  <thead>\n",
       "    <tr style=\"text-align: right;\">\n",
       "      <th></th>\n",
       "      <th>id</th>\n",
       "      <th>parent_id</th>\n",
       "      <th>name</th>\n",
       "      <th>paper_link</th>\n",
       "    </tr>\n",
       "  </thead>\n",
       "  <tbody>\n",
       "    <tr>\n",
       "      <th>1330</th>\n",
       "      <td>1db4947f-6fa9-4703-97ab-da5156432fd5</td>\n",
       "      <td>8bde6cb8-296d-4593-883f-b768103e1e69</td>\n",
       "      <td>An Introduction to Information Retrieval DRAFT</td>\n",
       "      <td>https://www.researchgate.net/publication/20004...</td>\n",
       "    </tr>\n",
       "    <tr>\n",
       "      <th>1341</th>\n",
       "      <td>5c8570de-52fc-4c5a-8d5c-cf0abdbf3d6b</td>\n",
       "      <td>8bde6cb8-296d-4593-883f-b768103e1e69</td>\n",
       "      <td>The PageRank Citation Ranking: Bringing Order ...</td>\n",
       "      <td>https://www.researchgate.net/publication/22199...</td>\n",
       "    </tr>\n",
       "  </tbody>\n",
       "</table>\n",
       "</div>"
      ],
      "text/plain": [
       "                                        id  \\\n",
       "1330  1db4947f-6fa9-4703-97ab-da5156432fd5   \n",
       "1341  5c8570de-52fc-4c5a-8d5c-cf0abdbf3d6b   \n",
       "\n",
       "                                 parent_id  \\\n",
       "1330  8bde6cb8-296d-4593-883f-b768103e1e69   \n",
       "1341  8bde6cb8-296d-4593-883f-b768103e1e69   \n",
       "\n",
       "                                                   name  \\\n",
       "1330     An Introduction to Information Retrieval DRAFT   \n",
       "1341  The PageRank Citation Ranking: Bringing Order ...   \n",
       "\n",
       "                                             paper_link  \n",
       "1330  https://www.researchgate.net/publication/20004...  \n",
       "1341  https://www.researchgate.net/publication/22199...  "
      ]
     },
     "metadata": {},
     "output_type": "display_data"
    }
   ],
   "source": [
    "# filter waiting list\n",
    "dr = pd.read_csv(\"data/info/not_found_ref.csv\")\n",
    "print(dr.shape)\n",
    "d = papers[papers['id'].isin(dr['id'])]\n",
    "d = d[['id', 'parent_id', 'name', 'paper_link']]\n",
    "# https://www.statology.org/pandas-not-in/\n",
    "d.to_csv(\"data/info/not_found_ref.csv\", index=False)\n",
    "print(d.shape)\n",
    "display(d.head(n=2))\n",
    "\n",
    "# m = dr[~dr['id'].isin(d['id'])]\n",
    "# m\n"
   ]
  },
  {
   "cell_type": "code",
   "execution_count": null,
   "metadata": {},
   "outputs": [
    {
     "data": {
      "text/html": [
       "<div>\n",
       "<style scoped>\n",
       "    .dataframe tbody tr th:only-of-type {\n",
       "        vertical-align: middle;\n",
       "    }\n",
       "\n",
       "    .dataframe tbody tr th {\n",
       "        vertical-align: top;\n",
       "    }\n",
       "\n",
       "    .dataframe thead th {\n",
       "        text-align: right;\n",
       "    }\n",
       "</style>\n",
       "<table border=\"1\" class=\"dataframe\">\n",
       "  <thead>\n",
       "    <tr style=\"text-align: right;\">\n",
       "      <th></th>\n",
       "      <th>id</th>\n",
       "      <th>parent_id</th>\n",
       "      <th>name</th>\n",
       "      <th>paper_link</th>\n",
       "    </tr>\n",
       "  </thead>\n",
       "  <tbody>\n",
       "    <tr>\n",
       "      <th>0</th>\n",
       "      <td>9162e667-b20b-46cb-8137-50b5725f5f35</td>\n",
       "      <td>c00745ce-292b-4b87-bbf0-84bac3e7ab64</td>\n",
       "      <td>Single Document Keyphrase Extraction Using Nei...</td>\n",
       "      <td>https://www.researchgate.net/publication/20004...</td>\n",
       "    </tr>\n",
       "    <tr>\n",
       "      <th>1</th>\n",
       "      <td>9eed0d1b-90b8-436b-84b8-0d33671373d4</td>\n",
       "      <td>c00745ce-292b-4b87-bbf0-84bac3e7ab64</td>\n",
       "      <td>Domain-independent automatic keyphrase indexin...</td>\n",
       "      <td>https://www.researchgate.net/publication/33051...</td>\n",
       "    </tr>\n",
       "  </tbody>\n",
       "</table>\n",
       "</div>"
      ],
      "text/plain": [
       "                                     id                             parent_id  \\\n",
       "0  9162e667-b20b-46cb-8137-50b5725f5f35  c00745ce-292b-4b87-bbf0-84bac3e7ab64   \n",
       "1  9eed0d1b-90b8-436b-84b8-0d33671373d4  c00745ce-292b-4b87-bbf0-84bac3e7ab64   \n",
       "\n",
       "                                                name  \\\n",
       "0  Single Document Keyphrase Extraction Using Nei...   \n",
       "1  Domain-independent automatic keyphrase indexin...   \n",
       "\n",
       "                                          paper_link  \n",
       "0  https://www.researchgate.net/publication/20004...  \n",
       "1  https://www.researchgate.net/publication/33051...  "
      ]
     },
     "metadata": {},
     "output_type": "display_data"
    },
    {
     "name": "stdout",
     "output_type": "stream",
     "text": [
      "(2291, 4)\n",
      "(2291, 4)\n"
     ]
    },
    {
     "data": {
      "text/html": [
       "<div>\n",
       "<style scoped>\n",
       "    .dataframe tbody tr th:only-of-type {\n",
       "        vertical-align: middle;\n",
       "    }\n",
       "\n",
       "    .dataframe tbody tr th {\n",
       "        vertical-align: top;\n",
       "    }\n",
       "\n",
       "    .dataframe thead th {\n",
       "        text-align: right;\n",
       "    }\n",
       "</style>\n",
       "<table border=\"1\" class=\"dataframe\">\n",
       "  <thead>\n",
       "    <tr style=\"text-align: right;\">\n",
       "      <th></th>\n",
       "      <th>id</th>\n",
       "      <th>parent_id</th>\n",
       "      <th>name</th>\n",
       "      <th>paper_link</th>\n",
       "    </tr>\n",
       "  </thead>\n",
       "  <tbody>\n",
       "    <tr>\n",
       "      <th>1</th>\n",
       "      <td>d052fabd-3e03-4896-8fce-7ba00099da1e</td>\n",
       "      <td>04cca6ce-b031-40a5-a94b-3302e721f22c</td>\n",
       "      <td>Data Mining: Practical Machine Learning Tools ...</td>\n",
       "      <td>https://www.researchgate.net/publication/22001...</td>\n",
       "    </tr>\n",
       "    <tr>\n",
       "      <th>2</th>\n",
       "      <td>c1e8c281-4d1e-4126-a3bb-8e8a680ae978</td>\n",
       "      <td>04cca6ce-b031-40a5-a94b-3302e721f22c</td>\n",
       "      <td>Probabilistic topic models. Handb. Latent Semant</td>\n",
       "      <td>https://www.researchgate.net/publication/30310...</td>\n",
       "    </tr>\n",
       "  </tbody>\n",
       "</table>\n",
       "</div>"
      ],
      "text/plain": [
       "                                     id                             parent_id  \\\n",
       "1  d052fabd-3e03-4896-8fce-7ba00099da1e  04cca6ce-b031-40a5-a94b-3302e721f22c   \n",
       "2  c1e8c281-4d1e-4126-a3bb-8e8a680ae978  04cca6ce-b031-40a5-a94b-3302e721f22c   \n",
       "\n",
       "                                                name  \\\n",
       "1  Data Mining: Practical Machine Learning Tools ...   \n",
       "2   Probabilistic topic models. Handb. Latent Semant   \n",
       "\n",
       "                                          paper_link  \n",
       "1  https://www.researchgate.net/publication/22001...  \n",
       "2  https://www.researchgate.net/publication/30310...  "
      ]
     },
     "metadata": {},
     "output_type": "display_data"
    }
   ],
   "source": [
    "# filter waiting list\n",
    "wt_ref = pd.read_csv(\"data/info/waiting_list_ref.csv\")\n",
    "display(wt_ref.head(n=2))\n",
    "print(wt_ref.shape)\n",
    "wt = papers[papers['id'].isin(wt_ref['id'])]\n",
    "wt = wt[['id', 'parent_id', 'name', 'paper_link']]\n",
    "print(wt.shape)\n",
    "display(wt.head(n=2))\n",
    "# wt[wt['id'] == '9162e667-b20b-46cb-8137-50b5725f5f35']\n",
    "# wt.to_csv(\"data/info/waiting_list_ref.csv\", index=False)"
   ]
  },
  {
   "attachments": {},
   "cell_type": "markdown",
   "metadata": {},
   "source": [
    "### Find paper with no link"
   ]
  },
  {
   "cell_type": "code",
   "execution_count": null,
   "metadata": {},
   "outputs": [],
   "source": [
    "wtDf = pd.read_csv(\"data/info/waiting_list_ref.csv\")\n"
   ]
  },
  {
   "cell_type": "code",
   "execution_count": null,
   "metadata": {},
   "outputs": [
    {
     "data": {
      "text/plain": [
       "id              0\n",
       "parent_id       0\n",
       "name            2\n",
       "paper_link    220\n",
       "dtype: int64"
      ]
     },
     "execution_count": 130,
     "metadata": {},
     "output_type": "execute_result"
    }
   ],
   "source": [
    "wtDf.isnull().sum()\n"
   ]
  },
  {
   "cell_type": "code",
   "execution_count": null,
   "metadata": {},
   "outputs": [
    {
     "data": {
      "text/plain": [
       "id              0\n",
       "parent_id       0\n",
       "name            2\n",
       "paper_link    220\n",
       "dtype: int64"
      ]
     },
     "execution_count": 131,
     "metadata": {},
     "output_type": "execute_result"
    }
   ],
   "source": [
    "wtDf.isna().sum()\n"
   ]
  },
  {
   "cell_type": "code",
   "execution_count": null,
   "metadata": {},
   "outputs": [
    {
     "name": "stdout",
     "output_type": "stream",
     "text": [
      "220\n",
      "2291\n",
      "220\n"
     ]
    }
   ],
   "source": [
    "# check if empty\n",
    "c = 0\n",
    "waitingList = []\n",
    "for i, row in wtDf.iterrows():\n",
    "\tlink = row['paper_link']\n",
    "\tif pd.isnull(link):\n",
    "\t\tlink = None\n",
    "\t\tc += 1\n",
    "\telse:\n",
    "\t\tlink = link\n",
    "\t\n",
    "\twaitingList.append({\n",
    "        \"id\": row['id'],\n",
    "        \"parent_id\": row['parent_id'],\n",
    "        \"name\": row['name'],\n",
    "\t\t\"paper_link\": link\n",
    "    })\n",
    "print(c)\n",
    "print(len(waitingList))\n",
    "c = 0\n",
    "for p in waitingList:\n",
    "\tif p['paper_link'] == None:\n",
    "\t\tc+=1\n",
    "print(c)"
   ]
  },
  {
   "attachments": {},
   "cell_type": "markdown",
   "metadata": {},
   "source": [
    "## Duplicate Papers"
   ]
  },
  {
   "cell_type": "code",
   "execution_count": 38,
   "metadata": {},
   "outputs": [
    {
     "data": {
      "text/html": [
       "<div>\n",
       "<style scoped>\n",
       "    .dataframe tbody tr th:only-of-type {\n",
       "        vertical-align: middle;\n",
       "    }\n",
       "\n",
       "    .dataframe tbody tr th {\n",
       "        vertical-align: top;\n",
       "    }\n",
       "\n",
       "    .dataframe thead th {\n",
       "        text-align: right;\n",
       "    }\n",
       "</style>\n",
       "<table border=\"1\" class=\"dataframe\">\n",
       "  <thead>\n",
       "    <tr style=\"text-align: right;\">\n",
       "      <th></th>\n",
       "      <th>team</th>\n",
       "      <th>points</th>\n",
       "      <th>assists</th>\n",
       "    </tr>\n",
       "  </thead>\n",
       "  <tbody>\n",
       "    <tr>\n",
       "      <th>0</th>\n",
       "      <td>A</td>\n",
       "      <td>10</td>\n",
       "      <td>5</td>\n",
       "    </tr>\n",
       "    <tr>\n",
       "      <th>1</th>\n",
       "      <td>A</td>\n",
       "      <td>10</td>\n",
       "      <td>5</td>\n",
       "    </tr>\n",
       "    <tr>\n",
       "      <th>2</th>\n",
       "      <td>A</td>\n",
       "      <td>12</td>\n",
       "      <td>7</td>\n",
       "    </tr>\n",
       "    <tr>\n",
       "      <th>3</th>\n",
       "      <td>A</td>\n",
       "      <td>12</td>\n",
       "      <td>9</td>\n",
       "    </tr>\n",
       "    <tr>\n",
       "      <th>4</th>\n",
       "      <td>A</td>\n",
       "      <td>13</td>\n",
       "      <td>12</td>\n",
       "    </tr>\n",
       "    <tr>\n",
       "      <th>5</th>\n",
       "      <td>B</td>\n",
       "      <td>15</td>\n",
       "      <td>1</td>\n",
       "    </tr>\n",
       "    <tr>\n",
       "      <th>6</th>\n",
       "      <td>B</td>\n",
       "      <td>17</td>\n",
       "      <td>9</td>\n",
       "    </tr>\n",
       "    <tr>\n",
       "      <th>7</th>\n",
       "      <td>B</td>\n",
       "      <td>20</td>\n",
       "      <td>6</td>\n",
       "    </tr>\n",
       "    <tr>\n",
       "      <th>8</th>\n",
       "      <td>B</td>\n",
       "      <td>20</td>\n",
       "      <td>6</td>\n",
       "    </tr>\n",
       "  </tbody>\n",
       "</table>\n",
       "</div>"
      ],
      "text/plain": [
       "  team  points  assists\n",
       "0    A      10        5\n",
       "1    A      10        5\n",
       "2    A      12        7\n",
       "3    A      12        9\n",
       "4    A      13       12\n",
       "5    B      15        1\n",
       "6    B      17        9\n",
       "7    B      20        6\n",
       "8    B      20        6"
      ]
     },
     "execution_count": 38,
     "metadata": {},
     "output_type": "execute_result"
    }
   ],
   "source": [
    "df = pd.DataFrame({'team': ['A', 'A', 'A', 'A', 'A', 'B', 'B', 'B', 'B'],\n",
    "                   'points': [10, 10, 12, 12,13, 15, 17, 20, 20],\n",
    "                   'assists': [5, 5, 7, 9, 12,1, 9, 6, 6]})\n",
    "\n",
    "df\n"
   ]
  },
  {
   "cell_type": "code",
   "execution_count": 40,
   "metadata": {},
   "outputs": [
    {
     "data": {
      "text/html": [
       "<div>\n",
       "<style scoped>\n",
       "    .dataframe tbody tr th:only-of-type {\n",
       "        vertical-align: middle;\n",
       "    }\n",
       "\n",
       "    .dataframe tbody tr th {\n",
       "        vertical-align: top;\n",
       "    }\n",
       "\n",
       "    .dataframe thead th {\n",
       "        text-align: right;\n",
       "    }\n",
       "</style>\n",
       "<table border=\"1\" class=\"dataframe\">\n",
       "  <thead>\n",
       "    <tr style=\"text-align: right;\">\n",
       "      <th></th>\n",
       "      <th>team</th>\n",
       "      <th>points</th>\n",
       "      <th>assists</th>\n",
       "    </tr>\n",
       "  </thead>\n",
       "  <tbody>\n",
       "    <tr>\n",
       "      <th>1</th>\n",
       "      <td>A</td>\n",
       "      <td>10</td>\n",
       "      <td>5</td>\n",
       "    </tr>\n",
       "    <tr>\n",
       "      <th>2</th>\n",
       "      <td>A</td>\n",
       "      <td>12</td>\n",
       "      <td>7</td>\n",
       "    </tr>\n",
       "    <tr>\n",
       "      <th>3</th>\n",
       "      <td>A</td>\n",
       "      <td>12</td>\n",
       "      <td>9</td>\n",
       "    </tr>\n",
       "    <tr>\n",
       "      <th>4</th>\n",
       "      <td>A</td>\n",
       "      <td>13</td>\n",
       "      <td>12</td>\n",
       "    </tr>\n",
       "    <tr>\n",
       "      <th>6</th>\n",
       "      <td>B</td>\n",
       "      <td>17</td>\n",
       "      <td>9</td>\n",
       "    </tr>\n",
       "    <tr>\n",
       "      <th>7</th>\n",
       "      <td>B</td>\n",
       "      <td>20</td>\n",
       "      <td>6</td>\n",
       "    </tr>\n",
       "    <tr>\n",
       "      <th>8</th>\n",
       "      <td>B</td>\n",
       "      <td>20</td>\n",
       "      <td>6</td>\n",
       "    </tr>\n",
       "  </tbody>\n",
       "</table>\n",
       "</div>"
      ],
      "text/plain": [
       "  team  points  assists\n",
       "1    A      10        5\n",
       "2    A      12        7\n",
       "3    A      12        9\n",
       "4    A      13       12\n",
       "6    B      17        9\n",
       "7    B      20        6\n",
       "8    B      20        6"
      ]
     },
     "execution_count": 40,
     "metadata": {},
     "output_type": "execute_result"
    }
   ],
   "source": [
    "df[df.duplicated(['team'])]\n"
   ]
  },
  {
   "cell_type": "code",
   "execution_count": 39,
   "metadata": {},
   "outputs": [
    {
     "data": {
      "text/html": [
       "<div>\n",
       "<style scoped>\n",
       "    .dataframe tbody tr th:only-of-type {\n",
       "        vertical-align: middle;\n",
       "    }\n",
       "\n",
       "    .dataframe tbody tr th {\n",
       "        vertical-align: top;\n",
       "    }\n",
       "\n",
       "    .dataframe thead th {\n",
       "        text-align: right;\n",
       "    }\n",
       "</style>\n",
       "<table border=\"1\" class=\"dataframe\">\n",
       "  <thead>\n",
       "    <tr style=\"text-align: right;\">\n",
       "      <th></th>\n",
       "      <th>team</th>\n",
       "      <th>points</th>\n",
       "      <th>assists</th>\n",
       "    </tr>\n",
       "  </thead>\n",
       "  <tbody>\n",
       "    <tr>\n",
       "      <th>1</th>\n",
       "      <td>A</td>\n",
       "      <td>10</td>\n",
       "      <td>5</td>\n",
       "    </tr>\n",
       "    <tr>\n",
       "      <th>3</th>\n",
       "      <td>A</td>\n",
       "      <td>12</td>\n",
       "      <td>9</td>\n",
       "    </tr>\n",
       "    <tr>\n",
       "      <th>8</th>\n",
       "      <td>B</td>\n",
       "      <td>20</td>\n",
       "      <td>6</td>\n",
       "    </tr>\n",
       "  </tbody>\n",
       "</table>\n",
       "</div>"
      ],
      "text/plain": [
       "  team  points  assists\n",
       "1    A      10        5\n",
       "3    A      12        9\n",
       "8    B      20        6"
      ]
     },
     "execution_count": 39,
     "metadata": {},
     "output_type": "execute_result"
    }
   ],
   "source": [
    "df[df.duplicated(['team', 'points'])]\n"
   ]
  },
  {
   "cell_type": "code",
   "execution_count": 71,
   "metadata": {},
   "outputs": [
    {
     "data": {
      "text/plain": [
       "(15579, 12)"
      ]
     },
     "execution_count": 71,
     "metadata": {},
     "output_type": "execute_result"
    }
   ],
   "source": [
    "papers = pd.read_csv(\"data/info/info_full.csv\")\n",
    "papers.shape"
   ]
  },
  {
   "cell_type": "code",
   "execution_count": 63,
   "metadata": {},
   "outputs": [
    {
     "data": {
      "text/plain": [
       "(11443, 12)"
      ]
     },
     "execution_count": 63,
     "metadata": {},
     "output_type": "execute_result"
    }
   ],
   "source": [
    "duplicatedRows = papers[papers.duplicated(subset=['name'])]\n",
    "duplicatedRows.shape"
   ]
  },
  {
   "cell_type": "code",
   "execution_count": 74,
   "metadata": {},
   "outputs": [
    {
     "name": "stdout",
     "output_type": "stream",
     "text": [
      "(0, 12)\n"
     ]
    }
   ],
   "source": [
    "# duplicate refs of same paper\n",
    "wd = papers[papers.duplicated(subset=['name','parent_id'])]\n",
    "print(wd.shape)\n",
    "# wd.head(n=5)"
   ]
  },
  {
   "cell_type": "code",
   "execution_count": 65,
   "metadata": {},
   "outputs": [
    {
     "data": {
      "text/plain": [
       "(15579, 12)"
      ]
     },
     "execution_count": 65,
     "metadata": {},
     "output_type": "execute_result"
    }
   ],
   "source": [
    "pn = papers.drop_duplicates(subset=['name', 'parent_id'], keep='last')\n",
    "pn.shape"
   ]
  },
  {
   "cell_type": "code",
   "execution_count": 61,
   "metadata": {},
   "outputs": [],
   "source": [
    "# papers[papers['name'] =='Latent Dirichlet Allocation']"
   ]
  },
  {
   "cell_type": "code",
   "execution_count": 66,
   "metadata": {},
   "outputs": [],
   "source": [
    "pn.to_csv(\"data/info/info_full.csv\", index=False)"
   ]
  },
  {
   "cell_type": "code",
   "execution_count": 72,
   "metadata": {},
   "outputs": [],
   "source": [
    "# def getDuplicatePaperInfo(paper):\n",
    "# \tpaper_found = papers[papers['id'] == paper['parent_id']]\n",
    "# \treturn paper_found"
   ]
  },
  {
   "cell_type": "code",
   "execution_count": 71,
   "metadata": {},
   "outputs": [],
   "source": [
    "# getDuplicatePaperInfo(wd.iloc[0]).to_dict('records')"
   ]
  },
  {
   "cell_type": "code",
   "execution_count": 79,
   "metadata": {},
   "outputs": [
    {
     "name": "stdout",
     "output_type": "stream",
     "text": [
      "(80, 6)\n"
     ]
    }
   ],
   "source": [
    "iwt = pd.read_csv(\"data/info/info_waiting.csv\")\n",
    "# duplicate refs of same paper\n",
    "iwtd = iwt[iwt.duplicated(subset=['name', 'parent_id'])]\n",
    "print(iwtd.shape)\n",
    "# wd.head(n=5)\n"
   ]
  },
  {
   "cell_type": "code",
   "execution_count": 80,
   "metadata": {},
   "outputs": [
    {
     "data": {
      "text/plain": [
       "(6043, 6)"
      ]
     },
     "execution_count": 80,
     "metadata": {},
     "output_type": "execute_result"
    }
   ],
   "source": [
    "pnn = iwt.drop_duplicates(subset=['name', 'parent_id'], keep='last')\n",
    "pnn.shape\n"
   ]
  },
  {
   "cell_type": "code",
   "execution_count": 81,
   "metadata": {},
   "outputs": [],
   "source": [
    "pnn.to_csv(\"data/info/info_waiting.csv\", index=False)"
   ]
  },
  {
   "attachments": {},
   "cell_type": "markdown",
   "metadata": {},
   "source": [
    "### Handle Duplicate Papers"
   ]
  },
  {
   "cell_type": "code",
   "execution_count": 82,
   "metadata": {},
   "outputs": [
    {
     "data": {
      "text/plain": [
       "(15579, 12)"
      ]
     },
     "execution_count": 82,
     "metadata": {},
     "output_type": "execute_result"
    }
   ],
   "source": [
    "papers = pd.read_csv(\"data/info/info_full.csv\")\n",
    "papers.shape\n"
   ]
  },
  {
   "cell_type": "code",
   "execution_count": 85,
   "metadata": {},
   "outputs": [
    {
     "data": {
      "text/plain": [
       "(6043, 6)"
      ]
     },
     "execution_count": 85,
     "metadata": {},
     "output_type": "execute_result"
    }
   ],
   "source": [
    "iwt = pd.read_csv(\"data/info/info_waiting.csv\")\n",
    "iwt.shape"
   ]
  },
  {
   "cell_type": "code",
   "execution_count": 84,
   "metadata": {},
   "outputs": [],
   "source": [
    "up = pd.DataFrame()\n",
    "for i, dup in iwt.iterrows():\n",
    "\ttry:\n",
    "\t\tf = papers[papers['name'] == dup['name']].iloc[0]\n",
    "\t\tp = pd.DataFrame([f])\n",
    "\t\t# display(p)\n",
    "\t\tp['paper_link'] = dup['paper_link']\n",
    "\t\tp['parent_id'] = dup['parent_id']\n",
    "\t\tp['id'] = dup['id']\n",
    "\t\t# display(p)\n",
    "\t\tup = up.append(p)\n",
    "\t\t# break\n",
    "\texcept:\n",
    "\t\t# print(dup['name'])\n",
    "\t\tpass"
   ]
  },
  {
   "cell_type": "code",
   "execution_count": 86,
   "metadata": {},
   "outputs": [
    {
     "data": {
      "text/plain": [
       "(0, 0)"
      ]
     },
     "execution_count": 86,
     "metadata": {},
     "output_type": "execute_result"
    }
   ],
   "source": [
    "up.shape"
   ]
  },
  {
   "cell_type": "code",
   "execution_count": 57,
   "metadata": {},
   "outputs": [
    {
     "data": {
      "text/html": [
       "<div>\n",
       "<style scoped>\n",
       "    .dataframe tbody tr th:only-of-type {\n",
       "        vertical-align: middle;\n",
       "    }\n",
       "\n",
       "    .dataframe tbody tr th {\n",
       "        vertical-align: top;\n",
       "    }\n",
       "\n",
       "    .dataframe thead th {\n",
       "        text-align: right;\n",
       "    }\n",
       "</style>\n",
       "<table border=\"1\" class=\"dataframe\">\n",
       "  <thead>\n",
       "    <tr style=\"text-align: right;\">\n",
       "      <th></th>\n",
       "      <th>id</th>\n",
       "      <th>parent_id</th>\n",
       "      <th>name</th>\n",
       "      <th>type</th>\n",
       "      <th>published_date</th>\n",
       "      <th>references_count</th>\n",
       "      <th>research_interest_score</th>\n",
       "      <th>citations_count</th>\n",
       "      <th>recommendations_count</th>\n",
       "      <th>reads_count</th>\n",
       "      <th>paper_link</th>\n",
       "      <th>download_link</th>\n",
       "    </tr>\n",
       "  </thead>\n",
       "  <tbody>\n",
       "    <tr>\n",
       "      <th>3089</th>\n",
       "      <td>93514e6c-c5dc-44a0-a271-712269ed9a82</td>\n",
       "      <td>3f4fa016-1ba0-4014-a0fa-f1f8a0775f2d</td>\n",
       "      <td>Simple BM25 extension to multiple weighted fields</td>\n",
       "      <td>Conference Paper</td>\n",
       "      <td>2004-01-01T00:00:00.000Z</td>\n",
       "      <td>21</td>\n",
       "      <td>315.8</td>\n",
       "      <td>601</td>\n",
       "      <td>0</td>\n",
       "      <td>2401</td>\n",
       "      <td>https://www.researchgate.net/publication/22161...</td>\n",
       "      <td>https://www.researchgate.net/profile/Stephen-R...</td>\n",
       "    </tr>\n",
       "    <tr>\n",
       "      <th>3090</th>\n",
       "      <td>fb791d6e-b5ff-414f-a8a3-c7cac2ccd737</td>\n",
       "      <td>3f4fa016-1ba0-4014-a0fa-f1f8a0775f2d</td>\n",
       "      <td>Automatic keywords extraction of Chinese docum...</td>\n",
       "      <td>Conference Paper</td>\n",
       "      <td>2003-11-26T00:00:00.000Z</td>\n",
       "      <td>87</td>\n",
       "      <td>9.0</td>\n",
       "      <td>18</td>\n",
       "      <td>0</td>\n",
       "      <td>32</td>\n",
       "      <td>https://www.researchgate.net/publication/40605...</td>\n",
       "      <td>https://www.researchgate.net/profile/David-San...</td>\n",
       "    </tr>\n",
       "  </tbody>\n",
       "</table>\n",
       "</div>"
      ],
      "text/plain": [
       "                                        id  \\\n",
       "3089  93514e6c-c5dc-44a0-a271-712269ed9a82   \n",
       "3090  fb791d6e-b5ff-414f-a8a3-c7cac2ccd737   \n",
       "\n",
       "                                 parent_id  \\\n",
       "3089  3f4fa016-1ba0-4014-a0fa-f1f8a0775f2d   \n",
       "3090  3f4fa016-1ba0-4014-a0fa-f1f8a0775f2d   \n",
       "\n",
       "                                                   name              type  \\\n",
       "3089  Simple BM25 extension to multiple weighted fields  Conference Paper   \n",
       "3090  Automatic keywords extraction of Chinese docum...  Conference Paper   \n",
       "\n",
       "                published_date  references_count  research_interest_score  \\\n",
       "3089  2004-01-01T00:00:00.000Z                21                    315.8   \n",
       "3090  2003-11-26T00:00:00.000Z                87                      9.0   \n",
       "\n",
       "      citations_count  recommendations_count  reads_count  \\\n",
       "3089              601                      0         2401   \n",
       "3090               18                      0           32   \n",
       "\n",
       "                                             paper_link  \\\n",
       "3089  https://www.researchgate.net/publication/22161...   \n",
       "3090  https://www.researchgate.net/publication/40605...   \n",
       "\n",
       "                                          download_link  \n",
       "3089  https://www.researchgate.net/profile/Stephen-R...  \n",
       "3090  https://www.researchgate.net/profile/David-San...  "
      ]
     },
     "execution_count": 57,
     "metadata": {},
     "output_type": "execute_result"
    }
   ],
   "source": [
    "up.head(n=2)"
   ]
  },
  {
   "cell_type": "code",
   "execution_count": 30,
   "metadata": {},
   "outputs": [
    {
     "data": {
      "text/plain": [
       "['cc1810dd-5c12-4bf0-99a7-828ded2645be',\n",
       " '325e410f-5e53-408b-b403-6537ba79a117',\n",
       " 'c997d17e-3217-4d1b-85a6-e3e2db4e32e1',\n",
       " '8f4b7eeb-1805-482e-841d-012e3bb56de5',\n",
       " '0bac5e62-ffe0-4e94-a2dd-4de91515aee7']"
      ]
     },
     "execution_count": 30,
     "metadata": {},
     "output_type": "execute_result"
    }
   ],
   "source": [
    "ids = up['id'].tolist()\n",
    "ids[:5]"
   ]
  },
  {
   "cell_type": "code",
   "execution_count": 58,
   "metadata": {},
   "outputs": [
    {
     "data": {
      "text/plain": [
       "(7423, 6)"
      ]
     },
     "execution_count": 58,
     "metadata": {},
     "output_type": "execute_result"
    }
   ],
   "source": [
    "iwt.shape"
   ]
  },
  {
   "cell_type": "code",
   "execution_count": 59,
   "metadata": {},
   "outputs": [
    {
     "data": {
      "text/plain": [
       "(6123, 6)"
      ]
     },
     "execution_count": 59,
     "metadata": {},
     "output_type": "execute_result"
    }
   ],
   "source": [
    "# remove from info_waiting\n",
    "f = iwt[~iwt['id'].isin(up['id'])]\n",
    "f.shape\n"
   ]
  },
  {
   "cell_type": "code",
   "execution_count": 60,
   "metadata": {},
   "outputs": [],
   "source": [
    "up.to_csv(\"data/info/info_full.csv\",mode='a', index=False, header=False)\n"
   ]
  },
  {
   "cell_type": "code",
   "execution_count": 61,
   "metadata": {},
   "outputs": [],
   "source": [
    "f.to_csv(\"data/info/info_waiting.csv\",index=False)"
   ]
  },
  {
   "cell_type": "code",
   "execution_count": null,
   "metadata": {},
   "outputs": [],
   "source": [
    "# add to info list\n"
   ]
  },
  {
   "attachments": {},
   "cell_type": "markdown",
   "metadata": {},
   "source": [
    "### Remove Duplicate Papers"
   ]
  },
  {
   "cell_type": "code",
   "execution_count": 16,
   "metadata": {},
   "outputs": [
    {
     "name": "stdout",
     "output_type": "stream",
     "text": [
      "(1444, 5)\n"
     ]
    }
   ],
   "source": [
    "waiting_list_ref = pd.read_csv(\"data/info/waiting_list_ref.csv\")\n",
    "\n",
    "# sorting by first name\n",
    "waiting_list_ref.sort_values(\"name\", inplace=True)\n",
    " \n",
    "# dropping duplicate values\n",
    "waiting_list_ref.drop_duplicates(subset=\"name\",\n",
    "                     keep=False, inplace=True)\n",
    "\n",
    "print(waiting_list_ref.shape)\n",
    "# waiting_list_ref.to_csv(\"data/info/waiting_list_ref.csv\", index=False)\n",
    "\n",
    "\n"
   ]
  },
  {
   "attachments": {},
   "cell_type": "markdown",
   "metadata": {},
   "source": [
    "## Fetch Done Count"
   ]
  },
  {
   "attachments": {},
   "cell_type": "markdown",
   "metadata": {},
   "source": [
    "### Level 1"
   ]
  },
  {
   "cell_type": "code",
   "execution_count": 2,
   "metadata": {},
   "outputs": [],
   "source": [
    "paper_id='8bde6cb8-296d-4593-883f-b768103e1e69'"
   ]
  },
  {
   "attachments": {},
   "cell_type": "markdown",
   "metadata": {},
   "source": [
    "Fetch Required: "
   ]
  },
  {
   "cell_type": "code",
   "execution_count": 3,
   "metadata": {},
   "outputs": [
    {
     "name": "stdout",
     "output_type": "stream",
     "text": [
      "(40, 6)\n",
      "['41afce58-139f-48c2-a267-cd3db1d76e33'\n",
      " '79653ba3-6439-4dd4-b04a-a0c8527b18c9']\n"
     ]
    }
   ],
   "source": [
    "root = pd.read_csv(f\"data/papers/{paper_id}.csv\")\n",
    "print(root.shape)\n",
    "rootIds = root['id'].values\n",
    "print(rootIds[:2])"
   ]
  },
  {
   "cell_type": "code",
   "execution_count": 4,
   "metadata": {},
   "outputs": [
    {
     "data": {
      "text/plain": [
       "38"
      ]
     },
     "execution_count": 4,
     "metadata": {},
     "output_type": "execute_result"
    }
   ],
   "source": [
    "f = [f for f in \n",
    "\t\t\t\t[file.name.split(\".\")[0] for file in os.scandir('data/papers') if file.name.endswith(\".csv\")] \n",
    "\tif f in rootIds]\n",
    "len(f)"
   ]
  },
  {
   "attachments": {},
   "cell_type": "markdown",
   "metadata": {},
   "source": [
    "Fetch Done:"
   ]
  },
  {
   "cell_type": "code",
   "execution_count": 5,
   "metadata": {},
   "outputs": [
    {
     "name": "stdout",
     "output_type": "stream",
     "text": [
      "(38, 6)\n",
      "['41afce58-139f-48c2-a267-cd3db1d76e33'\n",
      " '79653ba3-6439-4dd4-b04a-a0c8527b18c9']\n"
     ]
    }
   ],
   "source": [
    "done_list = pd.read_csv(\"data/info/done_list_ref.csv\")\n",
    "done_list1 = done_list[done_list['id'].isin(rootIds)]\n",
    "print(done_list1.shape)\n",
    "done1_ids = done_list1['id'].values\n",
    "print(done1_ids[:2])"
   ]
  },
  {
   "attachments": {},
   "cell_type": "markdown",
   "metadata": {},
   "source": [
    "### Level 2"
   ]
  },
  {
   "attachments": {},
   "cell_type": "markdown",
   "metadata": {},
   "source": [
    "Fetch Required:"
   ]
  },
  {
   "cell_type": "code",
   "execution_count": 15,
   "metadata": {},
   "outputs": [
    {
     "name": "stdout",
     "output_type": "stream",
     "text": [
      "(1133, 6)\n"
     ]
    },
    {
     "data": {
      "text/plain": [
       "array(['181d0cfc-e933-4f3b-a2d4-e00abcb99db4',\n",
       "       '409c7413-2d41-4f07-86a9-ae27424e38e7'], dtype=object)"
      ]
     },
     "execution_count": 15,
     "metadata": {},
     "output_type": "execute_result"
    }
   ],
   "source": [
    "# read all csv files using pandas\n",
    "l2_papers = pd.concat([pd.read_csv(f\"data/papers/{f}.csv\") for f in done1_ids])\n",
    "print(l2_papers.shape)\n",
    "l2_ids_r = l2_papers['id'].values\n",
    "l2_ids_r[:2]\n"
   ]
  },
  {
   "attachments": {},
   "cell_type": "markdown",
   "metadata": {},
   "source": [
    "Fetch Done:"
   ]
  },
  {
   "cell_type": "code",
   "execution_count": 16,
   "metadata": {},
   "outputs": [
    {
     "name": "stdout",
     "output_type": "stream",
     "text": [
      "(944, 6)\n"
     ]
    },
    {
     "data": {
      "text/plain": [
       "array(['181d0cfc-e933-4f3b-a2d4-e00abcb99db4',\n",
       "       '409c7413-2d41-4f07-86a9-ae27424e38e7'], dtype=object)"
      ]
     },
     "execution_count": 16,
     "metadata": {},
     "output_type": "execute_result"
    }
   ],
   "source": [
    "done2_ids = done_list[done_list['id'].isin(l2_ids_r)]\n",
    "print(done2_ids.shape)\n",
    "l2_ids_d = done2_ids['id'].values\n",
    "l2_ids_d[:2]\n"
   ]
  },
  {
   "attachments": {},
   "cell_type": "markdown",
   "metadata": {},
   "source": [
    "### Level 3"
   ]
  },
  {
   "attachments": {},
   "cell_type": "markdown",
   "metadata": {},
   "source": [
    "Fetch Required:"
   ]
  },
  {
   "cell_type": "code",
   "execution_count": 30,
   "metadata": {},
   "outputs": [
    {
     "name": "stdout",
     "output_type": "stream",
     "text": [
      "(21319, 6)\n"
     ]
    },
    {
     "data": {
      "text/plain": [
       "array(['4a14b1b7-269a-429f-a4c0-91f7445283d0',\n",
       "       'dbfa72d9-4bc1-489d-bf6c-543da62164ac'], dtype=object)"
      ]
     },
     "execution_count": 30,
     "metadata": {},
     "output_type": "execute_result"
    }
   ],
   "source": [
    "# read all csv files using pandas\n",
    "l3_papers = pd.concat([pd.read_csv(f\"data/papers/{f}.csv\") for f in l2_ids_d])\n",
    "print(l3_papers.shape)\n",
    "l3_ids_r = l3_papers['id'].values\n",
    "l3_ids_r[:2]\n"
   ]
  },
  {
   "cell_type": "code",
   "execution_count": 31,
   "metadata": {},
   "outputs": [
    {
     "name": "stdout",
     "output_type": "stream",
     "text": [
      "(406, 6)\n"
     ]
    },
    {
     "data": {
      "text/plain": [
       "array(['4a14b1b7-269a-429f-a4c0-91f7445283d0',\n",
       "       'dbfa72d9-4bc1-489d-bf6c-543da62164ac'], dtype=object)"
      ]
     },
     "execution_count": 31,
     "metadata": {},
     "output_type": "execute_result"
    }
   ],
   "source": [
    "done3_ids = done_list[done_list['id'].isin(l3_ids_r)]\n",
    "print(done3_ids.shape)\n",
    "l3_ids_d = done3_ids['id'].values\n",
    "l3_ids_d[:2]"
   ]
  },
  {
   "cell_type": "code",
   "execution_count": 33,
   "metadata": {},
   "outputs": [
    {
     "name": "stdout",
     "output_type": "stream",
     "text": [
      "(20821, 6)\n"
     ]
    }
   ],
   "source": [
    "wtl = pd.read_csv(\"data/info/waiting_list_ref.csv\")\n",
    "wtl1 = wtl[wtl['id'].isin(l3_ids_r)]\n",
    "print(wtl1.shape)"
   ]
  },
  {
   "cell_type": "code",
   "execution_count": 23,
   "metadata": {},
   "outputs": [],
   "source": [
    "# wtl1.to_csv(\"data/info/waiting_list_ref.csv\", index=False)"
   ]
  },
  {
   "cell_type": "code",
   "execution_count": 34,
   "metadata": {},
   "outputs": [],
   "source": [
    "wtl1.to_csv(\"data/info/info_waiting.csv\",mode='a', header=False, index=False)"
   ]
  },
  {
   "cell_type": "code",
   "execution_count": 29,
   "metadata": {},
   "outputs": [
    {
     "name": "stdout",
     "output_type": "stream",
     "text": [
      "(0, 6)\n"
     ]
    }
   ],
   "source": [
    "nfl = pd.read_csv(\"data/info/not_found_ref.csv\")\n",
    "nfl1 = wtl[wtl['id'].isin(l3_ids_r)]\n",
    "print(wtl1.shape)\n"
   ]
  },
  {
   "attachments": {},
   "cell_type": "markdown",
   "metadata": {},
   "source": [
    "## Pdf Downloader"
   ]
  },
  {
   "cell_type": "code",
   "execution_count": 2,
   "metadata": {},
   "outputs": [],
   "source": [
    "dlink = \"https://www.researchgate.net/profile/Corina-Florescu/publication/318596725_PositionRank_An_Unsupervised_Approach_to_Keyphrase_Extraction_from_Scholarly_Documents/links/5972182c0f7e9b40168fe63d/PositionRank-An-Unsupervised-Approach-to-Keyphrase-Extraction-from-Scholarly-Documents.pdf\"\n"
   ]
  },
  {
   "cell_type": "code",
   "execution_count": 10,
   "metadata": {},
   "outputs": [
    {
     "name": "stdout",
     "output_type": "stream",
     "text": [
      "{'User-Agent': 'Mozilla/5.0 (Windows NT 10.0; Win64; x64) AppleWebKit/537.36 (KHTML, like Gecko) Chrome/101.0.4951.64 Safari/537.36 Edg/101.0.1210.53', 'Accept-Encoding': 'gzip, deflate, br', 'Accept': 'text/html,application/xhtml+xml,application/xml;q=0.9,image/webp,image/apng,*/*;q=0.8,application/signed-exchange;v=b3;q=0.9', 'Connection': 'keep-alive', 'sec-ch-ua-platform': '\"Windows\"', 'sec-ch-ua': '\" Not A;Brand\";v=\"99\", \"Chromium\";v=\"101\", \"Microsoft Edge\";v=\"101\"', 'sec-ch-ua-mobile': '?0', 'Sec-Fetch-User': '?1', 'Sec-Fetch-Site': 'none', 'Sec-Fetch-Mode': 'navigate', 'Sec-Fetch-Dest': 'document', 'Accept-Language': 'en-US,en;q=0.9', 'Cookie': 'did=zp8vP15CGPkm8uJhry60BLeiaOSKZW8p51UupMljAdqP7WMnERbTEfnOEdkUTTE6; ptc=RG1.81179579133230362.1653300988; __cf_bm=VPc7zYTygZZxFutIAXPHQpRxUBRoKo5DuX4.nIiFqY4-1653300988-0-AS9iIVhVUqqi7Se51WNYTtVymQf9Bcoz4j93uLiq8GlgX73WKpoRJDlUdo0r3fsgmlKXLudkfYdv3NWQ3R10So0=; sid=JwZkeNfoeKESm08f4EtenQVKDk2nKtHGd7oj2rLJlkcwYIZBWff4LHaT6fuoKhSCkGzqyR0Hw5NoUrpTSJnIQsBdhyT7H4gjE0OLNSdOG1q6SSiq5rFPqb1UCjy8nmQS', 'Upgrade-Insecure-Requests': '1', 'Cache-Control': 'max-age=0'}\n",
      "\n",
      "Error downloading the file\n",
      "403\n",
      "Forbidden\n"
     ]
    }
   ],
   "source": [
    "import requests\n",
    "import shutil\n",
    "dlink = \"https://www.researchgate.net/profile/Corina-Florescu/publication/318596725_PositionRank_An_Unsupervised_Approach_to_Keyphrase_Extraction_from_Scholarly_Documents/links/5972182c0f7e9b40168fe63d/PositionRank-An-Unsupervised-Approach-to-Keyphrase-Extraction-from-Scholarly-Documents.pdf\"\n",
    "\n",
    "r = requests.get(dlink, stream=True,\n",
    "                 headers={\n",
    "                     \"User-Agent\": 'Mozilla/5.0 (Windows NT 10.0; Win64; x64) AppleWebKit/537.36 (KHTML, like Gecko) Chrome/101.0.4951.64 Safari/537.36 Edg/101.0.1210.53',\n",
    "                     \"sec-ch-ua-platform\": '\"Windows\"',\n",
    "                     \"sec-ch-ua\": '\" Not A;Brand\";v=\"99\", \"Chromium\";v=\"101\", \"Microsoft Edge\";v=\"101\"',\n",
    "                     \"sec-ch-ua-mobile\": '?0',\n",
    "                     \"Accept\": \"text/html,application/xhtml+xml,application/xml;q=0.9,image/webp,image/apng,*/*;q=0.8,application/signed-exchange;v=b3;q=0.9\",\n",
    "                     \"Sec-Fetch-User\": \"?1\",\n",
    "                     \"Sec-Fetch-Site\": \"none\",\n",
    "                     \"Sec-Fetch-Mode\": \"navigate\",\n",
    "                     \"Sec-Fetch-Dest\": \"document\",\n",
    "                     \"Accept\": \"text/html,application/xhtml+xml,application/xml;q=0.9,image/webp,image/apng,*/*;q=0.8,application/signed-exchange;v=b3;q=0.9\",\n",
    "                     \"Accept-Encoding\": \"gzip, deflate, br\",\n",
    "                     \"Accept-Language\": \"en-US,en;q=0.9\",\n",
    "                     \"Cookie\": \"did=zp8vP15CGPkm8uJhry60BLeiaOSKZW8p51UupMljAdqP7WMnERbTEfnOEdkUTTE6; ptc=RG1.81179579133230362.1653300988; __cf_bm=VPc7zYTygZZxFutIAXPHQpRxUBRoKo5DuX4.nIiFqY4-1653300988-0-AS9iIVhVUqqi7Se51WNYTtVymQf9Bcoz4j93uLiq8GlgX73WKpoRJDlUdo0r3fsgmlKXLudkfYdv3NWQ3R10So0=; sid=JwZkeNfoeKESm08f4EtenQVKDk2nKtHGd7oj2rLJlkcwYIZBWff4LHaT6fuoKhSCkGzqyR0Hw5NoUrpTSJnIQsBdhyT7H4gjE0OLNSdOG1q6SSiq5rFPqb1UCjy8nmQS\",\n",
    "                     \"Upgrade-Insecure-Requests\": \"1\",\n",
    "                     \"Cache-Control\": \"max-age=0\",\n",
    "                 }\n",
    "                 )\n",
    "print(r.request.headers)\n",
    "print()\n",
    "if r.status_code == 200:\n",
    "    with open(\"x.pdf\", 'wb') as f:\n",
    "        r.raw.decode_content = True\n",
    "        shutil.copyfileobj(r.raw, f)\n",
    "else:\n",
    "    print(\"Error downloading the file\")\n",
    "    print(r.status_code)\n",
    "    print(r.reason)\n"
   ]
  },
  {
   "cell_type": "code",
   "execution_count": 15,
   "metadata": {},
   "outputs": [],
   "source": [
    "url = \"https://www.researchgate.net/profile/Craig-Nevill-Manning/publication/2822711_Domain-Specific_Keyphrase_Extraction/links/0912f507c157a6f434000000/Domain-Specific-Keyphrase-Extraction.pdf?_sg%5B0%5D=nDCxU3Cjxs1rNOav5uYFV5vOGIppmSu8xCwidIrSVi27I79w_aqPVI-IK9KdUuo-_bBxjebeH2MpPA9gC-15hg.5T7XM8Vm1gxAXGWAFpcNwsp8Kd84B1hrJFcvMn6MpgSUxsPEHDEB9ct_jkRmw7xKLh5Dz1yr9YHP58jn_MYCFg&_sg%5B1%5D=Qyp3bxFYvVsK-PYgxBdo3qZglEoLVUnoxalwWOYDWoi_ZCXkKGUx_T2W5LliWjekUbyIRqC69dZi-MMKOxOU2Ymo-__Mxjb4UkYTIK3GfEQd.5T7XM8Vm1gxAXGWAFpcNwsp8Kd84B1hrJFcvMn6MpgSUxsPEHDEB9ct_jkRmw7xKLh5Dz1yr9YHP58jn_MYCFg&_iepl%5BgeneralViewId%5D=QYn7rsjvN7tnHFiu76Y9u4pX2y9nccvudIU9&_iepl%5Bcontexts%5D%5B0%5D=searchReact&_iepl%5BviewId%5D=fDuM1r3SPW94Rk91o311pQ0B6tRVYqqVnPAl&_iepl%5BsearchType%5D=publication&_iepl%5Bdata%5D%5BcountLessEqual20%5D=1&_iepl%5Bdata%5D%5BinteractedWithPosition1%5D=1&_iepl%5Bdata%5D%5BwithoutEnrichment%5D=1&_iepl%5Bposition%5D=1&_iepl%5BrgKey%5D=PB%3A2822711&_iepl%5BtargetEntityId%5D=PB%3A2822711&_iepl%5BinteractionType%5D=publicationDownload\"\n"
   ]
  },
  {
   "cell_type": "code",
   "execution_count": 3,
   "metadata": {},
   "outputs": [],
   "source": [
    "url = \"https://www.researchgate.net/profile/Corina-Florescu/publication/318596725_PositionRank_An_Unsupervised_Approach_to_Keyphrase_Extraction_from_Scholarly_Documents/links/5972182c0f7e9b40168fe63d/PositionRank-An-Unsupervised-Approach-to-Keyphrase-Extraction-from-Scholarly-Documents.pdf\"\n",
    "\n",
    "        \n"
   ]
  },
  {
   "cell_type": "code",
   "execution_count": 4,
   "metadata": {},
   "outputs": [],
   "source": [
    "url = \"http://www.aclweb.org/anthology/P/P17/P17-1102.pdf\"\n"
   ]
  },
  {
   "cell_type": "code",
   "execution_count": 5,
   "metadata": {},
   "outputs": [
    {
     "data": {
      "text/plain": [
       "[]"
      ]
     },
     "execution_count": 5,
     "metadata": {},
     "output_type": "execute_result"
    }
   ],
   "source": [
    "import ssl\n",
    "import requests\n",
    "from requests.adapters import HTTPAdapter\n",
    "from urllib3.poolmanager import PoolManager\n",
    "from urllib3.util import ssl_\n",
    "\n",
    "\n",
    "CIPHERS = \"ECDHE-RSA-AES256-GCM-SHA384:ECDHE-ECDSA-AES256-GCM-SHA384:ECDHE-RSA-AES256-SHA384:ECDHE-ECDSA-AES256-SHA384:ECDHE-RSA-AES128-GCM-SHA256:ECDHE-RSA-AES128-SHA256:AES256-SHA\"\n",
    "\n",
    "\n",
    "class TLSAdapter(HTTPAdapter):\n",
    "\n",
    "    def __init__(self, ssl_options=0, *args, **kwargs):\n",
    "        self.ssl_options = ssl_options\n",
    "        super().__init__(*args, **kwargs)\n",
    "\n",
    "    def init_poolmanager(self, *args, **kwargs):\n",
    "        context = ssl_.create_urllib3_context(\n",
    "            ciphers=CIPHERS, cert_reqs=ssl.CERT_REQUIRED, options=self.ssl_options)\n",
    "        self.poolmanager = PoolManager(*args, ssl_context=context, **kwargs)\n",
    "\n",
    "def download(fileName, url):\n",
    "\theaders = {\n",
    "\t\t\"User-Agent\": \"Mozilla/5.0 (Windows NT 10.0; Win64; x64) AppleWebKit/537.36 (KHTML, like Gecko) Chrome/101.0.4951.64 Safari/537.36 Edg/101.0.1210.53\",\n",
    "\t}\n",
    "\tadapter = TLSAdapter(ssl.OP_NO_TLSv1 | ssl.OP_NO_TLSv1_1)\n",
    "\n",
    "\twith requests.session() as session:\n",
    "\t\tsession.mount(\"https://www.researchgate.net/\", adapter)\n",
    "\t\tresponse = session.get(url, headers=headers)\n",
    "\t\t# print(response.status_code)  # 200\n",
    "\t\tif response.status_code == 200:\n",
    "\t\t\twith open(f\"data/papers_pdf/{fileName}.pdf\", 'wb') as f:\n",
    "\t\t\t\tf.write(response.content)\n",
    "\t\t\treturn []\n",
    "\t\telse:\n",
    "\t\t\treturn [response.status_code, response.reason]\n",
    "\n",
    "\n",
    "download(\"test\", url)\n"
   ]
  },
  {
   "cell_type": "code",
   "execution_count": 39,
   "metadata": {},
   "outputs": [
    {
     "data": {
      "text/plain": [
       "(853, 12)"
      ]
     },
     "execution_count": 39,
     "metadata": {},
     "output_type": "execute_result"
    }
   ],
   "source": [
    "papers_list = pd.read_csv(\"data/info/info_full.csv\")\n",
    "papers_list['download_link'].isnull().sum()\n",
    "# get all papers that is not null\n",
    "paperDown = papers_list[papers_list['download_link'].notnull()]\n",
    "paperDown.shape"
   ]
  },
  {
   "cell_type": "code",
   "execution_count": 40,
   "metadata": {},
   "outputs": [
    {
     "data": {
      "text/plain": [
       "['8bde6cb8-296d-4593-883f-b768103e1e69',\n",
       " '8bde6cb8-296d-4593-883f-b768103e1e69',\n",
       " '41afce58-139f-48c2-a267-cd3db1d76e33',\n",
       " '41afce58-139f-48c2-a267-cd3db1d76e33']"
      ]
     },
     "execution_count": 40,
     "metadata": {},
     "output_type": "execute_result"
    }
   ],
   "source": [
    "downloaded = pd.read_csv(\"data/info/downloaded.csv\")\n",
    "downloadedIds = downloaded['id'].tolist()\n",
    "downloadedIds\n"
   ]
  },
  {
   "cell_type": "code",
   "execution_count": 45,
   "metadata": {},
   "outputs": [
    {
     "data": {
      "text/plain": [
       "10"
      ]
     },
     "execution_count": 45,
     "metadata": {},
     "output_type": "execute_result"
    }
   ],
   "source": [
    "paperDownNext = paperDown[~paperDown['id'].isin(downloadedIds)]\n",
    "len(paperDownNext.head(n=10).to_dict('records'))\n"
   ]
  },
  {
   "cell_type": "code",
   "execution_count": 47,
   "metadata": {},
   "outputs": [
    {
     "name": "stdout",
     "output_type": "stream",
     "text": [
      "429\n",
      "Too Many Requests\n",
      "429\n",
      "Too Many Requests\n"
     ]
    }
   ],
   "source": [
    "paperDownList = paperDownNext.head(n=2).to_dict(orient='records')\n",
    "len(paperDownList)\n",
    "for paper in paperDownList:\n",
    "\tlink = paper['download_link']\n",
    "\tid = paper['id']\n",
    "\tstatus = download(id, link)\n",
    "\tif not status:\n",
    "\t\tprint(f\"{id} is downloaded\")\n",
    "\t\tinfo = {\n",
    "\t\t\t'id': id\n",
    "\t\t}\n",
    "\t\tdf = pd.DataFrame([info])\n",
    "\t\tdf.to_csv(\"data/info/downloaded.csv\", mode='a', header=False, index=False)\n",
    "\telse:\n",
    "\t\tfor s in status:\n",
    "\t\t\tprint(s)\n"
   ]
  },
  {
   "cell_type": "code",
   "execution_count": 35,
   "metadata": {},
   "outputs": [
    {
     "data": {
      "text/plain": [
       "['8bde6cb8-296d-4593-883f-b768103e1e69',\n",
       " '8bde6cb8-296d-4593-883f-b768103e1e69',\n",
       " '41afce58-139f-48c2-a267-cd3db1d76e33',\n",
       " '41afce58-139f-48c2-a267-cd3db1d76e33']"
      ]
     },
     "execution_count": 35,
     "metadata": {},
     "output_type": "execute_result"
    }
   ],
   "source": [
    "downloaded = pd.read_csv(\"data/info/downloaded.csv\")\n",
    "downloadedIds = downloaded['id'].tolist()\n",
    "downloadedIds\n"
   ]
  },
  {
   "cell_type": "code",
   "execution_count": 27,
   "metadata": {},
   "outputs": [
    {
     "name": "stdout",
     "output_type": "stream",
     "text": [
      "empty\n"
     ]
    }
   ],
   "source": [
    "l = []\n",
    "if not l:\n",
    "\tprint(\"empty\")"
   ]
  },
  {
   "attachments": {},
   "cell_type": "markdown",
   "metadata": {},
   "source": [
    "## Utils"
   ]
  },
  {
   "cell_type": "code",
   "execution_count": 25,
   "metadata": {},
   "outputs": [
    {
     "name": "stdout",
     "output_type": "stream",
     "text": [
      "[2, 4, 6]\n",
      "[4, 8, 12]\n"
     ]
    }
   ],
   "source": [
    "# [x loops(x) condition(x] \n",
    "lst = [1, 2, 3, 4, 5,6]\n",
    "nl = [x for x in lst if x % 2 == 0]\n",
    "print(nl)\n",
    "# [y:x_ loops(x) condition(y)] \t;y = modified x\n",
    "nl = [x * 2 for x in lst if x % 2 == 0]\n",
    "print(nl)"
   ]
  },
  {
   "cell_type": "code",
   "execution_count": 183,
   "metadata": {},
   "outputs": [],
   "source": [
    "# marge all python dictionaries\n",
    "def merge_dicts(*dict_args):\n",
    "    result = {}\n",
    "    for dictionary in dict_args:\n",
    "        result.update(dictionary)\n",
    "    return result\n",
    "\n",
    "# exclude python dictionary properties\n",
    "def exclude_dict_keys(d, keys):\n",
    "    return {k: v for k, v in d.items() if k not in keys}"
   ]
  },
  {
   "cell_type": "code",
   "execution_count": 180,
   "metadata": {},
   "outputs": [
    {
     "data": {
      "text/plain": [
       "{'a': 1, 'b': 2, 'c': 3}"
      ]
     },
     "execution_count": 180,
     "metadata": {},
     "output_type": "execute_result"
    }
   ],
   "source": [
    "merge_dicts({'a': 1}, {'b': 2}, {'c': 3})\n"
   ]
  },
  {
   "cell_type": "code",
   "execution_count": 184,
   "metadata": {},
   "outputs": [
    {
     "data": {
      "text/plain": [
       "{'b': 2, 'c': 3}"
      ]
     },
     "execution_count": 184,
     "metadata": {},
     "output_type": "execute_result"
    }
   ],
   "source": [
    "exclude_dict_keys({'a': 1, 'b': 2, 'c': 3}, ['a'])"
   ]
  },
  {
   "cell_type": "code",
   "execution_count": 160,
   "metadata": {},
   "outputs": [],
   "source": [
    "paper = wt[0]"
   ]
  },
  {
   "cell_type": "code",
   "execution_count": 164,
   "metadata": {},
   "outputs": [],
   "source": [
    "info = {\n",
    "    \"references_count\": 0,\n",
    "    \"research_interest_score\": 0.0,\n",
    "    \"citations_count\": 0,\n",
    "    \"recommendations_count\": 0,\n",
    "    \"reads_count\": 0,\n",
    "}\n",
    "\n"
   ]
  },
  {
   "cell_type": "code",
   "execution_count": 187,
   "metadata": {},
   "outputs": [
    {
     "data": {
      "text/plain": [
       "{'id': '9162e667-b20b-46cb-8137-50b5725f5f35',\n",
       " 'parent_id': 'c00745ce-292b-4b87-bbf0-84bac3e7ab64',\n",
       " 'name': 'Single Document Keyphrase Extraction Using Neighborhood Knowledge.',\n",
       " 'references_count': 0,\n",
       " 'research_interest_score': 0.0,\n",
       " 'citations_count': 0,\n",
       " 'recommendations_count': 0,\n",
       " 'reads_count': 0,\n",
       " 'paper_link': 'https://www.researchgate.net/publication/200044201_Single_Document_Keyphrase_Extraction_Using_Neighborhood_Knowledge?_sg%5B0%5D=7SCYSKC-5lSEcSVbhgUAxBr5NBYZ-d3K_5UMUNPYYLlUQXWJfw53Tp0Pp2yOrhYsDISqACdAK7nzx7Y.flKB6SHcFN7C4axCzZ5LaBjZ3WrQzyvYEYCwaIpaDPMawRqnmIPvgrb8Byg26Hw5CfFLMv796K6n2JmjKkVQDQ&_sg%5B1%5D=t_3kL9fnzFd9gt_Zb-EbOpex50L8Lsk7JzVE16FLvteqFssC3DWScRbOCrZDalAYNSMR1pOFRIFqyi-N-U19DMI52N4.flKB6SHcFN7C4axCzZ5LaBjZ3WrQzyvYEYCwaIpaDPMawRqnmIPvgrb8Byg26Hw5CfFLMv796K6n2JmjKkVQDQ&_sg%5B2%5D=3SaI8AsSxIqgBVkImy__D10oyR8bkgvxCMtWfCYxtJveoWrjV3YtpCEkQo4ewSo-xe_MJoS8IBXVS-SLeQ.flKB6SHcFN7C4axCzZ5LaBjZ3WrQzyvYEYCwaIpaDPMawRqnmIPvgrb8Byg26Hw5CfFLMv796K6n2JmjKkVQDQ&_sgd%5Bpr%5D=1',\n",
       " 'download_link': 0}"
      ]
     },
     "execution_count": 187,
     "metadata": {},
     "output_type": "execute_result"
    }
   ],
   "source": [
    "n = merge_dicts(exclude_dict_keys(paper, ['paper_link']), info, {\n",
    "                'paper_link': paper['paper_link']}, {\"download_link\": 0})\n",
    "n"
   ]
  },
  {
   "cell_type": "code",
   "execution_count": 168,
   "metadata": {},
   "outputs": [
    {
     "data": {
      "text/plain": [
       "{'id': '9162e667-b20b-46cb-8137-50b5725f5f35',\n",
       " 'parent_id': 'c00745ce-292b-4b87-bbf0-84bac3e7ab64',\n",
       " 'name': 'Single Document Keyphrase Extraction Using Neighborhood Knowledge.',\n",
       " 'paper_link': '',\n",
       " 'references_count': 0,\n",
       " 'research_interest_score': 0.0,\n",
       " 'citations_count': 0,\n",
       " 'recommendations_count': 0,\n",
       " 'reads_count': 0,\n",
       " 'download_link': ''}"
      ]
     },
     "execution_count": 168,
     "metadata": {},
     "output_type": "execute_result"
    }
   ],
   "source": [
    "n[\"download_link\"] = \"\"\n",
    "n['paper_link'] = \"\"\n",
    "n"
   ]
  },
  {
   "cell_type": "code",
   "execution_count": 6,
   "metadata": {},
   "outputs": [
    {
     "name": "stdout",
     "output_type": "stream",
     "text": [
      "<class 'int'>\n"
     ]
    },
    {
     "data": {
      "text/plain": [
       "715"
      ]
     },
     "execution_count": 6,
     "metadata": {},
     "output_type": "execute_result"
    }
   ],
   "source": [
    "wt = pd.read_csv(\"data/info/done_list_ref.csv\")\n",
    "print(type(wt.shape[0]))\n",
    "wt.shape[0]\n"
   ]
  },
  {
   "attachments": {},
   "cell_type": "markdown",
   "metadata": {},
   "source": [
    "## Fix Datetime issue"
   ]
  },
  {
   "cell_type": "code",
   "execution_count": 5,
   "metadata": {},
   "outputs": [
    {
     "name": "stdout",
     "output_type": "stream",
     "text": [
      "2020-01-06 00:00:00\n"
     ]
    }
   ],
   "source": [
    "from datetime import datetime\n",
    "print(datetime.fromisoformat(\n",
    "    '2020-01-06T00:00:00.000Z'[:-1] + '+00:00').strftime('%Y-%m-%d %H:%M:%S'))"
   ]
  },
  {
   "cell_type": "code",
   "execution_count": 6,
   "metadata": {},
   "outputs": [
    {
     "name": "stdout",
     "output_type": "stream",
     "text": [
      "2022-06-08 16:16:12.178009\n",
      "16:16:12\n",
      "2022-06-08 16:16:12\n",
      "2022-06-08 16:02:13\n"
     ]
    }
   ],
   "source": [
    "print(datetime.now())\n",
    "print(datetime.now().strftime('%H:%M:%S'))\n",
    "print(datetime.now().strftime('%Y-%m-%d %H:%M:%S'))\n",
    "# print(datetime.strptime(\n",
    "#     \"2022-06-08 16:02:13.885533+06:00\".split(\".\")[0], '%Y-%m-%d %H:%M:%S'))\n",
    "print(datetime.fromisoformat(\n",
    "    \"2022-06-08 16:02:13.885533+06:00\").strftime('%Y-%m-%d %H:%M:%S'))\n"
   ]
  },
  {
   "cell_type": "code",
   "execution_count": 35,
   "metadata": {},
   "outputs": [],
   "source": [
    "for f in files:\n",
    "\tdf = pd.read_csv(f\"data/papers/{f}\")\n",
    "\tdf.insert(4, 'published_date', \"2021-01-06T00:00:00.000Z\")\n",
    "\t# display(df.head(n=2))\n",
    "\tdf.to_csv(f\"data/papers/{f}\", index=False)\n"
   ]
  },
  {
   "cell_type": "code",
   "execution_count": 17,
   "metadata": {},
   "outputs": [],
   "source": [
    "df = pd.read_csv(\"data/info/info_waiting.csv\")\n",
    "df.insert(4, 'published_date', \"2021-01-06T00:00:00.000Z\")\n",
    "display(df.head(n=2))\n",
    "df.to_csv(\"data/info/info_waiting.csv\", index=False)\n",
    "df.shape"
   ]
  }
 ],
 "metadata": {
  "interpreter": {
   "hash": "13a64c48d63ab7fa89dd239a6172cf842d756bd82fcb4ba948a9115b41dc50a1"
  },
  "kernelspec": {
   "display_name": "Python 3.9.7 ('base')",
   "language": "python",
   "name": "python3"
  },
  "language_info": {
   "codemirror_mode": {
    "name": "ipython",
    "version": 3
   },
   "file_extension": ".py",
   "mimetype": "text/x-python",
   "name": "python",
   "nbconvert_exporter": "python",
   "pygments_lexer": "ipython3",
   "version": "3.9.12"
  },
  "orig_nbformat": 4
 },
 "nbformat": 4,
 "nbformat_minor": 2
}
