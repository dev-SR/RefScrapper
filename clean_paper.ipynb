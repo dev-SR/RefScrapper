{
 "cells": [
  {
   "cell_type": "code",
   "execution_count": null,
   "metadata": {},
   "outputs": [],
   "source": [
    "# !pip install fuzzywuzzy"
   ]
  },
  {
   "cell_type": "code",
   "execution_count": 2,
   "metadata": {},
   "outputs": [
    {
     "name": "stderr",
     "output_type": "stream",
     "text": [
      "c:\\Users\\soiko\\anaconda3\\lib\\site-packages\\fuzzywuzzy\\fuzz.py:11: UserWarning: Using slow pure-python SequenceMatcher. Install python-Levenshtein to remove this warning\n",
      "  warnings.warn('Using slow pure-python SequenceMatcher. Install python-Levenshtein to remove this warning')\n"
     ]
    }
   ],
   "source": [
    "import pandas as pd\n",
    "from pprint import pprint\n",
    "from IPython.display import display\n",
    "from fuzzywuzzy import fuzz"
   ]
  },
  {
   "cell_type": "code",
   "execution_count": 3,
   "metadata": {},
   "outputs": [
    {
     "name": "stdout",
     "output_type": "stream",
     "text": [
      "(18192, 12)\n",
      "Index(['id', 'parent_id', 'name', 'type', 'published_date', 'references_count',\n",
      "       'research_interest_score', 'citations_count', 'recommendations_count',\n",
      "       'reads_count', 'paper_link', 'download_link'],\n",
      "      dtype='object')\n"
     ]
    },
    {
     "data": {
      "text/html": [
       "<div>\n",
       "<style scoped>\n",
       "    .dataframe tbody tr th:only-of-type {\n",
       "        vertical-align: middle;\n",
       "    }\n",
       "\n",
       "    .dataframe tbody tr th {\n",
       "        vertical-align: top;\n",
       "    }\n",
       "\n",
       "    .dataframe thead th {\n",
       "        text-align: right;\n",
       "    }\n",
       "</style>\n",
       "<table border=\"1\" class=\"dataframe\">\n",
       "  <thead>\n",
       "    <tr style=\"text-align: right;\">\n",
       "      <th></th>\n",
       "      <th>id</th>\n",
       "      <th>parent_id</th>\n",
       "      <th>name</th>\n",
       "      <th>type</th>\n",
       "      <th>published_date</th>\n",
       "      <th>references_count</th>\n",
       "      <th>research_interest_score</th>\n",
       "      <th>citations_count</th>\n",
       "      <th>recommendations_count</th>\n",
       "      <th>reads_count</th>\n",
       "      <th>paper_link</th>\n",
       "      <th>download_link</th>\n",
       "    </tr>\n",
       "  </thead>\n",
       "  <tbody>\n",
       "    <tr>\n",
       "      <th>0</th>\n",
       "      <td>8bde6cb8-296d-4593-883f-b768103e1e69</td>\n",
       "      <td>NaN</td>\n",
       "      <td>PositionRank: An Unsupervised Approach to Keyp...</td>\n",
       "      <td>Article</td>\n",
       "      <td>2017-08-01T00:00:00.000Z</td>\n",
       "      <td>40</td>\n",
       "      <td>12.2</td>\n",
       "      <td>10</td>\n",
       "      <td>1</td>\n",
       "      <td>621</td>\n",
       "      <td>https://www.researchgate.net/publication/31859...</td>\n",
       "      <td>https://www.researchgate.net/profile/Corina-Fl...</td>\n",
       "    </tr>\n",
       "  </tbody>\n",
       "</table>\n",
       "</div>"
      ],
      "text/plain": [
       "                                     id parent_id  \\\n",
       "0  8bde6cb8-296d-4593-883f-b768103e1e69       NaN   \n",
       "\n",
       "                                                name     type  \\\n",
       "0  PositionRank: An Unsupervised Approach to Keyp...  Article   \n",
       "\n",
       "             published_date  references_count  research_interest_score  \\\n",
       "0  2017-08-01T00:00:00.000Z                40                     12.2   \n",
       "\n",
       "   citations_count  recommendations_count  reads_count  \\\n",
       "0               10                      1          621   \n",
       "\n",
       "                                          paper_link  \\\n",
       "0  https://www.researchgate.net/publication/31859...   \n",
       "\n",
       "                                       download_link  \n",
       "0  https://www.researchgate.net/profile/Corina-Fl...  "
      ]
     },
     "execution_count": 3,
     "metadata": {},
     "output_type": "execute_result"
    }
   ],
   "source": [
    "research_gate = pd.read_csv('data/info/info_full.csv')\n",
    "print(research_gate.shape)\n",
    "print(research_gate.columns)\n",
    "research_gate.head(n=1)"
   ]
  },
  {
   "cell_type": "code",
   "execution_count": 4,
   "metadata": {},
   "outputs": [
    {
     "name": "stdout",
     "output_type": "stream",
     "text": [
      "(24750, 17)\n",
      "Index(['uuid', 'paper_id', 'parent_id', 'title', 'reference_count',\n",
      "       'citation_count', 'influential_citation_count', 'published_date',\n",
      "       'paper_type', 'venue', 'isOpenAccess', 'abstract', 'paper_link', 'doi',\n",
      "       'download_link', 'tldl', 'embedding'],\n",
      "      dtype='object')\n"
     ]
    },
    {
     "data": {
      "text/html": [
       "<div>\n",
       "<style scoped>\n",
       "    .dataframe tbody tr th:only-of-type {\n",
       "        vertical-align: middle;\n",
       "    }\n",
       "\n",
       "    .dataframe tbody tr th {\n",
       "        vertical-align: top;\n",
       "    }\n",
       "\n",
       "    .dataframe thead th {\n",
       "        text-align: right;\n",
       "    }\n",
       "</style>\n",
       "<table border=\"1\" class=\"dataframe\">\n",
       "  <thead>\n",
       "    <tr style=\"text-align: right;\">\n",
       "      <th></th>\n",
       "      <th>uuid</th>\n",
       "      <th>paper_id</th>\n",
       "      <th>parent_id</th>\n",
       "      <th>title</th>\n",
       "      <th>reference_count</th>\n",
       "      <th>citation_count</th>\n",
       "      <th>influential_citation_count</th>\n",
       "      <th>published_date</th>\n",
       "      <th>paper_type</th>\n",
       "      <th>venue</th>\n",
       "      <th>isOpenAccess</th>\n",
       "      <th>abstract</th>\n",
       "      <th>paper_link</th>\n",
       "      <th>doi</th>\n",
       "      <th>download_link</th>\n",
       "      <th>tldl</th>\n",
       "      <th>embedding</th>\n",
       "    </tr>\n",
       "  </thead>\n",
       "  <tbody>\n",
       "    <tr>\n",
       "      <th>0</th>\n",
       "      <td>8bde6cb8-296d-4593-883f-b768103e1e69</td>\n",
       "      <td>b0d555a9ea67285fccd2ef8d887907bcc811f67a</td>\n",
       "      <td>NaN</td>\n",
       "      <td>PositionRank: An Unsupervised Approach to Keyp...</td>\n",
       "      <td>43</td>\n",
       "      <td>176</td>\n",
       "      <td>26</td>\n",
       "      <td>2017.0</td>\n",
       "      <td>Article</td>\n",
       "      <td>ACL</td>\n",
       "      <td>True</td>\n",
       "      <td>The large and growing amounts of online schola...</td>\n",
       "      <td>https://www.semanticscholar.org/paper/b0d555a9...</td>\n",
       "      <td>https://doi.org/10.18653/v1%2FP17-1102</td>\n",
       "      <td>https://www.aclweb.org/anthology/P17-1102.pdf;...</td>\n",
       "      <td>tldr@v2.0.0:An unsupervised model for keyphras...</td>\n",
       "      <td>specter@v0.1.1:-3.3292479515075684,-1.61703908...</td>\n",
       "    </tr>\n",
       "  </tbody>\n",
       "</table>\n",
       "</div>"
      ],
      "text/plain": [
       "                                   uuid  \\\n",
       "0  8bde6cb8-296d-4593-883f-b768103e1e69   \n",
       "\n",
       "                                   paper_id parent_id  \\\n",
       "0  b0d555a9ea67285fccd2ef8d887907bcc811f67a       NaN   \n",
       "\n",
       "                                               title  reference_count  \\\n",
       "0  PositionRank: An Unsupervised Approach to Keyp...               43   \n",
       "\n",
       "   citation_count  influential_citation_count  published_date paper_type  \\\n",
       "0             176                          26          2017.0    Article   \n",
       "\n",
       "  venue  isOpenAccess                                           abstract  \\\n",
       "0   ACL          True  The large and growing amounts of online schola...   \n",
       "\n",
       "                                          paper_link  \\\n",
       "0  https://www.semanticscholar.org/paper/b0d555a9...   \n",
       "\n",
       "                                      doi  \\\n",
       "0  https://doi.org/10.18653/v1%2FP17-1102   \n",
       "\n",
       "                                       download_link  \\\n",
       "0  https://www.aclweb.org/anthology/P17-1102.pdf;...   \n",
       "\n",
       "                                                tldl  \\\n",
       "0  tldr@v2.0.0:An unsupervised model for keyphras...   \n",
       "\n",
       "                                           embedding  \n",
       "0  specter@v0.1.1:-3.3292479515075684,-1.61703908...  "
      ]
     },
     "execution_count": 4,
     "metadata": {},
     "output_type": "execute_result"
    }
   ],
   "source": [
    "semantic = pd.read_csv(\"data/info_ss/info_full_ss.csv\")\n",
    "print(semantic.shape)\n",
    "print(semantic.columns)\n",
    "semantic.head(n=1)"
   ]
  },
  {
   "cell_type": "code",
   "execution_count": 5,
   "metadata": {},
   "outputs": [
    {
     "data": {
      "text/plain": [
       "'PositionRank: An Unsupervised Approach to Keyphrase Extraction from Scholarly Documents'"
      ]
     },
     "execution_count": 5,
     "metadata": {},
     "output_type": "execute_result"
    }
   ],
   "source": [
    "research_gate.iloc[0]['name']"
   ]
  },
  {
   "cell_type": "code",
   "execution_count": 6,
   "metadata": {},
   "outputs": [
    {
     "data": {
      "text/plain": [
       "'PositionRank: An Unsupervised Approach to Keyphrase Extraction from Scholarly Documents'"
      ]
     },
     "execution_count": 6,
     "metadata": {},
     "output_type": "execute_result"
    }
   ],
   "source": [
    "paper = research_gate.iloc[0]['name']\n",
    "paper_found = semantic.loc[semantic['title'].str.contains(paper[:20],case=False)].title[0]\n",
    "paper_found"
   ]
  },
  {
   "cell_type": "code",
   "execution_count": 7,
   "metadata": {},
   "outputs": [
    {
     "data": {
      "text/plain": [
       "100"
      ]
     },
     "execution_count": 7,
     "metadata": {},
     "output_type": "execute_result"
    }
   ],
   "source": [
    "ratio = fuzz.partial_ratio(paper.lower(),paper_found.lower())\n",
    "ratio"
   ]
  },
  {
   "cell_type": "code",
   "execution_count": 8,
   "metadata": {},
   "outputs": [
    {
     "name": "stderr",
     "output_type": "stream",
     "text": [
      "C:\\Users\\soiko\\AppData\\Local\\Temp/ipykernel_16132/2858471905.py:9: UserWarning: This pattern has match groups. To actually get the groups, use str.extract.\n",
      "  paper_found = research_gate.loc[research_gate['name'].str.contains(\n"
     ]
    }
   ],
   "source": [
    "count = 0\n",
    "for i, paper_tuple in enumerate(semantic.iterrows()):\n",
    "\tpaper_pdSeries = paper_tuple[1]\n",
    "\tpaper_title_semantic = paper_pdSeries['title']\n",
    "\tpaper_uuid_semantic = paper_pdSeries['uuid']\n",
    "\tpaper_download_url_semantic = paper_pdSeries['download_link']\n",
    "\t# paper_type = paper_pdSeries['type']\n",
    "\t# print(paper_title_semantic)\n",
    "\ttry:\n",
    "\t\tpaper_found = research_gate.loc[research_gate['name'].str.contains(\n",
    "\t\t\tpaper_title_semantic, case=False)].to_dict('records')\n",
    "\t\tfound_paper_1 = None\n",
    "\t\tif paper_found:\n",
    "\t\t\tfound_paper_1 = paper_found[0]\n",
    "\t\telse:\n",
    "\t\t\t# print(f\"NotFound: {paper_title_semantic}\")\n",
    "\t\t\tsemantic.loc[semantic['uuid'] ==\n",
    "\t\t\t\t\t\tpaper_uuid_semantic, 'paper_type'] = \"Unknown\"\n",
    "\t\t\t\n",
    "\t\t\tcontinue\n",
    "\t\t# print(type(found_paper_1))\n",
    "\t\t# print(found_paper_1)\n",
    "\t\tfound_paper_title = found_paper_1['name']\n",
    "\t\t# print(found_paper_title)\n",
    "\t\tfound_paper_type = found_paper_1['type']\n",
    "\t\t# print(found_paper_type)\n",
    "\t\tfound_paper_download_link = found_paper_1['download_link']\n",
    "\t\t\n",
    "\t\tsemantic.loc[semantic['uuid'] == paper_uuid_semantic, 'paper_type'] = found_paper_type\n",
    "\t\tsemantic.loc[semantic['uuid'] == paper_uuid_semantic,\n",
    "\t\t\t\t'download_link'] = f\"{paper_download_url_semantic};{found_paper_download_link}\"\n",
    "\t\tcount += 1\n",
    "\texcept:\n",
    "\t\tsemantic.loc[semantic['uuid'] ==\n",
    "\t\t\t\tpaper_uuid_semantic, 'paper_type'] = \"Unknown\"\n"
   ]
  },
  {
   "cell_type": "code",
   "execution_count": 9,
   "metadata": {},
   "outputs": [
    {
     "data": {
      "text/html": [
       "<div>\n",
       "<style scoped>\n",
       "    .dataframe tbody tr th:only-of-type {\n",
       "        vertical-align: middle;\n",
       "    }\n",
       "\n",
       "    .dataframe tbody tr th {\n",
       "        vertical-align: top;\n",
       "    }\n",
       "\n",
       "    .dataframe thead th {\n",
       "        text-align: right;\n",
       "    }\n",
       "</style>\n",
       "<table border=\"1\" class=\"dataframe\">\n",
       "  <thead>\n",
       "    <tr style=\"text-align: right;\">\n",
       "      <th></th>\n",
       "      <th>uuid</th>\n",
       "      <th>paper_id</th>\n",
       "      <th>parent_id</th>\n",
       "      <th>title</th>\n",
       "      <th>reference_count</th>\n",
       "      <th>citation_count</th>\n",
       "      <th>influential_citation_count</th>\n",
       "      <th>published_date</th>\n",
       "      <th>paper_type</th>\n",
       "      <th>venue</th>\n",
       "      <th>isOpenAccess</th>\n",
       "      <th>abstract</th>\n",
       "      <th>paper_link</th>\n",
       "      <th>doi</th>\n",
       "      <th>download_link</th>\n",
       "      <th>tldl</th>\n",
       "      <th>embedding</th>\n",
       "    </tr>\n",
       "  </thead>\n",
       "  <tbody>\n",
       "    <tr>\n",
       "      <th>0</th>\n",
       "      <td>8bde6cb8-296d-4593-883f-b768103e1e69</td>\n",
       "      <td>b0d555a9ea67285fccd2ef8d887907bcc811f67a</td>\n",
       "      <td>NaN</td>\n",
       "      <td>PositionRank: An Unsupervised Approach to Keyp...</td>\n",
       "      <td>43</td>\n",
       "      <td>176</td>\n",
       "      <td>26</td>\n",
       "      <td>2017.0</td>\n",
       "      <td>Article</td>\n",
       "      <td>ACL</td>\n",
       "      <td>True</td>\n",
       "      <td>The large and growing amounts of online schola...</td>\n",
       "      <td>https://www.semanticscholar.org/paper/b0d555a9...</td>\n",
       "      <td>https://doi.org/10.18653/v1%2FP17-1102</td>\n",
       "      <td>https://www.aclweb.org/anthology/P17-1102.pdf;...</td>\n",
       "      <td>tldr@v2.0.0:An unsupervised model for keyphras...</td>\n",
       "      <td>specter@v0.1.1:-3.3292479515075684,-1.61703908...</td>\n",
       "    </tr>\n",
       "    <tr>\n",
       "      <th>1</th>\n",
       "      <td>ade6eb61-946a-49f3-835d-74804cb9de3e</td>\n",
       "      <td>03589e1917debe6df148cac8963fd008e4140237</td>\n",
       "      <td>8bde6cb8-296d-4593-883f-b768103e1e69</td>\n",
       "      <td>SemEval-2010 Task 5 : Automatic Keyphrase Extr...</td>\n",
       "      <td>29</td>\n",
       "      <td>352</td>\n",
       "      <td>71</td>\n",
       "      <td>2010.0</td>\n",
       "      <td>Unknown</td>\n",
       "      <td>*SEMEVAL</td>\n",
       "      <td>False</td>\n",
       "      <td>This paper describes Task 5 of the Workshop on...</td>\n",
       "      <td>https://www.semanticscholar.org/paper/03589e19...</td>\n",
       "      <td>NaN</td>\n",
       "      <td>https://www.aclweb.org/anthology/S10-1004.pdf;...</td>\n",
       "      <td>tldr@v2.0.0:The participating systems were eva...</td>\n",
       "      <td>specter@v0.1.1:-5.0251593589782715,-0.76686722...</td>\n",
       "    </tr>\n",
       "    <tr>\n",
       "      <th>2</th>\n",
       "      <td>be2af112-6c57-4598-9813-d02fff71055b</td>\n",
       "      <td>05dec9ff0f48f45b09245ba0354748961f18ff77</td>\n",
       "      <td>8bde6cb8-296d-4593-883f-b768103e1e69</td>\n",
       "      <td>Citation-Enhanced Keyphrase Extraction from Re...</td>\n",
       "      <td>61</td>\n",
       "      <td>100</td>\n",
       "      <td>10</td>\n",
       "      <td>2014.0</td>\n",
       "      <td>Conference Paper</td>\n",
       "      <td>EMNLP</td>\n",
       "      <td>True</td>\n",
       "      <td>Given the large amounts of online textual docu...</td>\n",
       "      <td>https://www.semanticscholar.org/paper/05dec9ff...</td>\n",
       "      <td>https://doi.org/10.3115/v1%2FD14-1150</td>\n",
       "      <td>https://www.aclweb.org/anthology/D14-1150.pdf;...</td>\n",
       "      <td>tldr@v2.0.0:Novel features based on citation n...</td>\n",
       "      <td>specter@v0.1.1:-4.417524337768555,-1.956189870...</td>\n",
       "    </tr>\n",
       "  </tbody>\n",
       "</table>\n",
       "</div>"
      ],
      "text/plain": [
       "                                   uuid  \\\n",
       "0  8bde6cb8-296d-4593-883f-b768103e1e69   \n",
       "1  ade6eb61-946a-49f3-835d-74804cb9de3e   \n",
       "2  be2af112-6c57-4598-9813-d02fff71055b   \n",
       "\n",
       "                                   paper_id  \\\n",
       "0  b0d555a9ea67285fccd2ef8d887907bcc811f67a   \n",
       "1  03589e1917debe6df148cac8963fd008e4140237   \n",
       "2  05dec9ff0f48f45b09245ba0354748961f18ff77   \n",
       "\n",
       "                              parent_id  \\\n",
       "0                                   NaN   \n",
       "1  8bde6cb8-296d-4593-883f-b768103e1e69   \n",
       "2  8bde6cb8-296d-4593-883f-b768103e1e69   \n",
       "\n",
       "                                               title  reference_count  \\\n",
       "0  PositionRank: An Unsupervised Approach to Keyp...               43   \n",
       "1  SemEval-2010 Task 5 : Automatic Keyphrase Extr...               29   \n",
       "2  Citation-Enhanced Keyphrase Extraction from Re...               61   \n",
       "\n",
       "   citation_count  influential_citation_count  published_date  \\\n",
       "0             176                          26          2017.0   \n",
       "1             352                          71          2010.0   \n",
       "2             100                          10          2014.0   \n",
       "\n",
       "         paper_type     venue  isOpenAccess  \\\n",
       "0           Article       ACL          True   \n",
       "1           Unknown  *SEMEVAL         False   \n",
       "2  Conference Paper     EMNLP          True   \n",
       "\n",
       "                                            abstract  \\\n",
       "0  The large and growing amounts of online schola...   \n",
       "1  This paper describes Task 5 of the Workshop on...   \n",
       "2  Given the large amounts of online textual docu...   \n",
       "\n",
       "                                          paper_link  \\\n",
       "0  https://www.semanticscholar.org/paper/b0d555a9...   \n",
       "1  https://www.semanticscholar.org/paper/03589e19...   \n",
       "2  https://www.semanticscholar.org/paper/05dec9ff...   \n",
       "\n",
       "                                      doi  \\\n",
       "0  https://doi.org/10.18653/v1%2FP17-1102   \n",
       "1                                     NaN   \n",
       "2   https://doi.org/10.3115/v1%2FD14-1150   \n",
       "\n",
       "                                       download_link  \\\n",
       "0  https://www.aclweb.org/anthology/P17-1102.pdf;...   \n",
       "1  https://www.aclweb.org/anthology/S10-1004.pdf;...   \n",
       "2  https://www.aclweb.org/anthology/D14-1150.pdf;...   \n",
       "\n",
       "                                                tldl  \\\n",
       "0  tldr@v2.0.0:An unsupervised model for keyphras...   \n",
       "1  tldr@v2.0.0:The participating systems were eva...   \n",
       "2  tldr@v2.0.0:Novel features based on citation n...   \n",
       "\n",
       "                                           embedding  \n",
       "0  specter@v0.1.1:-3.3292479515075684,-1.61703908...  \n",
       "1  specter@v0.1.1:-5.0251593589782715,-0.76686722...  \n",
       "2  specter@v0.1.1:-4.417524337768555,-1.956189870...  "
      ]
     },
     "execution_count": 9,
     "metadata": {},
     "output_type": "execute_result"
    }
   ],
   "source": [
    "semantic.head(n=3)"
   ]
  },
  {
   "cell_type": "code",
   "execution_count": 62,
   "metadata": {},
   "outputs": [
    {
     "data": {
      "text/plain": [
       "'Chapter'"
      ]
     },
     "execution_count": 62,
     "metadata": {},
     "output_type": "execute_result"
    }
   ],
   "source": [
    "semantic.iloc[1001]['paper_type']"
   ]
  },
  {
   "cell_type": "code",
   "execution_count": 10,
   "metadata": {},
   "outputs": [],
   "source": [
    "semantic.to_csv('data/info_ss/info_full_ss_new.csv', index=False)\n"
   ]
  },
  {
   "cell_type": "code",
   "execution_count": 11,
   "metadata": {},
   "outputs": [
    {
     "data": {
      "text/plain": [
       "Unknown              10910\n",
       "Article               8851\n",
       "Conference Paper      4352\n",
       "Book                   429\n",
       "Chapter                182\n",
       "Literature Review       26\n",
       "Name: paper_type, dtype: int64"
      ]
     },
     "execution_count": 11,
     "metadata": {},
     "output_type": "execute_result"
    }
   ],
   "source": [
    "semantic_new = pd.read_csv('data/info_ss/info_full_ss_new.csv')\n",
    "semantic_new['paper_type'].value_counts()"
   ]
  },
  {
   "cell_type": "code",
   "execution_count": 9,
   "metadata": {},
   "outputs": [
    {
     "data": {
      "text/plain": [
       "9644"
      ]
     },
     "execution_count": 9,
     "metadata": {},
     "output_type": "execute_result"
    }
   ],
   "source": [
    "semantic_new['paper_id'].nunique()"
   ]
  },
  {
   "cell_type": "code",
   "execution_count": 22,
   "metadata": {},
   "outputs": [
    {
     "data": {
      "text/plain": [
       "array(['d835c665aa0a14f4269d6ad9c8c2eec0dffc1f9c',\n",
       "       '12e6f6b2da067b61cf692278b8d9933452eee252',\n",
       "       '8d0c45a7b66fa1806ff9ecf4f54f9fbc2c104c73',\n",
       "       'c768610307a21e565af79153371d2e4c4147dd09',\n",
       "       '6f1527b380baa0af59964f562dfb2ad71650739a',\n",
       "       '3da8684050df72c07731c030f7669a920ccfffde',\n",
       "       '8c1ec40d3b4846beaf7fcdb0b99208469a3d44d4',\n",
       "       'f1f4386524be3ed96caaf05f661aacb94db1e566',\n",
       "       '1bddad4dc0dfa8efa402aa5d18c29304a5760f12',\n",
       "       '899a09aa8a2d76a2eea6a2632523deb1e87cec22',\n",
       "       'bd2e048c676ad778351bd7d7660240a978422117',\n",
       "       'ed3b54d37c91ccaf7b059e217d1c91deab042e71',\n",
       "       '50bc1be59e7dee5ee5b26710fd862592498fa0aa',\n",
       "       '09fefeaa20be1fb689bd860faa0371ca51eff626',\n",
       "       'da09c4ee72e67d23967adab0466baffc7b1a0257',\n",
       "       'c56c37eebfe2acb72ccfc63cb0d696b81a1808e3',\n",
       "       '8829f85132c8edaee975e281d8309aea578fe22b',\n",
       "       'f07d6ba67f189eeb3009773c354bb736d0363e30',\n",
       "       'b48355429f2457dddbb8b70ad7e1116125286ecf',\n",
       "       '003afdf870ed4f219873e250bd87a1e829d523ab',\n",
       "       'b05990213cc24e9eb91c91453ccf67609ef2308b',\n",
       "       '2b354b30f5d5dd5acf67a610a9afc107af1ede7d',\n",
       "       'c0d787dc10292e51766091d2a203033bd86de5ff',\n",
       "       'cdebd76f51d11779684878f25dac595508e30f3b',\n",
       "       '30fa728cb99afaa43f7f2ed291d6e06a85663cca',\n",
       "       '0319bc06141f2e41c4364a1f7d5378e78c5e1793',\n",
       "       '6fb1955992c1ef5147d07916bf0affaf0139f32a'], dtype=object)"
      ]
     },
     "execution_count": 22,
     "metadata": {},
     "output_type": "execute_result"
    }
   ],
   "source": [
    "semantic_new[semantic_new['published_date'].isnull()]['paper_id'].unique()"
   ]
  }
 ],
 "metadata": {
  "kernelspec": {
   "display_name": "Python 3.9.7 ('base')",
   "language": "python",
   "name": "python3"
  },
  "language_info": {
   "codemirror_mode": {
    "name": "ipython",
    "version": 3
   },
   "file_extension": ".py",
   "mimetype": "text/x-python",
   "name": "python",
   "nbconvert_exporter": "python",
   "pygments_lexer": "ipython3",
   "version": "3.9.7"
  },
  "orig_nbformat": 4,
  "vscode": {
   "interpreter": {
    "hash": "13a64c48d63ab7fa89dd239a6172cf842d756bd82fcb4ba948a9115b41dc50a1"
   }
  }
 },
 "nbformat": 4,
 "nbformat_minor": 2
}
