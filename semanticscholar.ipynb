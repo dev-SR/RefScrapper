{
 "cells": [
  {
   "cell_type": "code",
   "execution_count": 2,
   "metadata": {},
   "outputs": [],
   "source": [
    "\"\"\"\n",
    "https://api.semanticscholar.org/api-docs/graph#tag/Paper-Data\n",
    "\t\n",
    "\"\"\"\n",
    "import requests\n",
    "from pprint import pprint\n",
    "import pandas as pd"
   ]
  },
  {
   "cell_type": "markdown",
   "metadata": {},
   "source": [
    "## Paper Query"
   ]
  },
  {
   "cell_type": "code",
   "execution_count": null,
   "metadata": {},
   "outputs": [],
   "source": [
    "\"\"\" \n",
    "{\n",
    "\"paperId\": \"b0d555a9ea67285fccd2ef8d887907bcc811f67a\",\n",
    "\"title\": \"PositionRank: An Unsupervised Approach to Keyphrase Extraction from Scholarly Documents\"\n",
    "}\n",
    "] \n",
    "\n",
    "- offset: int\n",
    "- limit: int\n",
    "- query: string[required]\n",
    "- fields: string; comma-separated list of fields to return\n",
    "\t- paperId\n",
    "\t- url\n",
    "\t- title\n",
    "\t- abstract\n",
    "\t- venue\n",
    "\t- year\n",
    "\t- referenceCount\n",
    "\t- citationCount\n",
    "\t- influentialCitationCount\n",
    "\t- isOpenAccess\n",
    "\t- fieldsOfStudy\n",
    "\t- s2FieldsOfStudy\n",
    "\t- authors \n",
    "\t\t- authorId\n",
    "\t\t- name\n",
    "\t- tldr\n",
    "\t- embedding\n",
    "\t\n",
    "\n",
    "\"\"\"\n"
   ]
  },
  {
   "cell_type": "code",
   "execution_count": null,
   "metadata": {},
   "outputs": [],
   "source": [
    "\"\"\" https://api.semanticscholar.org/graph/v1/paper/b0d555a9ea67285fccd2ef8d887907bcc811f67a?fields=paperId,url,title,venue,year,referenceCount,citationCount,influentialCitationCount,isOpenAccess,fieldsOfStudy,abstract,tldr,embedding\n",
    " \"\"\"\n"
   ]
  },
  {
   "cell_type": "code",
   "execution_count": 60,
   "metadata": {},
   "outputs": [],
   "source": [
    "from dataclasses import dataclass\n",
    "\n",
    "@dataclass\n",
    "class Paper:\n",
    "\tpaper_id: str\n",
    "\tparent_id: str\n",
    "\ttitle: str\n",
    "\treference_count: int = 0\n",
    "\tcitation_count: int = 0\n",
    "\tinfluential_citation_count: int = 0\n",
    "\tpublished_date: str = None\n",
    "\tpaper_type: str = None\n",
    "\tvenue: str = None\n",
    "\tisOpenAccess: bool = False\n",
    "\tfieldsOfStudy: str = None\n",
    "\tabstract: str = None\n",
    "\tpaper_link: str = None\n",
    "\tdownload_link: str = None\n",
    "\ttldr: str = None\n",
    "\tembedding: str = None\n",
    "\t\n"
   ]
  },
  {
   "cell_type": "code",
   "execution_count": 22,
   "metadata": {},
   "outputs": [],
   "source": [
    "p = Paper(paper_id=\"b0d555a9ea67285fccd2ef8d887907bcc811f67a\",\n",
    "\t\t  parent_id=\"\",\n",
    "\t\t  title=\"PositionRank: An Unsupervised Approach to Keyphrase Extraction from Scholarly Documents\",\n",
    "\t\t  reference_count=0,\n",
    "\t\t  citation_count=0,\n",
    "\t\t  influential_citation_count=0,\n",
    "\t\t  published_date=None,\n",
    "\t\t  paper_type=\"\",\n",
    "\t\t  venue=\"\",\n",
    "\t\t  isOpenAccess=False,\n",
    "\t\t  fieldsOfStudy=\"\",\n",
    "\t\t  abstract=\"\",\n",
    "\t\t  paper_link=\"\",\n",
    "\t\t  download_link=\"\")\n",
    "\n",
    "df = pd.DataFrame([p])\n",
    "df.to_csv(\"papers.csv\")"
   ]
  },
  {
   "cell_type": "code",
   "execution_count": 12,
   "metadata": {},
   "outputs": [
    {
     "name": "stdout",
     "output_type": "stream",
     "text": [
      "200\n",
      "{'data': [{'abstract': 'The large and growing amounts of online scholarly data '\n",
      "                       'present both challenges and opportunities to enhance '\n",
      "                       'knowledge discovery. One such challenge is to '\n",
      "                       'automatically extract a small set of keyphrases from a '\n",
      "                       'document that can accurately describe the document’s '\n",
      "                       'content and can facilitate fast information '\n",
      "                       'processing. In this paper, we propose PositionRank, an '\n",
      "                       'unsupervised model for keyphrase extraction from '\n",
      "                       'scholarly documents that incorporates information from '\n",
      "                       'all positions of a word’s occurrences into a biased '\n",
      "                       'PageRank. Our model obtains remarkable improvements in '\n",
      "                       'performance over PageRank models that do not take into '\n",
      "                       'account word positions as well as over strong '\n",
      "                       'baselines for this task. Specifically, on several '\n",
      "                       'datasets of research papers, PositionRank achieves '\n",
      "                       'improvements as high as 29.09%.',\n",
      "           'citationCount': 176,\n",
      "           'fieldsOfStudy': ['Computer Science'],\n",
      "           'influentialCitationCount': 26,\n",
      "           'isOpenAccess': True,\n",
      "           'paperId': 'b0d555a9ea67285fccd2ef8d887907bcc811f67a',\n",
      "           'referenceCount': 43,\n",
      "           'title': 'PositionRank: An Unsupervised Approach to Keyphrase '\n",
      "                    'Extraction from Scholarly Documents',\n",
      "           'url': 'https://www.semanticscholar.org/paper/b0d555a9ea67285fccd2ef8d887907bcc811f67a',\n",
      "           'venue': 'ACL',\n",
      "           'year': 2017}],\n",
      " 'offset': 0,\n",
      " 'total': 1}\n"
     ]
    }
   ],
   "source": [
    "param = {\n",
    "\t\"query\": \"PositionRank: An Unsupervised Approach to Keyphrase Extraction from Scholarly Documents\",\n",
    "\t\"fields\": \"paperId,url,title,venue,year,referenceCount,citationCount,influentialCitationCount,isOpenAccess,fieldsOfStudy,abstract\",\n",
    "\t\n",
    "}\n",
    "res = requests.get(\n",
    "    'https://api.semanticscholar.org/graph/v1/paper/search',params=param)\n",
    "\n",
    "pprint(res.status_code)\n",
    "pprint(res.json())"
   ]
  },
  {
   "cell_type": "code",
   "execution_count": 38,
   "metadata": {},
   "outputs": [
    {
     "data": {
      "text/plain": [
       "'computer science,ai,'"
      ]
     },
     "execution_count": 38,
     "metadata": {},
     "output_type": "execute_result"
    }
   ],
   "source": [
    "felids = [\"computer science\",'ai']\n",
    "result = ''.join([f'{f},' for f in felids])\n",
    "result"
   ]
  },
  {
   "cell_type": "code",
   "execution_count": 43,
   "metadata": {},
   "outputs": [
    {
     "name": "stdout",
     "output_type": "stream",
     "text": [
      "200\n",
      "{'abstract': 'The large and growing amounts of online scholarly data present '\n",
      "             'both challenges and opportunities to enhance knowledge '\n",
      "             'discovery. One such challenge is to automatically extract a '\n",
      "             'small set of keyphrases from a document that can accurately '\n",
      "             'describe the document’s content and can facilitate fast '\n",
      "             'information processing. In this paper, we propose PositionRank, '\n",
      "             'an unsupervised model for keyphrase extraction from scholarly '\n",
      "             'documents that incorporates information from all positions of a '\n",
      "             'word’s occurrences into a biased PageRank. Our model obtains '\n",
      "             'remarkable improvements in performance over PageRank models that '\n",
      "             'do not take into account word positions as well as over strong '\n",
      "             'baselines for this task. Specifically, on several datasets of '\n",
      "             'research papers, PositionRank achieves improvements as high as '\n",
      "             '29.09%.',\n",
      " 'citationCount': 176,\n",
      " 'fieldsOfStudy': ['Computer Science'],\n",
      " 'influentialCitationCount': 26,\n",
      " 'isOpenAccess': True,\n",
      " 'paperId': 'b0d555a9ea67285fccd2ef8d887907bcc811f67a',\n",
      " 'referenceCount': 43,\n",
      " 'title': 'PositionRank: An Unsupervised Approach to Keyphrase Extraction from '\n",
      "          'Scholarly Documents',\n",
      " 'url': 'https://www.semanticscholar.org/paper/b0d555a9ea67285fccd2ef8d887907bcc811f67a',\n",
      " 'venue': 'ACL',\n",
      " 'year': 2017}\n"
     ]
    }
   ],
   "source": [
    "# https://api.semanticscholar.org/graph/v1/paper/b0d555a9ea67285fccd2ef8d887907bcc811f67a\n",
    "param = {\n",
    "\t\"fields\": \"paperId,url,title,venue,year,referenceCount,citationCount,influentialCitationCount,isOpenAccess,fieldsOfStudy,abstract\",\n",
    "}\n",
    "res = requests.get(\n",
    "    'https://api.semanticscholar.org/graph/v1/paper/b0d555a9ea67285fccd2ef8d887907bcc811f67a', params=param)\n",
    "\n",
    "pprint(res.status_code)\n",
    "pprint(res.json())\n",
    "\n",
    "data = res.json()\n",
    "p = Paper(\n",
    "    paper_id=\"b0d555a9ea67285fccd2ef8d887907bcc811f67a\",\n",
    "    parent_id=\"\",\n",
    "    title= data[\"title\"],\n",
    "    reference_count=data[\"referenceCount\"],\n",
    "    citation_count=data[\"citationCount\"],\n",
    "    influential_citation_count=data[\"influentialCitationCount\"],\n",
    "    published_date=data[\"year\"],\n",
    "    paper_type=\"Article\",\n",
    "    venue=data[\"venue\"],\n",
    "    isOpenAccess=data[\"isOpenAccess\"],\n",
    "    fieldsOfStudy=''.join([f'{f},' for f in data[\"fieldsOfStudy\"]]),\n",
    "    abstract=data[\"abstract\"],\n",
    "    paper_link=data[\"url\"],\n",
    "    download_link=\"\"\n",
    ")\n",
    "df = pd.DataFrame([p])"
   ]
  },
  {
   "cell_type": "code",
   "execution_count": 41,
   "metadata": {},
   "outputs": [
    {
     "data": {
      "text/html": [
       "<div>\n",
       "<style scoped>\n",
       "    .dataframe tbody tr th:only-of-type {\n",
       "        vertical-align: middle;\n",
       "    }\n",
       "\n",
       "    .dataframe tbody tr th {\n",
       "        vertical-align: top;\n",
       "    }\n",
       "\n",
       "    .dataframe thead th {\n",
       "        text-align: right;\n",
       "    }\n",
       "</style>\n",
       "<table border=\"1\" class=\"dataframe\">\n",
       "  <thead>\n",
       "    <tr style=\"text-align: right;\">\n",
       "      <th></th>\n",
       "      <th>paper_id</th>\n",
       "      <th>parent_id</th>\n",
       "      <th>title</th>\n",
       "      <th>reference_count</th>\n",
       "      <th>citation_count</th>\n",
       "      <th>influential_citation_count</th>\n",
       "      <th>published_date</th>\n",
       "      <th>paper_type</th>\n",
       "      <th>venue</th>\n",
       "      <th>isOpenAccess</th>\n",
       "      <th>fieldsOfStudy</th>\n",
       "      <th>abstract</th>\n",
       "      <th>paper_link</th>\n",
       "      <th>download_link</th>\n",
       "    </tr>\n",
       "  </thead>\n",
       "  <tbody>\n",
       "    <tr>\n",
       "      <th>0</th>\n",
       "      <td>b0d555a9ea67285fccd2ef8d887907bcc811f67a</td>\n",
       "      <td></td>\n",
       "      <td>PositionRank: An Unsupervised Approach to Keyp...</td>\n",
       "      <td>43</td>\n",
       "      <td>176</td>\n",
       "      <td>26</td>\n",
       "      <td>2017</td>\n",
       "      <td>Article</td>\n",
       "      <td>ACL</td>\n",
       "      <td>True</td>\n",
       "      <td>Computer Science,</td>\n",
       "      <td>The large and growing amounts of online schola...</td>\n",
       "      <td>https://www.semanticscholar.org/paper/b0d555a9...</td>\n",
       "      <td></td>\n",
       "    </tr>\n",
       "  </tbody>\n",
       "</table>\n",
       "</div>"
      ],
      "text/plain": [
       "                                   paper_id parent_id  \\\n",
       "0  b0d555a9ea67285fccd2ef8d887907bcc811f67a             \n",
       "\n",
       "                                               title  reference_count  \\\n",
       "0  PositionRank: An Unsupervised Approach to Keyp...               43   \n",
       "\n",
       "   citation_count  influential_citation_count  published_date paper_type  \\\n",
       "0             176                          26            2017    Article   \n",
       "\n",
       "  venue  isOpenAccess      fieldsOfStudy  \\\n",
       "0   ACL          True  Computer Science,   \n",
       "\n",
       "                                            abstract  \\\n",
       "0  The large and growing amounts of online schola...   \n",
       "\n",
       "                                          paper_link download_link  \n",
       "0  https://www.semanticscholar.org/paper/b0d555a9...                "
      ]
     },
     "execution_count": 41,
     "metadata": {},
     "output_type": "execute_result"
    }
   ],
   "source": [
    "df"
   ]
  },
  {
   "cell_type": "code",
   "execution_count": 42,
   "metadata": {},
   "outputs": [],
   "source": [
    "df.to_csv(\"data/info_ss/info_full_ss.csv\", index=False, header=False, mode=\"a\")"
   ]
  },
  {
   "cell_type": "code",
   "execution_count": 29,
   "metadata": {},
   "outputs": [],
   "source": [
    "class SemanticScholar:\n",
    "\tdef __init__(self, api_key = None):\n",
    "\t\tself.api_key = api_key\n",
    "\t\tself.base_url = \"https://api.semanticscholar.org/graph/v1/paper\"\n",
    "\t\t\n",
    "\tdef searchPaperByQuery(self, query):\n",
    "\t\tendpoint = self.getEndpointForSearch(query)\n",
    "\t\tres = requests.get(**endpoint)\n",
    "\t\tself.processSearchResult(res.json().get(\"data\"))\n",
    "\t\n",
    "\tdef getEndpointForSearch(self, query):\n",
    "\t\tparam = {\n",
    "                    \"query\": query,\n",
    "                    \"fields\": \"paperId,url,title,venue,year,referenceCount,citationCount,influentialCitationCount,isOpenAccess,fieldsOfStudy,abstract\",\n",
    "                }\n",
    "\t\treturn {\n",
    "\t\t\t\"url\": f\"{self.base_url}/search\",\n",
    "\t\t\t\"params\": param\n",
    "\t\t}\n",
    "\t\t\n",
    "\tdef processSearchResult(self, papers):\n",
    "\t\tpprint(papers)\n",
    "\t\t"
   ]
  },
  {
   "cell_type": "code",
   "execution_count": 30,
   "metadata": {},
   "outputs": [
    {
     "name": "stdout",
     "output_type": "stream",
     "text": [
      "[{'abstract': 'The large and growing amounts of online scholarly data present '\n",
      "              'both challenges and opportunities to enhance knowledge '\n",
      "              'discovery. One such challenge is to automatically extract a '\n",
      "              'small set of keyphrases from a document that can accurately '\n",
      "              'describe the document’s content and can facilitate fast '\n",
      "              'information processing. In this paper, we propose PositionRank, '\n",
      "              'an unsupervised model for keyphrase extraction from scholarly '\n",
      "              'documents that incorporates information from all positions of a '\n",
      "              'word’s occurrences into a biased PageRank. Our model obtains '\n",
      "              'remarkable improvements in performance over PageRank models '\n",
      "              'that do not take into account word positions as well as over '\n",
      "              'strong baselines for this task. Specifically, on several '\n",
      "              'datasets of research papers, PositionRank achieves improvements '\n",
      "              'as high as 29.09%.',\n",
      "  'citationCount': 176,\n",
      "  'fieldsOfStudy': ['Computer Science'],\n",
      "  'influentialCitationCount': 26,\n",
      "  'isOpenAccess': True,\n",
      "  'paperId': 'b0d555a9ea67285fccd2ef8d887907bcc811f67a',\n",
      "  'referenceCount': 43,\n",
      "  'title': 'PositionRank: An Unsupervised Approach to Keyphrase Extraction '\n",
      "           'from Scholarly Documents',\n",
      "  'url': 'https://www.semanticscholar.org/paper/b0d555a9ea67285fccd2ef8d887907bcc811f67a',\n",
      "  'venue': 'ACL',\n",
      "  'year': 2017}]\n"
     ]
    }
   ],
   "source": [
    "ss = SemanticScholar()\n",
    "ss.searchPaperByQuery(\"PositionRank: An Unsupervised Approach to Keyphrase Extraction from Scholarly Documents\")"
   ]
  },
  {
   "cell_type": "markdown",
   "metadata": {},
   "source": [
    "## Paper Details"
   ]
  },
  {
   "cell_type": "code",
   "execution_count": null,
   "metadata": {},
   "outputs": [],
   "source": [
    "\"\"\" \n",
    "https://api.semanticscholar.org/graph/v1/paper/b0d555a9ea67285fccd2ef8d887907bcc811f67a/references?fields=paperId,url,title,venue,year,referenceCount,citationCount,influentialCitationCount,isOpenAccess,fieldsOfStudy,abstract\n",
    "\n",
    " \"\"\""
   ]
  },
  {
   "cell_type": "code",
   "execution_count": 2,
   "metadata": {},
   "outputs": [],
   "source": [
    "from dataclasses import dataclass\n",
    "from collections import deque\n",
    "from uuid import uuid4\n",
    "@dataclass\n",
    "class Paper:\n",
    "\tuuid: str\n",
    "\tpaper_id: str\n",
    "\tparent_id: str\n",
    "\ttitle: str\n",
    "\treference_count: int = 0\n",
    "\tcitation_count: int = 0\n",
    "\tinfluential_citation_count: int = 0\n",
    "\tpublished_date: str = None\n",
    "\tpaper_type: str = None\n",
    "\tvenue: str = None\n",
    "\tisOpenAccess: bool = False\n",
    "\tabstract: str = None\n",
    "\tpaper_link: str = None\n",
    "\tdownload_link: str = None\n",
    "\ttldr: str = None\n",
    "\tembedding: str = None\n"
   ]
  },
  {
   "cell_type": "code",
   "execution_count": 11,
   "metadata": {},
   "outputs": [],
   "source": [
    "class SemanticScholar:\n",
    "\tdef __init__(self, api_key=None):\n",
    "\t\tself.api_key = api_key\n",
    "\t\tself.base_url = \"https://api.semanticscholar.org/graph/v1/paper\"\n",
    "\n",
    "\tdef searchPaperByQuery(self, query):\n",
    "\t\tendpoint = self.getEndpointForSearch(query)\n",
    "\t\tres = requests.get(**endpoint)\n",
    "\t\tself.processSearchResult(res.json().get(\"data\"))\n",
    "\n",
    "\tdef getEndpointForSearch(self, query):\n",
    "\t\tparam = {\n",
    "\t\t\t\t\"query\": query,\n",
    "\t\t\t\t\"fields\": \"paperId,url,title,venue,year,referenceCount,citationCount,influentialCitationCount,isOpenAccess,abstract\",\n",
    "\t\t\t}\n",
    "\t\treturn {\n",
    "\t\t\t\t\"url\": f\"{self.base_url}/search\",\n",
    "\t\t\t\t\"params\": param\n",
    "\t\t\t}\n",
    "\n",
    "\tdef processSearchResult(self, papers):\n",
    "\t\tpprint(papers)\n",
    "\t\t\n",
    "\tdef savePaperDetails(self, n=1):\n",
    "\t\twt = pd.read_csv(\"data/info_ss/waiting_ss.csv\")\n",
    "\t\tnext_papers = wt[wt['paper_id'].notnull()][:n]\n",
    "\t\tnext_papers_list = next_papers.to_dict('records')\n",
    "\t\tq = deque(next_papers_list)\n",
    "\t\t\n",
    "\t\twhile q:\n",
    "\t\t\tp = q.popleft()\n",
    "\t\t\tuuid = p['uuid']\n",
    "\t\t\tparent_id = p['parent_id']\n",
    "\t\t\tpaper_id = p['paper_id']\n",
    "\t\t\tendpoint = self.getEndpointForPaperDetails(paper_id)\n",
    "\t\t\t\n",
    "\t\t\tres = requests.get(**endpoint)\n",
    "\t\t\tprint(res.status_code)\n",
    "\t\t\tprint(res.reason)\n",
    "\t\t\tpaperDf = self.processPaperDetails(\n",
    "\t\t\t\tres.json(), parent_id=parent_id, uuid=uuid)\n",
    "\t\t\t# print(paperDf.to_dict('records'))\n",
    "\t\t\ttry:\n",
    "\t\t\t\tself.savePaperDetailsToFinalCsv(paperDf)\n",
    "\t\t\t\tself.awaitsReferences(res.json())\n",
    "\t\t\t\tself.removePaperFromWaitingList(paper_id)\n",
    "\t\t\texcept Exception as e:\n",
    "\t\t\t\tprint(e)\n",
    "\t\t\n",
    "\tdef saveRefsDetails(self, paper_id):\t\n",
    "\t\t# get references for paper\n",
    "\t\trefsDf,waitingDf = self.getReferencesForPaper(paper_id)\n",
    "\t\tself.saveReferencesToFinalCsv(refsDf)\n",
    "\t\tself.saveReferencesToWaitingCsv(waitingDf)\n",
    "\t\t\n",
    "\tdef getEndpointForPaperDetails(self, paper_id):\n",
    "\t\treturn {\n",
    "\t\t\t\"url\": f\"{self.base_url}/{paper_id}\",\n",
    "\t\t\t\"params\": {\n",
    "\t\t\t\t\"fields\": \"paperId,url,title,venue,year,referenceCount,citationCount,influentialCitationCount,isOpenAccess,fieldsOfStudy,abstract,tldr,embedding,references\",\n",
    "\t\t\t}\n",
    "\t\t}\n",
    "\n",
    "\tdef processPaperDetails(self, data,parent_id,uuid):\n",
    "\t\t# pprint(data)\n",
    "\t\t# print(data[\"title\"])\n",
    "\t\tembedding_model = data['embedding']['model']\n",
    "\t\tembedding_vector = ''.join([f\"{v},\" for v in data['embedding']['vector']])\n",
    "\t\tembedding = embedding_model + \",\" + embedding_vector\n",
    "\t\tprint(embedding)\n",
    "\t\ttldr_model = data['tldr']['model']\n",
    "\t\ttldr_text= data['tldr']['text']\n",
    "\t\ttldr = tldr_model + \",\" + tldr_text\n",
    "\t\tprint(tldr)\n",
    "\t\t\n",
    "\t\tp = Paper(\n",
    "\t\t\tuuid=uuid,\n",
    "\t\t\tpaper_id=data[\"paperId\"],\n",
    "\t\t\tparent_id=parent_id,\n",
    "\t\t\ttitle=data[\"title\"],\n",
    "\t\t\treference_count=data[\"referenceCount\"],\n",
    "\t\t\tcitation_count=data[\"citationCount\"],\n",
    "\t\t\tinfluential_citation_count=data[\"influentialCitationCount\"],\n",
    "\t\t\tpublished_date=data[\"year\"],\n",
    "\t\t\tpaper_type=\"Article\",\n",
    "\t\t\tvenue=data[\"venue\"],\n",
    "\t\t\tisOpenAccess=data[\"isOpenAccess\"],\n",
    "\t\t\tabstract=data[\"abstract\"],\n",
    "\t\t\tpaper_link=data[\"url\"],\n",
    "\t\t\tdownload_link=\"\",\n",
    "\t\t\ttldr=tldr,\n",
    "\t\t\tembedding=embedding\n",
    "\t\t)\n",
    "\t\treturn pd.DataFrame([p])\n",
    "\n",
    "\tdef savePaperDetailsToFinalCsv(self, paperDf):\n",
    "\t\t# save to info_full\n",
    "\t\tpaperDf.to_csv(\"data/info_ss/info_full_ss.csv\",\n",
    "\t\t               index=False, header=False, mode=\"a\")\n",
    "\n",
    "\tdef awaitsReferences(self, res):\n",
    "\t\trefs = res['references']\n",
    "\t\tparent_id = res['paperId']\n",
    "\t\tpapers = [{\n",
    "\t\t\t'uuid': uuid4(),\n",
    "\t\t\t'paper_id': ref['paperId'], \n",
    "\t\t\t'parent_id': parent_id, \n",
    "\t\t\t'title': ref['title']\n",
    "\t\t\t}\n",
    "\t\t\tfor ref in refs]\n",
    "\t\tprint(f\"{len(papers)} references found\")\n",
    "\t\twaitingDf = pd.DataFrame(papers)\n",
    "\t\tself.saveReferencesToWaitingCsv(waitingDf)\n",
    "\t\n",
    "\tdef removePaperFromWaitingList(self, paper_id):\n",
    "\t\twt = pd.read_csv(\"data/info_ss/waiting_ss.csv\")\n",
    "\t\tindx = wt.index[wt['paper_id'] == paper_id]\n",
    "\t\twt.drop(indx, inplace=True)\n",
    "\t\twt.to_csv(\"data/info_ss/waiting_ss.csv\", index=False)\n",
    "\t\n",
    "\tdef getReferencesForPaper(self, paper_id):\n",
    "\t\tendpoint = self.getEndpointForReferences(paper_id)\n",
    "\t\tres = requests.get(**endpoint)\n",
    "\t\trefsDf = self.processReferences(res.json().get(\"data\"), parent_id=paper_id)\n",
    "\t\treturn refsDf\n",
    "\n",
    "\tdef saveReferencesToFinalCsv(self, refsDf):\n",
    "\t\t# save to info_full\n",
    "\t\trefsDf.to_csv(\"data/info_ss/info_full_ss.csv\",\n",
    "\t\t              index=False, header=False, mode=\"a\")\n",
    "\n",
    "\tdef saveReferencesToWaitingCsv(self, waitingDf):\n",
    "\t\twaitingDf.to_csv(\"data/info_ss/waiting_ss.csv\",\n",
    "\t\t                 index=False, header=False, mode=\"a\")\n",
    "\t\n",
    "\tdef getEndpointForReferences(self, paper_id):\n",
    "\t\treturn {\n",
    "\t\t\t\"url\": f\"{self.base_url}/{paper_id}/references\",\n",
    "\t\t\t\"params\": {\n",
    "\t\t\t\t\"fields\": \"paperId,url,title,venue,year,referenceCount,citationCount,influentialCitationCount,isOpenAccess,fieldsOfStudy,abstract\",\n",
    "\t\t\t}\n",
    "\t\t}\n",
    "\n",
    "\tdef processReferences(self, references, parent_id):\n",
    "\t\tprint(f\"{len(references)} references found\")\n",
    "\t\twaiting_refs = []\n",
    "\t\trefs = []\n",
    "\t\tfor ref in references:\n",
    "\t\t\tcp = ref.get(\"citedPaper\")\n",
    "\t\t\tif cp['paperId']:\n",
    "\t\t\t\twaiting_refs.append(cp['paperId'])\n",
    "\t\t\tp = Paper(\n",
    "\t\t\t\tpaper_id=cp[\"paperId\"],\n",
    "\t\t\t\tparent_id=parent_id,\n",
    "\t\t\t\ttitle=cp[\"title\"],\n",
    "\t\t\t\treference_count=cp[\"referenceCount\"],\n",
    "\t\t\t\tcitation_count=cp[\"citationCount\"],\n",
    "\t\t\t\tinfluential_citation_count=cp[\"influentialCitationCount\"],\n",
    "\t\t\t\tpublished_date=cp[\"year\"],\n",
    "\t\t\t\tpaper_type=\"\",\n",
    "\t\t\t\tvenue=cp[\"venue\"],\n",
    "\t\t\t\tisOpenAccess=cp[\"isOpenAccess\"],\n",
    "\t\t\t\tabstract=cp[\"abstract\"],\n",
    "\t\t\t\tpaper_link=cp[\"url\"],\n",
    "\t\t\t\tdownload_link=\"\"\n",
    "\t\t\t)\n",
    "\t\t\trefs.append(p)\n",
    "\t\treturn [pd.DataFrame(refs),pd.DataFrame(waiting_refs)]\n",
    "\t\t"
   ]
  },
  {
   "cell_type": "code",
   "execution_count": 13,
   "metadata": {},
   "outputs": [
    {
     "name": "stdout",
     "output_type": "stream",
     "text": [
      "200\n",
      "OK\n",
      "specter@v0.1.1,-5.0251593589782715,-0.7668672204017639,3.24619197845459,-1.0699576139450073,2.3169546127319336,-0.025080472230911255,3.0044264793395996,1.562121868133545,-2.0360097885131836,0.927882194519043,-0.9849504828453064,0.08354397118091583,0.6153993010520935,2.4519529342651367,0.5937599539756775,1.0783541202545166,0.7500835657119751,-1.8462162017822266,2.287376880645752,-1.217930555343628,0.11329089105129242,0.4722680449485779,-2.7950921058654785,-1.9535257816314697,1.428817629814148,-1.9235090017318726,7.70772647857666,4.994366645812988,1.3278181552886963,1.4620716571807861,-0.3095279633998871,-4.983679294586182,1.2845163345336914,-0.6975395679473877,-2.7052910327911377,-4.623964309692383,0.9212973713874817,7.18109655380249,-1.3138294219970703,-0.3099125027656555,-2.054319143295288,-1.2314403057098389,3.8607091903686523,2.223982810974121,-1.8897730112075806,-1.9884285926818848,3.0197958946228027,2.0717334747314453,-3.8850531578063965,-1.0382630825042725,3.714388370513916,-3.514162063598633,0.39743444323539734,1.6399283409118652,0.5651388764381409,-4.031284332275391,0.486863374710083,2.6775383949279785,-0.2712058424949646,-0.4607234597206116,-0.9546146392822266,3.6207094192504883,-1.2278519868850708,1.583838701248169,2.492619037628174,-0.49524879455566406,-4.948639869689941,2.302583694458008,0.4519902467727661,-1.6686979532241821,0.4164083003997803,-0.5709085464477539,2.2593376636505127,1.8468842506408691,2.826230525970459,-2.326606035232544,1.9825844764709473,-0.9408390522003174,-2.8071601390838623,2.6339919567108154,-0.28548991680145264,-4.0458879470825195,-2.7080581188201904,4.167947769165039,3.8414971828460693,-0.44593122601509094,-2.868988275527954,0.42040491104125977,2.3019814491271973,-3.093292713165283,1.2980010509490967,1.0523322820663452,-0.38128942251205444,4.782320499420166,-3.8026795387268066,-0.07952010631561279,-1.7596427202224731,1.583417296409607,-2.230212926864624,-5.19908332824707,2.56935977935791,-2.964143753051758,0.706342875957489,3.508829355239868,1.9829699993133545,-0.9349110126495361,-1.8873887062072754,-0.22928549349308014,1.2896002531051636,1.9293344020843506,2.0956530570983887,0.6600551605224609,0.6806344985961914,-2.7991373538970947,1.8050594329833984,-4.746648788452148,1.4311091899871826,3.8293099403381348,-3.7542591094970703,-0.001452416181564331,1.0345170497894287,-2.0682554244995117,-0.368802547454834,2.1153085231781006,-1.7378267049789429,0.00878918170928955,-1.5181694030761719,-4.121872425079346,-1.1390968561172485,-2.014146089553833,2.8607029914855957,2.191128730773926,1.854312539100647,-1.6467314958572388,2.0986216068267822,2.7445602416992188,-3.685967206954956,3.82702374458313,-2.3773133754730225,0.8493070006370544,-1.2289762496948242,6.7554545402526855,-2.2356128692626953,-1.8604695796966553,-2.6273036003112793,2.9664244651794434,2.3022513389587402,-3.47365140914917,0.9379417300224304,3.1090447902679443,4.02622127532959,-3.615438222885132,-0.9168590903282166,1.6878851652145386,-2.4963016510009766,5.852931976318359,-2.335848331451416,3.2556164264678955,-2.6786017417907715,-2.0986669063568115,0.789111316204071,2.896810531616211,-2.642624855041504,-1.157704472541809,2.1718697547912598,-1.0292682647705078,-2.530203342437744,0.37137371301651,0.03552940487861633,0.006574839353561401,-2.056093215942383,-0.3125901222229004,-1.165473222732544,-2.126004219055176,-0.4244486689567566,0.710455060005188,-0.6917697191238403,-2.8374195098876953,-1.6501725912094116,1.8407877683639526,1.001491665840149,2.0240509510040283,-4.78035831451416,-1.3451251983642578,-3.8117785453796387,0.6568059325218201,-0.314532995223999,-7.799941539764404,-3.3440186977386475,-3.9318442344665527,-1.9894015789031982,-1.4710339307785034,3.8401548862457275,3.120262384414673,0.5978333353996277,4.15971040725708,1.6716327667236328,4.991766452789307,-1.465019941329956,2.3565797805786133,0.1519792079925537,3.100358009338379,5.72803258895874,0.24583855271339417,3.0149059295654297,1.1645090579986572,-1.2197718620300293,3.4706029891967773,-0.9640580415725708,-3.7913129329681396,2.060669422149658,2.4341135025024414,-4.670575141906738,-0.8666762113571167,3.306218147277832,-2.080625534057617,-5.135502815246582,-2.4455695152282715,1.9664559364318848,3.986757516860962,-2.172057867050171,-0.4151880145072937,2.977914333343506,-3.7650578022003174,1.8959593772888184,-6.2129597663879395,-0.04044187068939209,1.1029305458068848,0.12028521299362183,-4.711483001708984,-2.7955071926116943,-5.7070722579956055,-5.440815448760986,-2.2236688137054443,1.0742257833480835,-1.0250768661499023,-3.774486780166626,2.3683903217315674,-2.2973122596740723,-3.0880818367004395,5.772491931915283,6.274713516235352,-0.6201973557472229,1.3498826026916504,1.3064392805099487,0.7015312910079956,-4.458966255187988,-0.04399019479751587,-1.3653526306152344,1.081695556640625,-0.3897906243801117,-2.1117165088653564,2.219893455505371,1.2854833602905273,1.034608006477356,-0.7585667967796326,-2.2101492881774902,-1.6479134559631348,-1.8670399188995361,0.01288384199142456,2.864400625228882,2.471341609954834,-1.9648544788360596,0.5696847438812256,-2.779125452041626,-2.6747708320617676,-4.2512311935424805,-1.5753757953643799,-3.4802355766296387,2.812800407409668,1.2709695100784302,1.1931085586547852,2.0105948448181152,0.30204153060913086,0.49158787727355957,-1.7442302703857422,-0.6239199638366699,-5.008261680603027,-1.9735395908355713,-0.7085584998130798,0.909867525100708,0.37139666080474854,-0.18046468496322632,1.0463718175888062,0.3513321280479431,-3.0042991638183594,-2.888918876647949,-0.035920992493629456,-0.35750576853752136,0.9868296384811401,2.468012809753418,3.344888687133789,-3.2396602630615234,-2.01509428024292,1.557795763015747,5.7900567054748535,2.4214320182800293,0.8665003180503845,-1.2739218473434448,-1.9569693803787231,2.609076976776123,2.688774585723877,0.6975173354148865,0.7758370041847229,1.9033949375152588,-0.8188132643699646,-1.4414317607879639,0.623438835144043,3.955883264541626,-2.626741409301758,-0.9998321533203125,3.6949119567871094,-1.377582311630249,-4.203916072845459,1.6846221685409546,1.879758358001709,-2.692523956298828,2.8342156410217285,-3.139467239379883,0.5741281509399414,-2.2460381984710693,-1.3407725095748901,-2.686985492706299,-0.9703386425971985,-1.8149969577789307,3.8481979370117188,2.089224338531494,1.0227484703063965,-0.6362670660018921,0.44960498809814453,-3.9219985008239746,0.07787425816059113,-0.6228189468383789,-3.2225875854492188,-0.1702658236026764,-1.9717234373092651,-1.1548062562942505,-1.3859528303146362,2.6845741271972656,3.564466953277588,3.1882643699645996,2.8129470348358154,-2.0562584400177,1.8102818727493286,2.135664701461792,0.27468445897102356,1.5099934339523315,-0.2626374363899231,-1.015146255493164,2.670746326446533,-1.1048099994659424,0.2161623239517212,3.3280680179595947,-1.85468327999115,1.741349697113037,5.086968421936035,2.313601493835449,-2.540907144546509,-2.2102770805358887,-1.4417963027954102,1.0263476371765137,-2.444951057434082,-0.2671470642089844,3.929670572280884,3.112983226776123,-3.076603412628174,4.018712997436523,-0.2893308103084564,1.8062471151351929,-1.0288680791854858,-6.836333274841309,-3.8418874740600586,-4.494048118591309,3.633331775665283,-3.86757755279541,-2.135362148284912,-4.1327056884765625,-0.12767094373703003,4.544118881225586,4.671882152557373,-2.143528461456299,0.33756062388420105,-0.7178301811218262,4.2309489250183105,2.094919204711914,-0.352510929107666,-2.0178182125091553,5.2207794189453125,-1.4468061923980713,0.948698878288269,0.0002333521842956543,-3.649667263031006,1.1795642375946045,-0.0027607083320617676,-2.8992838859558105,2.428311347961426,1.461690902709961,0.0034773647785186768,3.369417190551758,-2.5412964820861816,3.065063238143921,0.4348631501197815,2.0773019790649414,4.4445576667785645,-4.577349662780762,2.068479061126709,0.19873110949993134,-4.120767593383789,-4.089418411254883,-0.04717879742383957,-7.325536727905273,-2.307015895843506,0.6679478287696838,-4.966681957244873,2.951633930206299,2.7603490352630615,4.267529487609863,-0.2898712754249573,-3.031963348388672,-3.8562560081481934,-1.5742692947387695,3.207819938659668,2.612771987915039,-4.634180068969727,3.5014498233795166,1.5833393335342407,-0.7209868431091309,2.0047812461853027,0.4502178728580475,2.54032039642334,0.5951868891716003,5.41547966003418,2.0025551319122314,-5.178420066833496,-0.4095354676246643,2.999451160430908,2.071727752685547,0.08166298270225525,2.5776162147521973,-5.098736763000488,3.044922351837158,-1.7140889167785645,2.9175240993499756,4.407732009887695,1.8421049118041992,0.23248392343521118,3.8376471996307373,0.2533126771450043,-3.3503000736236572,1.0323057174682617,4.042526721954346,-0.4991198182106018,-4.464821815490723,-0.4205576479434967,0.4395983815193176,0.07179300487041473,-6.813333034515381,2.104893922805786,-2.863086462020874,0.6596034169197083,-5.284433841705322,5.500161170959473,-1.5173916816711426,-1.1022591590881348,5.0932464599609375,1.9091155529022217,-1.3333406448364258,0.6338250637054443,-5.013596057891846,3.8989410400390625,1.742712378501892,-2.193704128265381,-0.22873833775520325,3.053264617919922,2.324157238006592,0.008728235960006714,-2.019305467605591,1.7932921648025513,1.8724104166030884,0.3911251723766327,-2.342621088027954,0.5011371970176697,3.2677693367004395,-4.503237247467041,4.302289009094238,3.699108839035034,1.08778977394104,-2.0037314891815186,1.7240042686462402,2.2584452629089355,0.05039161443710327,3.7692031860351562,2.5678811073303223,0.9402227401733398,-2.025172710418701,-3.3980774879455566,-1.2305750846862793,-1.5607333183288574,-0.5113070011138916,-0.5465596318244934,3.5888819694519043,-5.767913818359375,1.056645154953003,-0.8462761640548706,-2.0007834434509277,3.2965285778045654,4.994438171386719,1.7606093883514404,2.2429306507110596,1.4702112674713135,-2.0327260494232178,-1.1915256977081299,0.25144878029823303,-0.5575076341629028,-3.180630683898926,-2.6316442489624023,5.935403823852539,-0.8778623938560486,4.45731258392334,-0.011691153049468994,1.9918153285980225,-2.4142632484436035,-2.8138554096221924,-0.8125089406967163,2.5511586666107178,-2.88600492477417,0.9903655052185059,-1.528348445892334,2.1410858631134033,2.2700395584106445,3.2543420791625977,2.928248167037964,6.218944549560547,-1.1598169803619385,1.6831797361373901,-4.034985542297363,-0.008178114891052246,2.5018677711486816,2.390930652618408,3.308546543121338,-0.026577085256576538,-0.7056540250778198,-0.1962081789970398,3.733883857727051,1.9845634698867798,1.1368532180786133,-0.6918455362319946,0.9640040397644043,2.0931289196014404,0.3344757556915283,2.9888691902160645,-0.8784978985786438,0.482081800699234,2.99739408493042,0.6998146772384644,-1.2893952131271362,-4.924997806549072,-1.7845909595489502,1.1222763061523438,2.710360288619995,3.020470380783081,-2.3136801719665527,3.1325998306274414,-3.2579355239868164,2.974813938140869,1.572536826133728,-4.820406436920166,2.436275005340576,2.2833218574523926,-2.741072177886963,-0.9493305087089539,-1.433972954750061,1.9119453430175781,2.9833719730377197,3.792149782180786,-0.4863455891609192,2.6874027252197266,3.370120048522949,0.24810698628425598,-1.695430040359497,-1.8302314281463623,2.1279208660125732,-2.7082886695861816,-2.352524757385254,3.165663957595825,-0.3736988306045532,1.3089871406555176,-4.415698528289795,-3.3760359287261963,-0.3072948455810547,3.287810802459717,2.307255744934082,-0.11101996898651123,-0.8447420597076416,1.1146565675735474,-5.012918949127197,-0.5309839844703674,0.3570926785469055,2.678910970687866,6.653050899505615,-1.2963926792144775,5.027883529663086,2.3625028133392334,3.0907983779907227,-0.750726044178009,-0.7831350564956665,3.2216107845306396,-0.3009328544139862,2.1410579681396484,-0.444693922996521,-0.7051353454589844,-0.08575592935085297,3.84891676902771,0.737023115158081,5.742499351501465,1.3086425065994263,-0.2973349094390869,-2.799699068069458,-1.1217375993728638,-2.820046901702881,1.66753351688385,-0.4017958343029022,-4.464480400085449,-1.2345867156982422,-3.702144145965576,-0.9808950424194336,-1.19508957862854,-0.5292261838912964,2.286539077758789,1.5101377964019775,0.4599423408508301,-0.40944892168045044,1.2792503833770752,1.9519193172454834,-2.19148325920105,-3.8543288707733154,-3.1215147972106934,3.473294734954834,-0.44870150089263916,2.2734789848327637,-0.5303248167037964,0.5683300495147705,-4.778206825256348,5.130179405212402,-0.9985172748565674,0.47515201568603516,0.5305801033973694,1.5541698932647705,-1.503026008605957,-3.499009609222412,-4.914342403411865,-2.180363178253174,1.378278374671936,-0.22068877518177032,-5.869079113006592,4.49842643737793,-0.9547883868217468,-3.095020294189453,1.36478853225708,1.2493865489959717,-4.6447978019714355,5.272738933563232,-3.0417799949645996,-3.218040704727173,-1.09132719039917,3.4529333114624023,4.040831089019775,-3.135131597518921,-1.717261552810669,1.3373417854309082,-1.833090901374817,3.369485855102539,-0.09203124046325684,0.9071356058120728,4.378469944000244,-2.439466953277588,-1.7546428442001343,-1.1299879550933838,-4.33510684967041,2.7721643447875977,4.528317928314209,0.5572770237922668,3.088219404220581,1.9362269639968872,-4.096251964569092,-2.304075002670288,1.0381989479064941,-5.155258655548096,-1.454134464263916,-2.0554287433624268,-1.8164857625961304,2.9433183670043945,-0.6682208776473999,-3.2922511100769043,-2.206918239593506,-2.5968079566955566,0.4276287257671356,-3.048858165740967,-0.9359097480773926,2.221696615219116,-1.9265943765640259,-0.9850519299507141,-4.744476795196533,0.9085274338722229,1.3818647861480713,5.095272541046143,-0.2804114818572998,-4.580196380615234,0.20395198464393616,1.9424705505371094,1.0864248275756836,-2.0333609580993652,2.5237174034118652,0.9227766990661621,-2.251796245574951,-3.0374960899353027,-1.2151908874511719,-0.3385234475135803,-2.0070011615753174,-1.6717814207077026,-1.0178920030593872,-0.62992262840271,1.6979448795318604,-0.22699910402297974,4.534212589263916,1.997157335281372,0.6517295837402344,-1.5929031372070312,2.702152729034424,-3.5656356811523438,3.5088791847229004,1.7144099473953247,0.12249647080898285,-1.8059606552124023,-3.6453301906585693,-3.240877151489258,-2.2536540031433105,-0.3162277936935425,-0.5448193550109863,-6.709278583526611,-3.7626395225524902,-1.3877801895141602,4.671854019165039,1.4791187047958374,2.3446879386901855,0.13848014175891876,1.0604968070983887,0.5533210635185242,-1.9586375951766968,1.1097468137741089,0.09642481803894043,2.7881405353546143,-1.896241545677185,3.0123841762542725,-1.5679833889007568,4.078213691711426,-0.850295901298523,-0.5686386823654175,-2.0200698375701904,0.2809428870677948,-0.01756351627409458,1.7560349702835083,5.543739318847656,1.3856840133666992,-2.0561976432800293,-1.526448369026184,-6.075328826904297,1.3182870149612427,\n",
      "tldr@v2.0.0,The participating systems were evaluated by matching their extracted keyphrases against manually assigned ones and the overall ranking of the submitted systems is presented.\n",
      "[{'uuid': '9c899090-c2d8-4810-ac00-b6eb27f7dde5', 'paper_id': '03589e1917debe6df148cac8963fd008e4140237', 'parent_id': 'b0d555a9ea67285fccd2ef8d887907bcc811f67a', 'title': 'SemEval-2010 Task 5 : Automatic Keyphrase Extraction from Scientific Articles', 'reference_count': 29, 'citation_count': 352, 'influential_citation_count': 71, 'published_date': 2010, 'paper_type': 'Article', 'venue': '*SEMEVAL', 'isOpenAccess': False, 'abstract': 'This paper describes Task 5 of the Workshop on Semantic Evaluation 2010 (SemEval-2010). Systems are to automatically assign keyphrases or keywords to given scientific articles. The participating systems were evaluated by matching their extracted keyphrases against manually assigned ones. We present the overall ranking of the submitted systems and discuss our findings to suggest future directions for this task.', 'paper_link': 'https://www.semanticscholar.org/paper/03589e1917debe6df148cac8963fd008e4140237', 'download_link': '', 'tldr': 'tldr@v2.0.0,The participating systems were evaluated by matching their extracted keyphrases against manually assigned ones and the overall ranking of the submitted systems is presented.', 'embedding': 'specter@v0.1.1,-5.0251593589782715,-0.7668672204017639,3.24619197845459,-1.0699576139450073,2.3169546127319336,-0.025080472230911255,3.0044264793395996,1.562121868133545,-2.0360097885131836,0.927882194519043,-0.9849504828453064,0.08354397118091583,0.6153993010520935,2.4519529342651367,0.5937599539756775,1.0783541202545166,0.7500835657119751,-1.8462162017822266,2.287376880645752,-1.217930555343628,0.11329089105129242,0.4722680449485779,-2.7950921058654785,-1.9535257816314697,1.428817629814148,-1.9235090017318726,7.70772647857666,4.994366645812988,1.3278181552886963,1.4620716571807861,-0.3095279633998871,-4.983679294586182,1.2845163345336914,-0.6975395679473877,-2.7052910327911377,-4.623964309692383,0.9212973713874817,7.18109655380249,-1.3138294219970703,-0.3099125027656555,-2.054319143295288,-1.2314403057098389,3.8607091903686523,2.223982810974121,-1.8897730112075806,-1.9884285926818848,3.0197958946228027,2.0717334747314453,-3.8850531578063965,-1.0382630825042725,3.714388370513916,-3.514162063598633,0.39743444323539734,1.6399283409118652,0.5651388764381409,-4.031284332275391,0.486863374710083,2.6775383949279785,-0.2712058424949646,-0.4607234597206116,-0.9546146392822266,3.6207094192504883,-1.2278519868850708,1.583838701248169,2.492619037628174,-0.49524879455566406,-4.948639869689941,2.302583694458008,0.4519902467727661,-1.6686979532241821,0.4164083003997803,-0.5709085464477539,2.2593376636505127,1.8468842506408691,2.826230525970459,-2.326606035232544,1.9825844764709473,-0.9408390522003174,-2.8071601390838623,2.6339919567108154,-0.28548991680145264,-4.0458879470825195,-2.7080581188201904,4.167947769165039,3.8414971828460693,-0.44593122601509094,-2.868988275527954,0.42040491104125977,2.3019814491271973,-3.093292713165283,1.2980010509490967,1.0523322820663452,-0.38128942251205444,4.782320499420166,-3.8026795387268066,-0.07952010631561279,-1.7596427202224731,1.583417296409607,-2.230212926864624,-5.19908332824707,2.56935977935791,-2.964143753051758,0.706342875957489,3.508829355239868,1.9829699993133545,-0.9349110126495361,-1.8873887062072754,-0.22928549349308014,1.2896002531051636,1.9293344020843506,2.0956530570983887,0.6600551605224609,0.6806344985961914,-2.7991373538970947,1.8050594329833984,-4.746648788452148,1.4311091899871826,3.8293099403381348,-3.7542591094970703,-0.001452416181564331,1.0345170497894287,-2.0682554244995117,-0.368802547454834,2.1153085231781006,-1.7378267049789429,0.00878918170928955,-1.5181694030761719,-4.121872425079346,-1.1390968561172485,-2.014146089553833,2.8607029914855957,2.191128730773926,1.854312539100647,-1.6467314958572388,2.0986216068267822,2.7445602416992188,-3.685967206954956,3.82702374458313,-2.3773133754730225,0.8493070006370544,-1.2289762496948242,6.7554545402526855,-2.2356128692626953,-1.8604695796966553,-2.6273036003112793,2.9664244651794434,2.3022513389587402,-3.47365140914917,0.9379417300224304,3.1090447902679443,4.02622127532959,-3.615438222885132,-0.9168590903282166,1.6878851652145386,-2.4963016510009766,5.852931976318359,-2.335848331451416,3.2556164264678955,-2.6786017417907715,-2.0986669063568115,0.789111316204071,2.896810531616211,-2.642624855041504,-1.157704472541809,2.1718697547912598,-1.0292682647705078,-2.530203342437744,0.37137371301651,0.03552940487861633,0.006574839353561401,-2.056093215942383,-0.3125901222229004,-1.165473222732544,-2.126004219055176,-0.4244486689567566,0.710455060005188,-0.6917697191238403,-2.8374195098876953,-1.6501725912094116,1.8407877683639526,1.001491665840149,2.0240509510040283,-4.78035831451416,-1.3451251983642578,-3.8117785453796387,0.6568059325218201,-0.314532995223999,-7.799941539764404,-3.3440186977386475,-3.9318442344665527,-1.9894015789031982,-1.4710339307785034,3.8401548862457275,3.120262384414673,0.5978333353996277,4.15971040725708,1.6716327667236328,4.991766452789307,-1.465019941329956,2.3565797805786133,0.1519792079925537,3.100358009338379,5.72803258895874,0.24583855271339417,3.0149059295654297,1.1645090579986572,-1.2197718620300293,3.4706029891967773,-0.9640580415725708,-3.7913129329681396,2.060669422149658,2.4341135025024414,-4.670575141906738,-0.8666762113571167,3.306218147277832,-2.080625534057617,-5.135502815246582,-2.4455695152282715,1.9664559364318848,3.986757516860962,-2.172057867050171,-0.4151880145072937,2.977914333343506,-3.7650578022003174,1.8959593772888184,-6.2129597663879395,-0.04044187068939209,1.1029305458068848,0.12028521299362183,-4.711483001708984,-2.7955071926116943,-5.7070722579956055,-5.440815448760986,-2.2236688137054443,1.0742257833480835,-1.0250768661499023,-3.774486780166626,2.3683903217315674,-2.2973122596740723,-3.0880818367004395,5.772491931915283,6.274713516235352,-0.6201973557472229,1.3498826026916504,1.3064392805099487,0.7015312910079956,-4.458966255187988,-0.04399019479751587,-1.3653526306152344,1.081695556640625,-0.3897906243801117,-2.1117165088653564,2.219893455505371,1.2854833602905273,1.034608006477356,-0.7585667967796326,-2.2101492881774902,-1.6479134559631348,-1.8670399188995361,0.01288384199142456,2.864400625228882,2.471341609954834,-1.9648544788360596,0.5696847438812256,-2.779125452041626,-2.6747708320617676,-4.2512311935424805,-1.5753757953643799,-3.4802355766296387,2.812800407409668,1.2709695100784302,1.1931085586547852,2.0105948448181152,0.30204153060913086,0.49158787727355957,-1.7442302703857422,-0.6239199638366699,-5.008261680603027,-1.9735395908355713,-0.7085584998130798,0.909867525100708,0.37139666080474854,-0.18046468496322632,1.0463718175888062,0.3513321280479431,-3.0042991638183594,-2.888918876647949,-0.035920992493629456,-0.35750576853752136,0.9868296384811401,2.468012809753418,3.344888687133789,-3.2396602630615234,-2.01509428024292,1.557795763015747,5.7900567054748535,2.4214320182800293,0.8665003180503845,-1.2739218473434448,-1.9569693803787231,2.609076976776123,2.688774585723877,0.6975173354148865,0.7758370041847229,1.9033949375152588,-0.8188132643699646,-1.4414317607879639,0.623438835144043,3.955883264541626,-2.626741409301758,-0.9998321533203125,3.6949119567871094,-1.377582311630249,-4.203916072845459,1.6846221685409546,1.879758358001709,-2.692523956298828,2.8342156410217285,-3.139467239379883,0.5741281509399414,-2.2460381984710693,-1.3407725095748901,-2.686985492706299,-0.9703386425971985,-1.8149969577789307,3.8481979370117188,2.089224338531494,1.0227484703063965,-0.6362670660018921,0.44960498809814453,-3.9219985008239746,0.07787425816059113,-0.6228189468383789,-3.2225875854492188,-0.1702658236026764,-1.9717234373092651,-1.1548062562942505,-1.3859528303146362,2.6845741271972656,3.564466953277588,3.1882643699645996,2.8129470348358154,-2.0562584400177,1.8102818727493286,2.135664701461792,0.27468445897102356,1.5099934339523315,-0.2626374363899231,-1.015146255493164,2.670746326446533,-1.1048099994659424,0.2161623239517212,3.3280680179595947,-1.85468327999115,1.741349697113037,5.086968421936035,2.313601493835449,-2.540907144546509,-2.2102770805358887,-1.4417963027954102,1.0263476371765137,-2.444951057434082,-0.2671470642089844,3.929670572280884,3.112983226776123,-3.076603412628174,4.018712997436523,-0.2893308103084564,1.8062471151351929,-1.0288680791854858,-6.836333274841309,-3.8418874740600586,-4.494048118591309,3.633331775665283,-3.86757755279541,-2.135362148284912,-4.1327056884765625,-0.12767094373703003,4.544118881225586,4.671882152557373,-2.143528461456299,0.33756062388420105,-0.7178301811218262,4.2309489250183105,2.094919204711914,-0.352510929107666,-2.0178182125091553,5.2207794189453125,-1.4468061923980713,0.948698878288269,0.0002333521842956543,-3.649667263031006,1.1795642375946045,-0.0027607083320617676,-2.8992838859558105,2.428311347961426,1.461690902709961,0.0034773647785186768,3.369417190551758,-2.5412964820861816,3.065063238143921,0.4348631501197815,2.0773019790649414,4.4445576667785645,-4.577349662780762,2.068479061126709,0.19873110949993134,-4.120767593383789,-4.089418411254883,-0.04717879742383957,-7.325536727905273,-2.307015895843506,0.6679478287696838,-4.966681957244873,2.951633930206299,2.7603490352630615,4.267529487609863,-0.2898712754249573,-3.031963348388672,-3.8562560081481934,-1.5742692947387695,3.207819938659668,2.612771987915039,-4.634180068969727,3.5014498233795166,1.5833393335342407,-0.7209868431091309,2.0047812461853027,0.4502178728580475,2.54032039642334,0.5951868891716003,5.41547966003418,2.0025551319122314,-5.178420066833496,-0.4095354676246643,2.999451160430908,2.071727752685547,0.08166298270225525,2.5776162147521973,-5.098736763000488,3.044922351837158,-1.7140889167785645,2.9175240993499756,4.407732009887695,1.8421049118041992,0.23248392343521118,3.8376471996307373,0.2533126771450043,-3.3503000736236572,1.0323057174682617,4.042526721954346,-0.4991198182106018,-4.464821815490723,-0.4205576479434967,0.4395983815193176,0.07179300487041473,-6.813333034515381,2.104893922805786,-2.863086462020874,0.6596034169197083,-5.284433841705322,5.500161170959473,-1.5173916816711426,-1.1022591590881348,5.0932464599609375,1.9091155529022217,-1.3333406448364258,0.6338250637054443,-5.013596057891846,3.8989410400390625,1.742712378501892,-2.193704128265381,-0.22873833775520325,3.053264617919922,2.324157238006592,0.008728235960006714,-2.019305467605591,1.7932921648025513,1.8724104166030884,0.3911251723766327,-2.342621088027954,0.5011371970176697,3.2677693367004395,-4.503237247467041,4.302289009094238,3.699108839035034,1.08778977394104,-2.0037314891815186,1.7240042686462402,2.2584452629089355,0.05039161443710327,3.7692031860351562,2.5678811073303223,0.9402227401733398,-2.025172710418701,-3.3980774879455566,-1.2305750846862793,-1.5607333183288574,-0.5113070011138916,-0.5465596318244934,3.5888819694519043,-5.767913818359375,1.056645154953003,-0.8462761640548706,-2.0007834434509277,3.2965285778045654,4.994438171386719,1.7606093883514404,2.2429306507110596,1.4702112674713135,-2.0327260494232178,-1.1915256977081299,0.25144878029823303,-0.5575076341629028,-3.180630683898926,-2.6316442489624023,5.935403823852539,-0.8778623938560486,4.45731258392334,-0.011691153049468994,1.9918153285980225,-2.4142632484436035,-2.8138554096221924,-0.8125089406967163,2.5511586666107178,-2.88600492477417,0.9903655052185059,-1.528348445892334,2.1410858631134033,2.2700395584106445,3.2543420791625977,2.928248167037964,6.218944549560547,-1.1598169803619385,1.6831797361373901,-4.034985542297363,-0.008178114891052246,2.5018677711486816,2.390930652618408,3.308546543121338,-0.026577085256576538,-0.7056540250778198,-0.1962081789970398,3.733883857727051,1.9845634698867798,1.1368532180786133,-0.6918455362319946,0.9640040397644043,2.0931289196014404,0.3344757556915283,2.9888691902160645,-0.8784978985786438,0.482081800699234,2.99739408493042,0.6998146772384644,-1.2893952131271362,-4.924997806549072,-1.7845909595489502,1.1222763061523438,2.710360288619995,3.020470380783081,-2.3136801719665527,3.1325998306274414,-3.2579355239868164,2.974813938140869,1.572536826133728,-4.820406436920166,2.436275005340576,2.2833218574523926,-2.741072177886963,-0.9493305087089539,-1.433972954750061,1.9119453430175781,2.9833719730377197,3.792149782180786,-0.4863455891609192,2.6874027252197266,3.370120048522949,0.24810698628425598,-1.695430040359497,-1.8302314281463623,2.1279208660125732,-2.7082886695861816,-2.352524757385254,3.165663957595825,-0.3736988306045532,1.3089871406555176,-4.415698528289795,-3.3760359287261963,-0.3072948455810547,3.287810802459717,2.307255744934082,-0.11101996898651123,-0.8447420597076416,1.1146565675735474,-5.012918949127197,-0.5309839844703674,0.3570926785469055,2.678910970687866,6.653050899505615,-1.2963926792144775,5.027883529663086,2.3625028133392334,3.0907983779907227,-0.750726044178009,-0.7831350564956665,3.2216107845306396,-0.3009328544139862,2.1410579681396484,-0.444693922996521,-0.7051353454589844,-0.08575592935085297,3.84891676902771,0.737023115158081,5.742499351501465,1.3086425065994263,-0.2973349094390869,-2.799699068069458,-1.1217375993728638,-2.820046901702881,1.66753351688385,-0.4017958343029022,-4.464480400085449,-1.2345867156982422,-3.702144145965576,-0.9808950424194336,-1.19508957862854,-0.5292261838912964,2.286539077758789,1.5101377964019775,0.4599423408508301,-0.40944892168045044,1.2792503833770752,1.9519193172454834,-2.19148325920105,-3.8543288707733154,-3.1215147972106934,3.473294734954834,-0.44870150089263916,2.2734789848327637,-0.5303248167037964,0.5683300495147705,-4.778206825256348,5.130179405212402,-0.9985172748565674,0.47515201568603516,0.5305801033973694,1.5541698932647705,-1.503026008605957,-3.499009609222412,-4.914342403411865,-2.180363178253174,1.378278374671936,-0.22068877518177032,-5.869079113006592,4.49842643737793,-0.9547883868217468,-3.095020294189453,1.36478853225708,1.2493865489959717,-4.6447978019714355,5.272738933563232,-3.0417799949645996,-3.218040704727173,-1.09132719039917,3.4529333114624023,4.040831089019775,-3.135131597518921,-1.717261552810669,1.3373417854309082,-1.833090901374817,3.369485855102539,-0.09203124046325684,0.9071356058120728,4.378469944000244,-2.439466953277588,-1.7546428442001343,-1.1299879550933838,-4.33510684967041,2.7721643447875977,4.528317928314209,0.5572770237922668,3.088219404220581,1.9362269639968872,-4.096251964569092,-2.304075002670288,1.0381989479064941,-5.155258655548096,-1.454134464263916,-2.0554287433624268,-1.8164857625961304,2.9433183670043945,-0.6682208776473999,-3.2922511100769043,-2.206918239593506,-2.5968079566955566,0.4276287257671356,-3.048858165740967,-0.9359097480773926,2.221696615219116,-1.9265943765640259,-0.9850519299507141,-4.744476795196533,0.9085274338722229,1.3818647861480713,5.095272541046143,-0.2804114818572998,-4.580196380615234,0.20395198464393616,1.9424705505371094,1.0864248275756836,-2.0333609580993652,2.5237174034118652,0.9227766990661621,-2.251796245574951,-3.0374960899353027,-1.2151908874511719,-0.3385234475135803,-2.0070011615753174,-1.6717814207077026,-1.0178920030593872,-0.62992262840271,1.6979448795318604,-0.22699910402297974,4.534212589263916,1.997157335281372,0.6517295837402344,-1.5929031372070312,2.702152729034424,-3.5656356811523438,3.5088791847229004,1.7144099473953247,0.12249647080898285,-1.8059606552124023,-3.6453301906585693,-3.240877151489258,-2.2536540031433105,-0.3162277936935425,-0.5448193550109863,-6.709278583526611,-3.7626395225524902,-1.3877801895141602,4.671854019165039,1.4791187047958374,2.3446879386901855,0.13848014175891876,1.0604968070983887,0.5533210635185242,-1.9586375951766968,1.1097468137741089,0.09642481803894043,2.7881405353546143,-1.896241545677185,3.0123841762542725,-1.5679833889007568,4.078213691711426,-0.850295901298523,-0.5686386823654175,-2.0200698375701904,0.2809428870677948,-0.01756351627409458,1.7560349702835083,5.543739318847656,1.3856840133666992,-2.0561976432800293,-1.526448369026184,-6.075328826904297,1.3182870149612427,'}]\n",
      "29 references found\n"
     ]
    }
   ],
   "source": [
    "ss = SemanticScholar()\n",
    "# ss.savePaperDetails(\"b0d555a9ea67285fccd2ef8d887907bcc811f67a\")\n",
    "ss.savePaperDetails()"
   ]
  },
  {
   "cell_type": "code",
   "execution_count": 72,
   "metadata": {},
   "outputs": [
    {
     "data": {
      "text/plain": [
       "paper_id     14\n",
       "parent_id     0\n",
       "title         0\n",
       "dtype: int64"
      ]
     },
     "execution_count": 72,
     "metadata": {},
     "output_type": "execute_result"
    }
   ],
   "source": [
    "wt = pd.read_csv(\"data/info_ss/waiting_ss.csv\")\n",
    "wt.isnull().sum()"
   ]
  },
  {
   "cell_type": "code",
   "execution_count": 74,
   "metadata": {},
   "outputs": [
    {
     "name": "stdout",
     "output_type": "stream",
     "text": [
      "(131, 3)\n",
      "(117, 3)\n"
     ]
    }
   ],
   "source": [
    "print(wt.shape)\n",
    "print(wt[wt['paper_id'].notnull()].shape)\n"
   ]
  },
  {
   "cell_type": "code",
   "execution_count": 53,
   "metadata": {},
   "outputs": [
    {
     "name": "stdout",
     "output_type": "stream",
     "text": [
      "(1, 3)\n"
     ]
    },
    {
     "data": {
      "text/plain": [
       "[{'paper_id': 'b0d555a9ea67285fccd2ef8d887907bcc811f67a',\n",
       "  'parent_id': nan,\n",
       "  'title': 'PositionRank: An Unsupervised Approach to Keyphrase Extraction from Scholarly Documents'}]"
      ]
     },
     "execution_count": 53,
     "metadata": {},
     "output_type": "execute_result"
    }
   ],
   "source": [
    "# get all not null values\n",
    "p = wt[wt['paper_id'].notnull()][:5]\n",
    "print(p.shape)\n",
    "p = p.to_dict('records')\n",
    "p"
   ]
  },
  {
   "cell_type": "code",
   "execution_count": 54,
   "metadata": {},
   "outputs": [
    {
     "data": {
      "text/plain": [
       "{'paper_id': 'b0d555a9ea67285fccd2ef8d887907bcc811f67a',\n",
       " 'parent_id': nan,\n",
       " 'title': 'PositionRank: An Unsupervised Approach to Keyphrase Extraction from Scholarly Documents'}"
      ]
     },
     "execution_count": 54,
     "metadata": {},
     "output_type": "execute_result"
    }
   ],
   "source": [
    "q = deque(p)\n",
    "q.popleft()"
   ]
  },
  {
   "cell_type": "code",
   "execution_count": 9,
   "metadata": {},
   "outputs": [],
   "source": [
    "id = '03589e1917debe6df148cac8963fd008e4140237'\n",
    "indx = wt.index[wt['paper_id']== id]\n",
    "wt.drop(indx, inplace=True)\n",
    "wt.to_csv(\"data/info_ss/waiting_ss.csv\", index=False)"
   ]
  },
  {
   "cell_type": "markdown",
   "metadata": {},
   "source": [
    "## Download"
   ]
  },
  {
   "cell_type": "code",
   "execution_count": 145,
   "metadata": {},
   "outputs": [],
   "source": [
    "import ssl\n",
    "import requests\n",
    "from requests.adapters import HTTPAdapter\n",
    "from urllib3.poolmanager import PoolManager\n",
    "from urllib3.util import ssl_\n",
    "\n",
    "CIPHERS = \"ECDHE-RSA-AES256-GCM-SHA384:ECDHE-ECDSA-AES256-GCM-SHA384:ECDHE-RSA-AES256-SHA384:ECDHE-ECDSA-AES256-SHA384:ECDHE-RSA-AES128-GCM-SHA256:ECDHE-RSA-AES128-SHA256:AES256-SHA\"\n",
    "\n",
    "\n",
    "class TLSAdapter(HTTPAdapter):\n",
    "\n",
    "    def __init__(self, ssl_options=0, *args, **kwargs):\n",
    "        self.ssl_options = ssl_options\n",
    "        super().__init__(*args, **kwargs)\n",
    "\n",
    "    def init_poolmanager(self, *args, **kwargs):\n",
    "        context = ssl_.create_urllib3_context(\n",
    "            ciphers=CIPHERS, cert_reqs=ssl.CERT_REQUIRED, options=self.ssl_options)\n",
    "        self.poolmanager = PoolManager(*args, ssl_context=context, **kwargs)\n",
    "\n",
    "\n",
    "def download(url, fName):\n",
    "    headers = {\n",
    "        \"User-Agent\": \"Mozilla/5.0 (Windows NT 10.0; Win64; x64) AppleWebKit/537.36 (KHTML, like Gecko) Chrome/101.0.4951.64 Safari/537.36 Edg/101.0.1210.53\",\n",
    "    }\n",
    "    adapter = TLSAdapter(ssl.OP_NO_TLSv1 | ssl.OP_NO_TLSv1_1)\n",
    "\n",
    "    with requests.session() as session:\n",
    "        session.mount('http://', adapter)\n",
    "        session.mount('https://', adapter)  \n",
    "        response = session.get(url, headers=headers)\n",
    "        # print(response.status_code)  # 200\n",
    "        if response.status_code == 200:\n",
    "            with open(f\"data/papers_pdf/{fName}.pdf\", 'wb') as f:\n",
    "                f.write(response.content)\n",
    "            session.close()\n",
    "            return 0,0\n",
    "        else:\n",
    "            session.close()\n",
    "            return response.status_code, response.reason"
   ]
  },
  {
   "cell_type": "code",
   "execution_count": 7,
   "metadata": {},
   "outputs": [],
   "source": [
    "import requests\n",
    "from requests.adapters import HTTPAdapter\n",
    "from requests.adapters import HTTPAdapter, Retry\n",
    "from requests.packages import urllib3\n",
    "\n",
    "urllib3.disable_warnings(urllib3.exceptions.InsecureRequestWarning)\n",
    "\n",
    "retry_strategy = Retry(\n",
    "    total=3,\n",
    "    backoff_factor=1,\n",
    "    status_forcelist=[403,406, 429, 500, 502, 503, 504],\n",
    ")\n",
    "\n",
    "\n",
    "\n",
    "def downloadSS(url, fName):\n",
    "\theaders = {\n",
    "\t\t\"User-Agent\": \"Mozilla/5.0 (Windows NT 10.0; Win64; x64) AppleWebKit/537.36 (KHTML, like Gecko) Chrome/101.0.4951.64 Safari/537.36 Edg/101.0.1210.53\",\n",
    "        \"Accept\": '*/*',\n",
    "\t}\n",
    "\n",
    "\tsession = requests.Session()\n",
    "\tadapter = HTTPAdapter(max_retries=retry_strategy)\n",
    "\tsession.mount('http://', adapter)\n",
    "\tsession.mount('https://', adapter)\n",
    "\tres = requests.get(url, headers=headers,verify=False, timeout=100)\n",
    "\n",
    "\tif res.status_code == 200:\n",
    "\t\twith open(f\"data/papers_pdf/{fName}.pdf\", \"wb\") as f:\n",
    "\t\t\tf.write(res.content)\n",
    "\t\tsession.close()\n",
    "\t\treturn 0, 0\n",
    "\telse:\n",
    "\t\tsession.close()\n",
    "\t\treturn res.status_code, res.reason\n"
   ]
  },
  {
   "cell_type": "code",
   "execution_count": 41,
   "metadata": {},
   "outputs": [
    {
     "name": "stdout",
     "output_type": "stream",
     "text": [
      "0 0\n"
     ]
    }
   ],
   "source": [
    "code, msg = downloadSS(\"http://www.aclweb.org/anthology/P/P17/P17-1102.pdf\",\n",
    "                       \"b0d555a9ea67285fccd2ef8d887907bcc811f67a\")\n",
    "print(code,msg)"
   ]
  },
  {
   "cell_type": "code",
   "execution_count": 8,
   "metadata": {},
   "outputs": [
    {
     "data": {
      "text/plain": [
       "(0, 0)"
      ]
     },
     "execution_count": 8,
     "metadata": {},
     "output_type": "execute_result"
    }
   ],
   "source": [
    "# http://aclweb.org/anthology//D/D14/D14-1150.pdf    406 Not Acceptable\n",
    "downloadSS(\"http://aclweb.org/anthology//D/D14/D14-1150.pdf\",'new' )\n"
   ]
  },
  {
   "cell_type": "code",
   "execution_count": 7,
   "metadata": {},
   "outputs": [
    {
     "data": {
      "text/plain": [
       "(26367, 18)"
      ]
     },
     "execution_count": 7,
     "metadata": {},
     "output_type": "execute_result"
    }
   ],
   "source": [
    "inf = pd.read_csv(\"data/info_ss/info_full_ss.csv\")\n",
    "# inf = pd.read_csv(\"data/info_ss/info_full_ss.csv\", nrows=5000)\n",
    "\n",
    "inf.shape\n"
   ]
  },
  {
   "cell_type": "code",
   "execution_count": 8,
   "metadata": {},
   "outputs": [
    {
     "data": {
      "text/plain": [
       "(26367, 6)"
      ]
     },
     "execution_count": 8,
     "metadata": {},
     "output_type": "execute_result"
    }
   ],
   "source": [
    "small = inf[['uuid', 'paper_id','title','paper_link','doi','download_link']]\n",
    "small.shape\n"
   ]
  },
  {
   "cell_type": "code",
   "execution_count": 9,
   "metadata": {},
   "outputs": [
    {
     "data": {
      "text/plain": [
       "(26367, 6)"
      ]
     },
     "execution_count": 9,
     "metadata": {},
     "output_type": "execute_result"
    }
   ],
   "source": [
    "all_available_dl = small[small['download_link'].notnull()]\n",
    "all_available_dl.shape"
   ]
  },
  {
   "cell_type": "code",
   "execution_count": 10,
   "metadata": {},
   "outputs": [
    {
     "data": {
      "text/plain": [
       "(3327, 18)"
      ]
     },
     "execution_count": 10,
     "metadata": {},
     "output_type": "execute_result"
    }
   ],
   "source": [
    "inf[inf['download_link'] == \"No links found\"].shape"
   ]
  },
  {
   "cell_type": "code",
   "execution_count": 11,
   "metadata": {},
   "outputs": [],
   "source": [
    "all_available_dl.to_csv(\"data/info_ss/papers.csv\", index=False)"
   ]
  },
  {
   "cell_type": "code",
   "execution_count": 208,
   "metadata": {},
   "outputs": [],
   "source": [
    "def f(row):\n",
    "\tif not pd.isnull(row['download_link']):\n",
    "\t\tif row['download_link'].find(\"https:https\") !=-1:\n",
    "\t\t\trow['download_link']=row['download_link'].replace(\"https:https://\", \"https://\")\n",
    "\t\t\t# print(row['download_link'])\n",
    "\t\tif row['download_link'].find(\"https://sci-hub.sehttps:\") != -1:\n",
    "\t\t\trow['download_link']=row['download_link'].replace(\"https://sci-hub.sehttps://\", \"https://\")\n",
    "\t\t\t# print(row['download_link'])\n",
    "\n",
    "\treturn row\n",
    "\t\n"
   ]
  },
  {
   "cell_type": "code",
   "execution_count": 1,
   "metadata": {},
   "outputs": [
    {
     "ename": "NameError",
     "evalue": "name 'inf' is not defined",
     "output_type": "error",
     "traceback": [
      "\u001b[1;31m---------------------------------------------------------------------------\u001b[0m",
      "\u001b[1;31mNameError\u001b[0m                                 Traceback (most recent call last)",
      "\u001b[1;32md:\\CSE\\Programs\\RefScrapper\\semanticscholar.ipynb Cell 33'\u001b[0m in \u001b[0;36m<cell line: 1>\u001b[1;34m()\u001b[0m\n\u001b[1;32m----> <a href='vscode-notebook-cell:/d%3A/CSE/Programs/RefScrapper/semanticscholar.ipynb#ch0000032?line=0'>1</a>\u001b[0m inf \u001b[39m=\u001b[39m inf\u001b[39m.\u001b[39mapply(f,axis\u001b[39m=\u001b[39m\u001b[39m'\u001b[39m\u001b[39mcolumns\u001b[39m\u001b[39m'\u001b[39m)\n",
      "\u001b[1;31mNameError\u001b[0m: name 'inf' is not defined"
     ]
    }
   ],
   "source": [
    "inf = inf.apply(f,axis='columns')"
   ]
  },
  {
   "cell_type": "code",
   "execution_count": 205,
   "metadata": {},
   "outputs": [
    {
     "data": {
      "text/plain": [
       "(25172, 18)"
      ]
     },
     "execution_count": 205,
     "metadata": {},
     "output_type": "execute_result"
    }
   ],
   "source": [
    "inf.shape"
   ]
  },
  {
   "cell_type": "code",
   "execution_count": 210,
   "metadata": {},
   "outputs": [],
   "source": [
    "inf.to_csv(\"data/info_ss/info_full_ss.csv\", index=False)"
   ]
  },
  {
   "cell_type": "code",
   "execution_count": 211,
   "metadata": {},
   "outputs": [],
   "source": [
    "d = all_available_dl.apply(f, axis='columns')"
   ]
  },
  {
   "cell_type": "code",
   "execution_count": 195,
   "metadata": {},
   "outputs": [
    {
     "name": "stdout",
     "output_type": "stream",
     "text": [
      "118\n",
      "0\n",
      "https://sci-hub.sehttps://moscow.sci-hub.se/2285/5b41d4d2d3b3c572c8324d5b731ad1bb/amitay2000.pdf#navpanes=0&view=FitH;https://zero.sci-hub.st/2285/5b41d4d2d3b3c572c8324d5b731ad1bb/amitay2000.pdf#navpanes=0&view=FitH\n",
      "https://moscow.sci-hub.se/2285/5b41d4d2d3b3c572c8324d5b731ad1bb/amitay2000.pdf#navpanes=0&view=FitH;https:https://zero.sci-hub.st/2285/5b41d4d2d3b3c572c8324d5b731ad1bb/amitay2000.pdf#navpanes=0&view=FitH\n"
     ]
    }
   ],
   "source": [
    "# https://sci-hub.sehttps://moscow.sci-hub.se/2285/5b41d4d2d3b3c572c8324d5b731ad1bb/amitay2000.pdf#navpanes=0&view=FitH;https:https://zero.sci-hub.st/2285/5b41d4d2d3b3c572c8324d5b731ad1bb/amitay2000.pdf#navpanes=0&view=FitH\n",
    "\n",
    "# https://sci.bban.top/pdf/10.1109/ICICTA.2008.180.pdf#view=FitH;https://sci-hub.sehttps://zero.sci-hub.se/4876/8910d66cc317ac627be0ef6bd2859b85/wang2008.pdf#navpanes=0&view=FitH;https:https://moscow.sci-hub.st/4876/8910d66cc317ac627be0ef6bd2859b85/wang2008.pdf#navpanes=0&view=FitH\n",
    "\n",
    "s = \"https://sci-hub.sehttps://moscow.sci-hub.se/2285/5b41d4d2d3b3c572c8324d5b731ad1bb/amitay2000.pdf#navpanes=0&view=FitH;https:https://zero.sci-hub.st/2285/5b41d4d2d3b3c572c8324d5b731ad1bb/amitay2000.pdf#navpanes=0&view=FitH\"\n",
    "print(s.find(\"https:https://\"))\n",
    "print(s.find(\"https://sci-hub.sehttps://\"))\n",
    "\n",
    "print(s.replace(\"https:https://\",\"https://\"))\n",
    "print(s.replace(\"https://sci-hub.sehttps://\",\"https://\"))"
   ]
  },
  {
   "cell_type": "code",
   "execution_count": 216,
   "metadata": {},
   "outputs": [],
   "source": []
  },
  {
   "cell_type": "code",
   "execution_count": 131,
   "metadata": {},
   "outputs": [
    {
     "name": "stdout",
     "output_type": "stream",
     "text": [
      "46\n"
     ]
    },
    {
     "data": {
      "text/plain": [
       "[{'uuid': '8bde6cb8-296d-4593-883f-b768103e1e69',\n",
       "  'paper_id': 'b0d555a9ea67285fccd2ef8d887907bcc811f67a'},\n",
       " {'uuid': '77c4043a-1b88-4852-88b2-9994130f023e',\n",
       "  'paper_id': 'f7fe3f870ef5e1a74600c8808c07732cd2e5142d'},\n",
       " {'uuid': '0d2c02bf-eece-4eba-9621-8128c107fcc4',\n",
       "  'paper_id': 'ff30cca624b6a64d561310f564873a63fb413ef1'}]"
      ]
     },
     "execution_count": 131,
     "metadata": {},
     "output_type": "execute_result"
    }
   ],
   "source": [
    "dl = pd.read_csv(\"data/info_ss/downloaded.csv\")\n",
    "dl_dict = dl.to_dict('records')\n",
    "print(len(dl_dict))\n",
    "dl_dict[:3]\n"
   ]
  },
  {
   "cell_type": "code",
   "execution_count": 132,
   "metadata": {},
   "outputs": [
    {
     "data": {
      "text/plain": [
       "['8bde6cb8-296d-4593-883f-b768103e1e69',\n",
       " '77c4043a-1b88-4852-88b2-9994130f023e']"
      ]
     },
     "execution_count": 132,
     "metadata": {},
     "output_type": "execute_result"
    }
   ],
   "source": [
    "uuids = [d['uuid'] for d in dl_dict]\n",
    "uuids[:2]\n"
   ]
  },
  {
   "cell_type": "code",
   "execution_count": 133,
   "metadata": {},
   "outputs": [
    {
     "data": {
      "text/plain": [
       "['b0d555a9ea67285fccd2ef8d887907bcc811f67a',\n",
       " 'f7fe3f870ef5e1a74600c8808c07732cd2e5142d']"
      ]
     },
     "execution_count": 133,
     "metadata": {},
     "output_type": "execute_result"
    }
   ],
   "source": [
    "paperIds = [d['paper_id'] for d in dl_dict]\n",
    "paperIds[:2]"
   ]
  },
  {
   "cell_type": "code",
   "execution_count": 150,
   "metadata": {},
   "outputs": [
    {
     "data": {
      "text/plain": [
       "(78, 16)"
      ]
     },
     "execution_count": 150,
     "metadata": {},
     "output_type": "execute_result"
    }
   ],
   "source": [
    "all_available_dl = inf[inf['download_link'].notnull()][:]\n",
    "all_available_dl.shape"
   ]
  },
  {
   "cell_type": "code",
   "execution_count": 135,
   "metadata": {},
   "outputs": [
    {
     "data": {
      "text/plain": [
       "(44, 16)"
      ]
     },
     "execution_count": 135,
     "metadata": {},
     "output_type": "execute_result"
    }
   ],
   "source": [
    "next_dl = all_available_dl[~all_available_dl['uuid'].isin(uuids)]\n",
    "next_dl.shape"
   ]
  },
  {
   "cell_type": "code",
   "execution_count": 147,
   "metadata": {},
   "outputs": [
    {
     "name": "stdout",
     "output_type": "stream",
     "text": [
      "http://anthology.aclweb.org/C/C10/C10-1101.pdf\n",
      "already downloaded\n",
      "http://www.hlt.utdallas.edu/~vince/papers/acl14-keyphrase.pdf\n",
      "already downloaded\n"
     ]
    }
   ],
   "source": [
    "from time import sleep\n",
    "\n",
    "dl = pd.read_csv(\"data/info_ss/downloaded.csv\")\n",
    "dl_dict = dl.to_dict('records')\n",
    "uuids = [d['uuid'] for d in dl_dict]\n",
    "paperIds = [d['paper_id'] for d in dl_dict]\n",
    "all_available_dl = inf[inf['download_link'].notnull()]\n",
    "next_dl = all_available_dl[~all_available_dl['uuid'].isin(uuids)]\n",
    "next_dl_dict = next_dl.to_dict('records')[:2]\n",
    "\n",
    "for d in next_dl_dict:\n",
    "\tdownload_links = d['download_link']\n",
    "\tpaper_id = d['paper_id']\n",
    "\tuuid = d['uuid']\n",
    "\tlinks = download_links.split(\";\")\n",
    "\tfor link in links:\n",
    "\t\tsleep(1)\n",
    "\t\tprint(link)\n",
    "\t\tif link == 'No links found':\n",
    "\t\t\tdlDf = pd.DataFrame([{\n",
    "\t\t\t\t'uuid': uuid,\n",
    "\t\t\t\t'paper_id': paper_id,\n",
    "\t\t\t}])\n",
    "\t\t\tdlDf.to_csv(\"data/info_ss/downloaded.csv\", index=False, header=False, mode=\"a\")\n",
    "\t\telse:\n",
    "\t\t\tif paper_id in paperIds:\n",
    "\t\t\t\tdlDf = pd.DataFrame([{\n",
    "\t\t\t\t\t\t\t\t'uuid': uuid,\n",
    "\t\t\t\t\t\t\t\t'paper_id': paper_id,\n",
    "\t\t\t\t\t\t\t}])\n",
    "\t\t\t\tdlDf.to_csv(\"data/info_ss/downloaded.csv\",\n",
    "\t\t\t\t\t\t\tindex=False, header=False, mode=\"a\")\n",
    "\t\t\t\tprint(\"already downloaded\")\n",
    "\t\t\t\tbreak\n",
    "\t\t\telse:\n",
    "\t\t\t\ttry:\n",
    "\t\t\t\t\tcode, msg = download(link, paper_id)\n",
    "\t\t\t\t\tif code == 0:\n",
    "\t\t\t\t\t\tdlDf = pd.DataFrame([{\n",
    "\t\t\t\t\t\t\t\t\t\t'uuid': uuid,\n",
    "\t\t\t\t\t\t\t\t\t\t'paper_id': paper_id,\n",
    "\t\t\t\t\t\t\t\t\t}])\n",
    "\t\t\t\t\t\tdlDf.to_csv(\"data/info_ss/downloaded.csv\",\n",
    "\t\t\t\t\t\t\t\t\tindex=False, header=False, mode=\"a\")\n",
    "\t\t\t\t\t\tprint(\"downloaded\")\n",
    "\t\t\t\t\t\tbreak\n",
    "\t\t\t\t\telse:\n",
    "\t\t\t\t\t\tprint(f\"{code} {msg}\")\n",
    "\t\t\t\texcept Exception as e:\n",
    "\t\t\t\t\tprint(e)\n",
    "\t\t\t\t\t# break"
   ]
  },
  {
   "cell_type": "markdown",
   "metadata": {},
   "source": [
    "## Graph"
   ]
  },
  {
   "cell_type": "code",
   "execution_count": 6,
   "metadata": {},
   "outputs": [],
   "source": [
    "import pandas as pd\n",
    "from __future__ import annotations\n",
    "from collections import defaultdict, deque\n",
    "from typing import List, DefaultDict, Deque, Dict\n",
    "AdjacencyList = DefaultDict[str, List[str]]\n",
    "Levels = List[List[Dict]]\n",
    "from pandas import DataFrame"
   ]
  },
  {
   "cell_type": "markdown",
   "metadata": {},
   "source": [
    "### Info manager"
   ]
  },
  {
   "cell_type": "code",
   "execution_count": 7,
   "metadata": {},
   "outputs": [],
   "source": [
    "class InfoManager:\n",
    "\tdef __init__(self, file_path: str=None,df: DataFrame = None) -> None:\n",
    "\t\tif file_path:\n",
    "\t\t\tself.inf: DataFrame = pd.read_csv(file_path)\n",
    "\t\telif df is not None:\n",
    "\t\t\tself.inf = df\n",
    "\n",
    "\tdef get_info_by_uuid(self, id: str) -> List[dict]:\n",
    "\t\tf = self.inf[self.inf['uuid'] == id]\n",
    "\t\treturn f.to_dict('records')[0]\n",
    "\n",
    "\tdef get_info_by_uuidIds(self, ids: List[str]) -> List[dict]:\n",
    "\t\tf = self.inf[self.inf['uuid'].isin(ids)]\n",
    "\t\treturn f.to_dict('records')\n",
    "\n",
    "\tdef get_info_by_key(self, key: str, value: str) -> List[dict]:\n",
    "\t\tf = self.inf[self.inf[key] == value]\n",
    "\t\treturn f.to_dict('records')\n",
    "\n",
    "\tdef get_info_keys_by_uuid(self, id: str, keys: List[str]) -> str:\n",
    "\t\tf = self.inf[self.inf['uuid'] == id]\n",
    "\t\treturn f.iloc[0][keys].to_dict()\n",
    "\n",
    "\tdef get_refs_by_uuid(self, uuid: str) -> List[str]:\n",
    "\t\tf = self.inf[self.inf['parent_id'] == uuid]\n",
    "\t\treturn f.to_dict('records')\n",
    "\n",
    "\tdef get_parent_info_by_child_id(self, child_id: str) -> List[dict]:\n",
    "\t\tf = self.inf[self.inf['uuid'] == child_id]\n",
    "\t\tparent_id = f.iloc[0]['parent_id']\n",
    "\t\tp = self.inf[self.inf['uuid'] == parent_id]\n",
    "\t\treturn p.to_dict('records')[0]\n",
    "\t\t"
   ]
  },
  {
   "cell_type": "code",
   "execution_count": 10,
   "metadata": {},
   "outputs": [],
   "source": [
    "im = InfoManager(file_path='data/info_ss/info_full_ss.csv')"
   ]
  },
  {
   "cell_type": "code",
   "execution_count": 8,
   "metadata": {},
   "outputs": [
    {
     "data": {
      "text/plain": [
       "{'title': 'PositionRank: An Unsupervised Approach to Keyphrase Extraction from Scholarly Documents',\n",
       " 'uuid': '8bde6cb8-296d-4593-883f-b768103e1e69',\n",
       " 'paper_id': 'b0d555a9ea67285fccd2ef8d887907bcc811f67a',\n",
       " 'citation_count': 176}"
      ]
     },
     "execution_count": 8,
     "metadata": {},
     "output_type": "execute_result"
    }
   ],
   "source": [
    "im.get_info_key_by_uuid(\"8bde6cb8-296d-4593-883f-b768103e1e69\",['title','uuid','paper_id','citation_count'])"
   ]
  },
  {
   "cell_type": "code",
   "execution_count": null,
   "metadata": {},
   "outputs": [
    {
     "data": {
      "text/plain": [
       "40"
      ]
     },
     "metadata": {},
     "output_type": "display_data"
    }
   ],
   "source": [
    "refs= im.get_refs_by_parent_id('8bde6cb8-296d-4593-883f-b768103e1e69')\n",
    "len(refs)"
   ]
  },
  {
   "cell_type": "code",
   "execution_count": null,
   "metadata": {},
   "outputs": [
    {
     "data": {
      "text/plain": [
       "0"
      ]
     },
     "metadata": {},
     "output_type": "display_data"
    }
   ],
   "source": [
    "im.get_level_no_by_id(l,'8bde6cb8-296d-4593-883f-b768103e1e69')"
   ]
  },
  {
   "cell_type": "markdown",
   "metadata": {},
   "source": [
    "### Graph"
   ]
  },
  {
   "cell_type": "code",
   "execution_count": 8,
   "metadata": {},
   "outputs": [],
   "source": [
    "class Graph:\n",
    "\tdef __init__(self) -> None:\n",
    "\t\tself.graph: AdjacencyList = defaultdict(list)\n",
    "\t\tself.levelOrderList: Levels = []\n",
    "\t\tself.levelOrderIdsList: Levels = []\n",
    "\t\tself.inf: DataFrame|None = None\n",
    "\t\t\n",
    "\n",
    "\t@classmethod\n",
    "\tdef init_from_csv(cls, csv_path: str) -> Graph:\n",
    "\t\tg = cls()\n",
    "\t\t# gpd = pd.read_csv(csv_path)\n",
    "\t\tg.inf = pd.read_csv(csv_path, usecols=['paper_id', 'uuid', 'parent_id'])\n",
    "\t\t\n",
    "\t\t# only not null values\n",
    "\t\t# gpd = gpd[gpd['paper_id'].notnull()]\n",
    "\t\tprint(g.inf.shape)\n",
    "\t\tfor _, row in g.inf.iterrows():\n",
    "\t\t\tg.addEdge(row['parent_id'], row['uuid'])\n",
    "\t\treturn g\n",
    "\n",
    "\tdef addEdge(self, parent_id: str, id: str) -> None:\n",
    "\t\tself.graph[parent_id].append(id)\n",
    "\n",
    "\tdef levelOrderFull(self, root: str, im: InfoManager) -> List[List[Dict]]:\n",
    "\t\tself.levelOrderList = []\n",
    "\t\tq: Deque = deque()\n",
    "\t\tq.append(root)\n",
    "\t\twhile q:\n",
    "\t\t\tcurrentLevel: List[Dict] = []\n",
    "\t\t\tcurrentQLength = len(q)\n",
    "\t\t\tfor _ in range(currentQLength):\n",
    "\t\t\t\tcurrentNode = q.popleft()\n",
    "\t\t\t\t# currentLevel.append(currentNode)\n",
    "\t\t\t\tp = im.get_info_key_by_uuid(currentNode, ['paper_id', 'uuid', 'parent_id'])\n",
    "\t\t\t\tcurrentLevel.append(p)\n",
    "\t\t\t\tfor children in self.graph[currentNode]:\n",
    "\t\t\t\t\tq.append(children)\n",
    "\n",
    "\t\t\tself.levelOrderList.append(currentLevel)\n",
    "\t\t\n",
    "\t\treturn self.levelOrderList\n",
    "\t\n",
    "\tdef levelOrderIdsOnly(self, root: str) -> List[List[Dict]]:\n",
    "\t\tself.levelOrderIdsList = []\n",
    "\t\tq: Deque = deque()\n",
    "\t\tq.append(root)\n",
    "\t\twhile q:\n",
    "\t\t\tcurrentLevel: List[Dict] = []\n",
    "\t\t\tcurrentQLength = len(q)\n",
    "\t\t\tfor _ in range(currentQLength):\n",
    "\t\t\t\tcurrentNode = q.popleft()\n",
    "\t\t\t\tcurrentLevel.append(currentNode)\n",
    "\t\t\t\tfor children in self.graph[currentNode]:\n",
    "\t\t\t\t\tq.append(children)\n",
    "\n",
    "\t\t\tself.levelOrderIdsList.append(currentLevel)\n",
    "\n",
    "\t\treturn self.levelOrderIdsList\n",
    "\t\n",
    "\tdef get_level_no_by_id(self, levels: List[List[Dict]], id: int) -> int:\n",
    "\t\tfor i, l in enumerate(levels):\n",
    "\t\t\tfor d in l:\n",
    "\t\t\t\tif d['uuid'] == id:\n",
    "\t\t\t\t\treturn i\n",
    "\t\treturn -1 \n",
    "\t\n",
    "\tdef alreadyProcessed(self, id: str, levels: List[List[str]]) -> bool:\n",
    "\t\tprint(len(levels))\n",
    "\t\tfor i in range(len(levels) - 1):\n",
    "\t\t\tprint(i)\n",
    "\t\t\t# if id in levels[i]:\n",
    "\t\t\t# return True\n",
    "\t\n"
   ]
  },
  {
   "cell_type": "code",
   "execution_count": 9,
   "metadata": {},
   "outputs": [
    {
     "name": "stdout",
     "output_type": "stream",
     "text": [
      "(24750, 3)\n"
     ]
    }
   ],
   "source": [
    "g = Graph.init_from_csv('data/info_ss/info_full_ss.csv')"
   ]
  },
  {
   "cell_type": "code",
   "execution_count": 64,
   "metadata": {},
   "outputs": [
    {
     "data": {
      "text/plain": [
       "[(nan, 1),\n",
       " ('8bde6cb8-296d-4593-883f-b768103e1e69', 39),\n",
       " ('ade6eb61-946a-49f3-835d-74804cb9de3e', 20),\n",
       " ('be2af112-6c57-4598-9813-d02fff71055b', 59),\n",
       " ('899a51ab-0231-4baf-bd9e-a1b15c743623', 23)]"
      ]
     },
     "execution_count": 64,
     "metadata": {},
     "output_type": "execute_result"
    }
   ],
   "source": [
    "[(k,len(v)) for k,v in g.graph.items() ][:5]"
   ]
  },
  {
   "cell_type": "code",
   "execution_count": 10,
   "metadata": {},
   "outputs": [
    {
     "name": "stdout",
     "output_type": "stream",
     "text": [
      "total levels: 5\n",
      "level 0: 1\n",
      "level 1: 39\n",
      "level 2: 1056\n",
      "level 3: 24388\n",
      "level 4: 61\n"
     ]
    }
   ],
   "source": [
    "im = InfoManager(df=g.inf)\n",
    "l_full = g.levelOrderFull(root=\"8bde6cb8-296d-4593-883f-b768103e1e69\", im=im)\n",
    "print(f\"total levels: {len(l_full)}\")\n",
    "for i, level in enumerate(l_full):\n",
    "\tprint(f\"level {i}: {len(level)}\")"
   ]
  },
  {
   "cell_type": "code",
   "execution_count": 44,
   "metadata": {},
   "outputs": [
    {
     "data": {
      "text/plain": [
       "[{'paper_id': 'b0d555a9ea67285fccd2ef8d887907bcc811f67a',\n",
       "  'uuid': '8bde6cb8-296d-4593-883f-b768103e1e69',\n",
       "  'parent_id': nan}]"
      ]
     },
     "execution_count": 44,
     "metadata": {},
     "output_type": "execute_result"
    }
   ],
   "source": [
    "l_full[0]\n"
   ]
  },
  {
   "cell_type": "code",
   "execution_count": 65,
   "metadata": {},
   "outputs": [
    {
     "name": "stdout",
     "output_type": "stream",
     "text": [
      "total levels: 5\n",
      "level 0: 1\n",
      "level 1: 39\n",
      "level 2: 1037\n",
      "level 3: 23249\n",
      "level 4: 61\n"
     ]
    }
   ],
   "source": [
    "l = g.levelOrderIdsOnly(root=\"8bde6cb8-296d-4593-883f-b768103e1e69\")\n",
    "print(f\"total levels: {len(l)}\")\n",
    "for i, level in enumerate(l):\n",
    "\tprint(f\"level {i}: {len(level)}\")\n"
   ]
  },
  {
   "cell_type": "code",
   "execution_count": 66,
   "metadata": {},
   "outputs": [
    {
     "data": {
      "text/plain": [
       "['8bde6cb8-296d-4593-883f-b768103e1e69']"
      ]
     },
     "execution_count": 66,
     "metadata": {},
     "output_type": "execute_result"
    }
   ],
   "source": [
    "l[0]"
   ]
  },
  {
   "cell_type": "markdown",
   "metadata": {},
   "source": [
    "### find wrongly referenced papers"
   ]
  },
  {
   "cell_type": "code",
   "execution_count": 10,
   "metadata": {},
   "outputs": [
    {
     "name": "stdout",
     "output_type": "stream",
     "text": [
      "total levels: 5\n",
      "level 0: 1\n",
      "level 1: 39\n",
      "level 2: 1037\n",
      "level 3: 23249\n",
      "level 4: 61\n"
     ]
    }
   ],
   "source": [
    "l = g.levelOrderIdsOnly(root=\"8bde6cb8-296d-4593-883f-b768103e1e69\")\n",
    "print(f\"total levels: {len(l)}\")\n",
    "for i, level in enumerate(l):\n",
    "\tprint(f\"level {i}: {len(level)}\")"
   ]
  },
  {
   "cell_type": "code",
   "execution_count": 11,
   "metadata": {},
   "outputs": [
    {
     "data": {
      "text/plain": [
       "['8bde6cb8-296d-4593-883f-b768103e1e69',\n",
       " 'ade6eb61-946a-49f3-835d-74804cb9de3e',\n",
       " 'be2af112-6c57-4598-9813-d02fff71055b']"
      ]
     },
     "execution_count": 11,
     "metadata": {},
     "output_type": "execute_result"
    }
   ],
   "source": [
    "all_papers_upto_l3 = [p for p in l[0] + l[1] + l[2]]\n",
    "all_papers_upto_l3[:3]\n"
   ]
  },
  {
   "cell_type": "code",
   "execution_count": 12,
   "metadata": {},
   "outputs": [],
   "source": [
    "im = InfoManager(\"data/info_ss/info_full_ss.csv\")\n"
   ]
  },
  {
   "cell_type": "code",
   "execution_count": 13,
   "metadata": {},
   "outputs": [
    {
     "name": "stdout",
     "output_type": "stream",
     "text": [
      "<class 'float'>\n"
     ]
    }
   ],
   "source": [
    "paper = im.get_info_key_by_uuid(l[0][0],\n",
    "['title','uuid','paper_id','published_date','parent_id'])\n",
    "print(type(paper['published_date']))"
   ]
  },
  {
   "cell_type": "code",
   "execution_count": 14,
   "metadata": {},
   "outputs": [],
   "source": [
    "p = im.get_refs_by_uuid(\"8bde6cb8-296d-4593-883f-b768103e1e69\")"
   ]
  },
  {
   "cell_type": "code",
   "execution_count": 15,
   "metadata": {},
   "outputs": [],
   "source": [
    "count = []\n",
    "for i, level in enumerate(l):\n",
    "\t# print(f\"level {i}: {len(level)}\")\n",
    "\tif i == 3:\n",
    "\t\tbreak\n",
    "\tfor parent_uuid in level:\n",
    "\t\troot = im.get_info_keys_by_uuid(parent_uuid,\n",
    "\t\t\t\t\t\t\t\t\t['title', 'uuid', 'paper_id', 'published_date'])\n",
    "\t\tpublished_date = root['published_date']\n",
    "\t\tpaper_id = root['paper_id']\n",
    "\t\ttitle = root['title']\n",
    "\t\t\n",
    "\t\trefs = im.get_refs_by_uuid(parent_uuid)\n",
    "\t\tfor ref in refs:\n",
    "\t\t\tchild_published_date = ref['published_date']\n",
    "\t\t\tchild_uuid = ref['uuid']\n",
    "\t\t\tchild_title = ref['title']\n",
    "\t\t\tchild_paper_id = ref['paper_id']\n",
    "\t\t\tif child_published_date > published_date:\n",
    "\t\t\t\tcount.append((i, paper_id, title, child_paper_id, child_title, child_published_date))\n"
   ]
  },
  {
   "cell_type": "code",
   "execution_count": 16,
   "metadata": {},
   "outputs": [
    {
     "data": {
      "text/plain": [
       "[]"
      ]
     },
     "execution_count": 16,
     "metadata": {},
     "output_type": "execute_result"
    }
   ],
   "source": [
    "count"
   ]
  },
  {
   "cell_type": "code",
   "execution_count": 93,
   "metadata": {},
   "outputs": [
    {
     "name": "stdout",
     "output_type": "stream",
     "text": [
      "9d7c00f6-d0e0-4a53-aeb4-66b1b63a9e56 2008.0 f7fe3f870ef5e1a74600c8808c07732cd2e5142d Graph-Based Keyword Extraction for Single-Document Summarization 85de4ba2-2a61-449b-bd95-7a5f5fad2088 2009.0 29626c9a0fdd78e16d5e6e34ab159edbefb75e15 Vector-Space Model\n"
     ]
    }
   ],
   "source": [
    "# \n",
    "for i, level in enumerate(l):\n",
    "\t# print(f\"level {i}: {len(level)}\")\n",
    "\tif i == 3:\n",
    "\t\tbreak\n",
    "\tfor parent_uuid in level:\n",
    "\t\troot = im.get_info_keys_by_uuid(parent_uuid,\n",
    "\t\t\t\t\t\t\t\t\t['title', 'uuid', 'paper_id', 'published_date'])\n",
    "\t\tpublished_date = root['published_date']\n",
    "\t\tpaper_id = root['paper_id']\n",
    "\t\ttitle = root['title']\n",
    "\t\n",
    "\t\trefs = im.get_refs_by_uuid(parent_uuid)\n",
    "\t\tfor ref in refs:\n",
    "\t\t\tchild_published_date = ref['published_date']\n",
    "\t\t\tchild_uuid = ref['uuid']\n",
    "\t\t\tchild_title = ref['title']\n",
    "\t\t\tchild_paper_id = ref['paper_id']\n",
    "\t\t\tif child_published_date > published_date:\n",
    "\t\t\t\tinfo = {\n",
    "\t\t\t\t\t'parent_uuid': parent_uuid,\n",
    "\t\t\t\t\t'parent_published_date': published_date,\n",
    "\t\t\t\t\t'parent_paper_id': paper_id,\n",
    "\t\t\t\t\t'parent_title': title,\n",
    "\t\t\t\t\t'child_uuid': child_uuid,\n",
    "\t\t\t\t\t'child_published_date': child_published_date,\n",
    "\t\t\t\t\t'child_paper_id': child_paper_id,\n",
    "\t\t\t\t\t'child_title': child_title\n",
    "\t\t\t\t}\n",
    "\t\t\t\tdf = pd.DataFrame([info])\n",
    "\t\t\t\tdf.to_csv('data/info_ss/wrong_refs.csv', mode='a', header=False, index=False)\n"
   ]
  },
  {
   "cell_type": "code",
   "execution_count": 40,
   "metadata": {},
   "outputs": [
    {
     "data": {
      "text/plain": [
       "(795, 8)"
      ]
     },
     "execution_count": 40,
     "metadata": {},
     "output_type": "execute_result"
    }
   ],
   "source": [
    "wg = pd.read_csv('data/info_ss/wrong_refs.csv')\n",
    "wg.shape"
   ]
  },
  {
   "cell_type": "code",
   "execution_count": 41,
   "metadata": {},
   "outputs": [
    {
     "name": "stdout",
     "output_type": "stream",
     "text": [
      "795\n"
     ]
    },
    {
     "data": {
      "text/plain": [
       "['278d18a7-c54b-4e1a-862b-9604abd75412',\n",
       " '6821aac5-ce59-4064-8a0a-d939892b306b',\n",
       " '92310b63-d41b-4ba2-adca-6fb49d4c0a7b']"
      ]
     },
     "execution_count": 41,
     "metadata": {},
     "output_type": "execute_result"
    }
   ],
   "source": [
    "uwrg = wg['child_uuid'].unique()\n",
    "uwrg = uwrg.tolist()\n",
    "print(len(uwrg))\n",
    "uwrg[:3]"
   ]
  },
  {
   "cell_type": "code",
   "execution_count": 53,
   "metadata": {},
   "outputs": [],
   "source": [
    "all_paper = []\n",
    "for wrg in uwrg:\n",
    "\tl = g.levelOrderIdsOnly(root=wrg)\n",
    "\t# print(f\"total levels: {len(l)}\")\n",
    "\tfor i, level in enumerate(l):\n",
    "\t\t# print(f\"level {i}: {len(level)}\")\n",
    "\t\tall_paper.extend(level)\n"
   ]
  },
  {
   "cell_type": "code",
   "execution_count": 54,
   "metadata": {},
   "outputs": [
    {
     "data": {
      "text/plain": [
       "1167"
      ]
     },
     "execution_count": 54,
     "metadata": {},
     "output_type": "execute_result"
    }
   ],
   "source": [
    "len(all_paper)\n"
   ]
  },
  {
   "cell_type": "code",
   "execution_count": 60,
   "metadata": {},
   "outputs": [
    {
     "data": {
      "text/plain": [
       "(24750, 18)"
      ]
     },
     "execution_count": 60,
     "metadata": {},
     "output_type": "execute_result"
    }
   ],
   "source": [
    "inf=inf[~inf['uuid'].isin(uwrg)]\n",
    "inf.shape\n"
   ]
  },
  {
   "cell_type": "code",
   "execution_count": 25,
   "metadata": {},
   "outputs": [
    {
     "data": {
      "text/plain": [
       "(24750, 17)"
      ]
     },
     "execution_count": 25,
     "metadata": {},
     "output_type": "execute_result"
    }
   ],
   "source": [
    "import pandas as pd\n",
    "inf = pd.read_csv('data/info_ss/info_full_ss_new.csv')\n",
    "inf.shape\n"
   ]
  },
  {
   "cell_type": "code",
   "execution_count": 32,
   "metadata": {},
   "outputs": [],
   "source": [
    "def get_parent_papers_paperid(row):\n",
    "\ttry:\n",
    "\t\tif pd.isnull(row[\"parent_id\"]):\n",
    "\t\t\treturn None\n",
    "\n",
    "\t\tparent = im.get_info_keys_by_uuid(row[\"parent_id\"], [\n",
    "                    'paper_id'])\n",
    "\t\tparents_paperid = parent['paper_id']\n",
    "\t\treturn parents_paperid\n",
    "\texcept Exception as e:\n",
    "\t\t# print(row)\n",
    "\t\tpass\n"
   ]
  },
  {
   "cell_type": "code",
   "execution_count": 33,
   "metadata": {},
   "outputs": [],
   "source": [
    "inf['parent_paper_id'] = inf.apply(get_parent_papers_paperid, axis=1)\n"
   ]
  },
  {
   "cell_type": "code",
   "execution_count": 35,
   "metadata": {},
   "outputs": [
    {
     "data": {
      "text/plain": [
       "(363, 18)"
      ]
     },
     "execution_count": 35,
     "metadata": {},
     "output_type": "execute_result"
    }
   ],
   "source": [
    "inf[inf['parent_paper_id'].isnull()].iloc[1:].shape\n"
   ]
  },
  {
   "cell_type": "code",
   "execution_count": 36,
   "metadata": {},
   "outputs": [
    {
     "data": {
      "text/plain": [
       "(24386, 18)"
      ]
     },
     "execution_count": 36,
     "metadata": {},
     "output_type": "execute_result"
    }
   ],
   "source": [
    "inf = inf.iloc[1:]\n",
    "inf[~inf['parent_paper_id'].isnull()].shape\n"
   ]
  },
  {
   "cell_type": "code",
   "execution_count": 38,
   "metadata": {},
   "outputs": [
    {
     "data": {
      "text/plain": [
       "(24386, 18)"
      ]
     },
     "execution_count": 38,
     "metadata": {},
     "output_type": "execute_result"
    }
   ],
   "source": [
    "inf = inf[~inf['parent_paper_id'].isnull()]\n",
    "inf.shape"
   ]
  },
  {
   "cell_type": "code",
   "execution_count": 39,
   "metadata": {},
   "outputs": [],
   "source": [
    "inf.to_csv('data/info_ss/info_full_ss_new.csv', index=False)"
   ]
  },
  {
   "cell_type": "markdown",
   "metadata": {},
   "source": [
    "### analyze graph"
   ]
  },
  {
   "cell_type": "code",
   "execution_count": 62,
   "metadata": {},
   "outputs": [],
   "source": [
    "inf.to_csv(\"data/info_ss/info_full_ss.csv\", index=False)"
   ]
  },
  {
   "cell_type": "code",
   "execution_count": 25,
   "metadata": {},
   "outputs": [
    {
     "data": {
      "text/plain": [
       "['8bde6cb8-296d-4593-883f-b768103e1e69',\n",
       " 'ade6eb61-946a-49f3-835d-74804cb9de3e',\n",
       " 'be2af112-6c57-4598-9813-d02fff71055b']"
      ]
     },
     "execution_count": 25,
     "metadata": {},
     "output_type": "execute_result"
    }
   ],
   "source": [
    "all_papers_upto_l3 = [p for p in l[0] + l[1] +l[2] ]\n",
    "all_papers_upto_l3[:3]"
   ]
  },
  {
   "cell_type": "code",
   "execution_count": 58,
   "metadata": {},
   "outputs": [
    {
     "data": {
      "text/plain": [
       "(25545, 18)"
      ]
     },
     "execution_count": 58,
     "metadata": {},
     "output_type": "execute_result"
    }
   ],
   "source": [
    "inf = pd.read_csv('data/info_ss/info_full_ss.csv')\n",
    "inf.shape"
   ]
  },
  {
   "cell_type": "code",
   "execution_count": 27,
   "metadata": {},
   "outputs": [
    {
     "data": {
      "text/plain": [
       "(1096, 18)"
      ]
     },
     "execution_count": 27,
     "metadata": {},
     "output_type": "execute_result"
    }
   ],
   "source": [
    "inf[inf['uuid'].isin(all_papers_upto_l3)].shape"
   ]
  },
  {
   "cell_type": "code",
   "execution_count": 28,
   "metadata": {},
   "outputs": [
    {
     "data": {
      "text/plain": [
       "33837"
      ]
     },
     "execution_count": 28,
     "metadata": {},
     "output_type": "execute_result"
    }
   ],
   "source": [
    "inf[inf['uuid'].isin(all_papers_upto_l3)]['reference_count'].sum()"
   ]
  },
  {
   "cell_type": "code",
   "execution_count": 40,
   "metadata": {},
   "outputs": [
    {
     "data": {
      "text/plain": [
       "(8431, 4)"
      ]
     },
     "execution_count": 40,
     "metadata": {},
     "output_type": "execute_result"
    }
   ],
   "source": [
    "wt = pd.read_csv(\"data/info_ss/waiting_ss.csv\")\n",
    "wt.shape"
   ]
  },
  {
   "cell_type": "code",
   "execution_count": 84,
   "metadata": {},
   "outputs": [
    {
     "data": {
      "text/plain": [
       "(25545, 18)"
      ]
     },
     "execution_count": 84,
     "metadata": {},
     "output_type": "execute_result"
    }
   ],
   "source": [
    "inf.shape"
   ]
  },
  {
   "cell_type": "markdown",
   "metadata": {},
   "source": [
    "## Cross - Check"
   ]
  },
  {
   "cell_type": "code",
   "execution_count": 3,
   "metadata": {},
   "outputs": [
    {
     "data": {
      "text/plain": [
       "(24750, 17)"
      ]
     },
     "execution_count": 3,
     "metadata": {},
     "output_type": "execute_result"
    }
   ],
   "source": [
    "inf = pd.read_csv(\"data/info_ss/info_full_ss.csv\")\n",
    "inf.shape"
   ]
  },
  {
   "cell_type": "code",
   "execution_count": 5,
   "metadata": {},
   "outputs": [
    {
     "data": {
      "text/plain": [
       "1"
      ]
     },
     "execution_count": 5,
     "metadata": {},
     "output_type": "execute_result"
    }
   ],
   "source": [
    "inf.duplicated(subset=['uuid']).sum()"
   ]
  },
  {
   "cell_type": "code",
   "execution_count": 6,
   "metadata": {},
   "outputs": [
    {
     "name": "stdout",
     "output_type": "stream",
     "text": [
      "26367\n",
      "['8bde6cb8-296d-4593-883f-b768103e1e69', 'ade6eb61-946a-49f3-835d-74804cb9de3e']\n"
     ]
    }
   ],
   "source": [
    "infUuids = inf['uuid'].to_list()\n",
    "print(len(infUuids))\n",
    "print(infUuids[:2])"
   ]
  },
  {
   "cell_type": "code",
   "execution_count": 16,
   "metadata": {},
   "outputs": [
    {
     "data": {
      "text/plain": [
       "(8431, 4)"
      ]
     },
     "execution_count": 16,
     "metadata": {},
     "output_type": "execute_result"
    }
   ],
   "source": [
    "wt = pd.read_csv(\"data/info_ss/waiting_ss.csv\")\n",
    "wt.shape"
   ]
  },
  {
   "cell_type": "code",
   "execution_count": 17,
   "metadata": {},
   "outputs": [
    {
     "data": {
      "text/plain": [
       "0"
      ]
     },
     "execution_count": 17,
     "metadata": {},
     "output_type": "execute_result"
    }
   ],
   "source": [
    "wt.duplicated(subset=['uuid']).sum()"
   ]
  },
  {
   "cell_type": "code",
   "execution_count": 15,
   "metadata": {},
   "outputs": [
    {
     "data": {
      "text/plain": [
       "(0, 4)"
      ]
     },
     "execution_count": 15,
     "metadata": {},
     "output_type": "execute_result"
    }
   ],
   "source": [
    "wt[wt['uuid'].isin(infUuids)].shape"
   ]
  },
  {
   "cell_type": "code",
   "execution_count": 12,
   "metadata": {},
   "outputs": [
    {
     "data": {
      "text/plain": [
       "(8431, 4)"
      ]
     },
     "execution_count": 12,
     "metadata": {},
     "output_type": "execute_result"
    }
   ],
   "source": [
    "wt = wt[~wt['uuid'].isin(infUuids)]\n",
    "wt.shape\n"
   ]
  },
  {
   "cell_type": "code",
   "execution_count": 13,
   "metadata": {},
   "outputs": [],
   "source": [
    "wt.to_csv(\"data/info_ss/waiting_ss.csv\", index=False)"
   ]
  },
  {
   "cell_type": "code",
   "execution_count": 69,
   "metadata": {},
   "outputs": [
    {
     "data": {
      "text/plain": [
       "['f6e588ee-31ea-4510-a3bf-cba617cfd9ba',\n",
       " 'aaa698a9-3da4-4048-8d5d-180cb0afbe2d']"
      ]
     },
     "execution_count": 69,
     "metadata": {},
     "output_type": "execute_result"
    }
   ],
   "source": [
    "l[3][:2]"
   ]
  },
  {
   "cell_type": "code",
   "execution_count": 8,
   "metadata": {},
   "outputs": [
    {
     "data": {
      "text/plain": [
       "(19074, 4)"
      ]
     },
     "execution_count": 8,
     "metadata": {},
     "output_type": "execute_result"
    }
   ],
   "source": [
    "forL2 = wt[wt['parent_id'].isin(l[2])]\n",
    "forL2.shape"
   ]
  },
  {
   "cell_type": "code",
   "execution_count": 90,
   "metadata": {},
   "outputs": [
    {
     "data": {
      "text/plain": [
       "(15419, 4)"
      ]
     },
     "execution_count": 90,
     "metadata": {},
     "output_type": "execute_result"
    }
   ],
   "source": [
    "forL2[forL2['paper_id'].notnull()].shape"
   ]
  },
  {
   "cell_type": "code",
   "execution_count": 85,
   "metadata": {},
   "outputs": [
    {
     "data": {
      "text/plain": [
       "(23840, 4)"
      ]
     },
     "execution_count": 85,
     "metadata": {},
     "output_type": "execute_result"
    }
   ],
   "source": [
    "wt[wt['parent_id'].isin(l[0] + l[1] + l[2])].shape"
   ]
  },
  {
   "cell_type": "code",
   "execution_count": 75,
   "metadata": {},
   "outputs": [
    {
     "data": {
      "text/plain": [
       "(23910, 4)"
      ]
     },
     "execution_count": 75,
     "metadata": {},
     "output_type": "execute_result"
    }
   ],
   "source": [
    "wt = wt[wt['parent_id'].isin(l[0] + l[1] + l[2] + l[3][:5])]\n",
    "wt.shape"
   ]
  },
  {
   "cell_type": "code",
   "execution_count": 76,
   "metadata": {},
   "outputs": [],
   "source": [
    "wt.to_csv(\"data/info_ss/waiting_ss.csv\", index=False)"
   ]
  },
  {
   "cell_type": "code",
   "execution_count": null,
   "metadata": {},
   "outputs": [],
   "source": []
  },
  {
   "cell_type": "markdown",
   "metadata": {},
   "source": [
    "## Info Recover"
   ]
  },
  {
   "cell_type": "code",
   "execution_count": 16,
   "metadata": {},
   "outputs": [
    {
     "data": {
      "text/plain": [
       "(183, 6)"
      ]
     },
     "execution_count": 16,
     "metadata": {},
     "output_type": "execute_result"
    }
   ],
   "source": [
    "paper = pd.read_csv(\"data/info_recover/not_found.csv\")\n",
    "paper.shape"
   ]
  },
  {
   "cell_type": "code",
   "execution_count": 15,
   "metadata": {},
   "outputs": [
    {
     "data": {
      "text/plain": [
       "(183, 6)"
      ]
     },
     "execution_count": 15,
     "metadata": {},
     "output_type": "execute_result"
    }
   ],
   "source": [
    "paper[paper['download_link']=='No links found'].shape"
   ]
  },
  {
   "cell_type": "code",
   "execution_count": 21,
   "metadata": {},
   "outputs": [
    {
     "data": {
      "text/plain": [
       "(35, 6)"
      ]
     },
     "execution_count": 21,
     "metadata": {},
     "output_type": "execute_result"
    }
   ],
   "source": [
    "paper[(paper['download_link']!='No links found;Processed') | (paper['download_link']=='No links found')].shape"
   ]
  },
  {
   "cell_type": "code",
   "execution_count": 10,
   "metadata": {},
   "outputs": [
    {
     "data": {
      "text/plain": [
       "Index(['uuid', 'paper_id', 'title', 'paper_link', 'doi', 'download_link'], dtype='object')"
      ]
     },
     "execution_count": 10,
     "metadata": {},
     "output_type": "execute_result"
    }
   ],
   "source": [
    "paper.columns"
   ]
  },
  {
   "cell_type": "code",
   "execution_count": 11,
   "metadata": {},
   "outputs": [
    {
     "data": {
      "text/plain": [
       "[{'uuid': '3fd01299-134c-43f0-83c7-24427c18bb5c',\n",
       "  'paper_id': 'ee800bab67e177e4676578f621db59a0faa736cd',\n",
       "  'title': 'Human-competitive automatic topic indexing',\n",
       "  'paper_link': 'https://www.semanticscholar.org/paper/ee800bab67e177e4676578f621db59a0faa736cd',\n",
       "  'doi': nan,\n",
       "  'download_link': 'No links found'},\n",
       " {'uuid': '2e260db8-e653-4d24-8c45-780d139097c7',\n",
       "  'paper_id': '7b04a11fecf21832194cc2f1b03bebb69c399443',\n",
       "  'title': 'Crawling the web : discovery and maintenance of large-scale web data',\n",
       "  'paper_link': 'https://www.semanticscholar.org/paper/7b04a11fecf21832194cc2f1b03bebb69c399443',\n",
       "  'doi': nan,\n",
       "  'download_link': 'No links found'}]"
      ]
     },
     "execution_count": 11,
     "metadata": {},
     "output_type": "execute_result"
    }
   ],
   "source": [
    "paper.to_dict('records')[:2]"
   ]
  },
  {
   "cell_type": "code",
   "execution_count": 12,
   "metadata": {},
   "outputs": [
    {
     "data": {
      "text/html": [
       "<div>\n",
       "<style scoped>\n",
       "    .dataframe tbody tr th:only-of-type {\n",
       "        vertical-align: middle;\n",
       "    }\n",
       "\n",
       "    .dataframe tbody tr th {\n",
       "        vertical-align: top;\n",
       "    }\n",
       "\n",
       "    .dataframe thead th {\n",
       "        text-align: right;\n",
       "    }\n",
       "</style>\n",
       "<table border=\"1\" class=\"dataframe\">\n",
       "  <thead>\n",
       "    <tr style=\"text-align: right;\">\n",
       "      <th></th>\n",
       "      <th>uuid</th>\n",
       "      <th>paper_id</th>\n",
       "      <th>title</th>\n",
       "      <th>paper_link</th>\n",
       "      <th>doi</th>\n",
       "      <th>download_link</th>\n",
       "    </tr>\n",
       "  </thead>\n",
       "  <tbody>\n",
       "    <tr>\n",
       "      <th>0</th>\n",
       "      <td>3fd01299-134c-43f0-83c7-24427c18bb5c</td>\n",
       "      <td>ee800bab67e177e4676578f621db59a0faa736cd</td>\n",
       "      <td>Human-competitive automatic topic indexing</td>\n",
       "      <td>https://www.semanticscholar.org/paper/ee800bab...</td>\n",
       "      <td>NaN</td>\n",
       "      <td>New</td>\n",
       "    </tr>\n",
       "    <tr>\n",
       "      <th>1</th>\n",
       "      <td>2e260db8-e653-4d24-8c45-780d139097c7</td>\n",
       "      <td>7b04a11fecf21832194cc2f1b03bebb69c399443</td>\n",
       "      <td>Crawling the web : discovery and maintenance o...</td>\n",
       "      <td>https://www.semanticscholar.org/paper/7b04a11f...</td>\n",
       "      <td>NaN</td>\n",
       "      <td>No links found</td>\n",
       "    </tr>\n",
       "  </tbody>\n",
       "</table>\n",
       "</div>"
      ],
      "text/plain": [
       "                                   uuid  \\\n",
       "0  3fd01299-134c-43f0-83c7-24427c18bb5c   \n",
       "1  2e260db8-e653-4d24-8c45-780d139097c7   \n",
       "\n",
       "                                   paper_id  \\\n",
       "0  ee800bab67e177e4676578f621db59a0faa736cd   \n",
       "1  7b04a11fecf21832194cc2f1b03bebb69c399443   \n",
       "\n",
       "                                               title  \\\n",
       "0         Human-competitive automatic topic indexing   \n",
       "1  Crawling the web : discovery and maintenance o...   \n",
       "\n",
       "                                          paper_link  doi   download_link  \n",
       "0  https://www.semanticscholar.org/paper/ee800bab...  NaN             New  \n",
       "1  https://www.semanticscholar.org/paper/7b04a11f...  NaN  No links found  "
      ]
     },
     "execution_count": 12,
     "metadata": {},
     "output_type": "execute_result"
    }
   ],
   "source": [
    "# replace\n",
    "paper.loc[paper['uuid'] ==\n",
    "          '3fd01299-134c-43f0-83c7-24427c18bb5c', \"download_link\"] = \"New\"\n",
    "paper.head(n=2)"
   ]
  },
  {
   "cell_type": "markdown",
   "metadata": {},
   "source": [
    "## Misc."
   ]
  },
  {
   "cell_type": "code",
   "execution_count": 6,
   "metadata": {},
   "outputs": [
    {
     "data": {
      "text/plain": [
       "((24750, 18),\n",
       " Index(['uuid', 'paper_id', 'parent_id', 'title', 'reference_count',\n",
       "        'citation_count', 'influential_citation_count', 'published_date',\n",
       "        'paper_type', 'venue', 'isOpenAccess', 'abstract', 'paper_link', 'doi',\n",
       "        'download_link', 'tldl', 'embedding', 'downloaded'],\n",
       "       dtype='object'))"
      ]
     },
     "execution_count": 6,
     "metadata": {},
     "output_type": "execute_result"
    }
   ],
   "source": [
    "inf = pd.read_csv(\"data/info_ss/info_full_ss.csv\")\n",
    "inf.shape, inf.columns"
   ]
  },
  {
   "cell_type": "code",
   "execution_count": 7,
   "metadata": {},
   "outputs": [
    {
     "data": {
      "text/plain": [
       "(Index(['uuid', 'paper_id', 'parent_id', 'title', 'reference_count',\n",
       "        'citation_count', 'influential_citation_count', 'published_date',\n",
       "        'paper_type', 'venue', 'isOpenAccess', 'abstract', 'paper_link', 'doi',\n",
       "        'download_link', 'tldl', 'embedding'],\n",
       "       dtype='object'),\n",
       " (24750, 17))"
      ]
     },
     "execution_count": 7,
     "metadata": {},
     "output_type": "execute_result"
    }
   ],
   "source": [
    "inf.drop(columns=['downloaded'], inplace=True)\n",
    "inf.columns, inf.shape\n"
   ]
  },
  {
   "cell_type": "code",
   "execution_count": 8,
   "metadata": {},
   "outputs": [],
   "source": [
    "inf.to_csv(\"data/info_ss/info_full_ss.csv\", index=False)"
   ]
  },
  {
   "cell_type": "code",
   "execution_count": 9,
   "metadata": {},
   "outputs": [
    {
     "data": {
      "text/plain": [
       "((24750, 17),\n",
       " Index(['uuid', 'paper_id', 'parent_id', 'title', 'reference_count',\n",
       "        'citation_count', 'influential_citation_count', 'published_date',\n",
       "        'paper_type', 'venue', 'isOpenAccess', 'abstract', 'paper_link', 'doi',\n",
       "        'download_link', 'tldl', 'embedding'],\n",
       "       dtype='object'))"
      ]
     },
     "execution_count": 9,
     "metadata": {},
     "output_type": "execute_result"
    }
   ],
   "source": [
    "inf = pd.read_csv(\"data/info_ss/info_full_ss.csv\")\n",
    "inf.shape, inf.columns\n"
   ]
  }
 ],
 "metadata": {
  "interpreter": {
   "hash": "13a64c48d63ab7fa89dd239a6172cf842d756bd82fcb4ba948a9115b41dc50a1"
  },
  "kernelspec": {
   "display_name": "Python 3.9.7 ('base')",
   "language": "python",
   "name": "python3"
  },
  "language_info": {
   "codemirror_mode": {
    "name": "ipython",
    "version": 3
   },
   "file_extension": ".py",
   "mimetype": "text/x-python",
   "name": "python",
   "nbconvert_exporter": "python",
   "pygments_lexer": "ipython3",
   "version": "3.9.7"
  },
  "orig_nbformat": 4
 },
 "nbformat": 4,
 "nbformat_minor": 2
}
